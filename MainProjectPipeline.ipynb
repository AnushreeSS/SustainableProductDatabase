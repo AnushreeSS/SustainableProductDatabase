{
 "cells": [
  {
   "cell_type": "markdown",
   "id": "6d2fa581",
   "metadata": {
    "slideshow": {
     "slide_type": "slide"
    }
   },
   "source": [
    "# MSc. Project\n",
    "\n",
    "## Title: Creating an Integrated Green Product Database\n",
    "\n",
    "### Type: Exploratory Software\n",
    "\n",
    "#### By: Anushree Sarvey Sathish (sc22a2ss@leeds.ac.uk)"
   ]
  },
  {
   "cell_type": "markdown",
   "id": "5df1705a",
   "metadata": {
    "slideshow": {
     "slide_type": "subslide"
    }
   },
   "source": [
    "### Problem Statement\n",
    "- Growing global concern about the impact of products on the planet.\n",
    "- Consumers want to make informed choices about the products they purchase and are seeking green/sustainable products.\n",
    "- **Lack of reliable and readily available green product data** along with its sustainability credentials.\n",
    "\n",
    "### Benefits of Green Product Database:\n",
    "- Consumers can make informed decisions about the products they purchase.\n",
    "- Businesses can develop and market green products.\n",
    "- Governments can track the progress of green initiatives.\n",
    "- Researchers can study the impact of green products on the environment.\n",
    "- Educators can teach students about green products."
   ]
  },
  {
   "cell_type": "markdown",
   "id": "50501017",
   "metadata": {
    "slideshow": {
     "slide_type": "subslide"
    }
   },
   "source": [
    "\n",
    "### Project Aim\n",
    "Create **Green Product Database** which contains _product data_ like title, description, price, brand, etc and _sustainability information_ on various categories like environment, health, quality and social.\n",
    "\n",
    "### Objectives\n",
    "- Identify product data with descriptions that can help in identifying the sustainability information of the product.\n",
    "- Identify source of sustainability information. \n",
    "- Identify suitable techniques to map each product with their sustainability labels. \n",
    "- Build a pipeline to use the product data, sustainability information and map the two to create the Green products dataset. \n",
    "- Demonstrate the usage of the database through case studies."
   ]
  },
  {
   "cell_type": "markdown",
   "id": "5e6972ed",
   "metadata": {
    "slideshow": {
     "slide_type": "subslide"
    }
   },
   "source": [
    "### Solution\n",
    "\n",
    "- [X] Identify product data with descriptions - **Amazon Product Data**\n",
    "- [X] Identify source of sustainability information - **ASSET Ontology Data**\n",
    "- [X] Keyword Extraction - Identify relavant tags from product descriptions - TF-IDF\n",
    "- [X] Mapping Keywords - Map idenitified keywords with sustainability factors - Ontology-based computation\n",
    "- [ ] Evaluation - Case Studies (Comparitive Analysis, Evaluation of Classification Model)\n"
   ]
  },
  {
   "cell_type": "markdown",
   "id": "949af27e",
   "metadata": {
    "slideshow": {
     "slide_type": "subslide"
    }
   },
   "source": [
    "## Deliverables\n",
    " - Green Product Database (Sqlite3)\n",
    " - Data Pipeline Modules\n",
    " - Two Sample Data Pipelines (for 2 different data sources)"
   ]
  },
  {
   "cell_type": "markdown",
   "id": "653a14d3",
   "metadata": {
    "slideshow": {
     "slide_type": "slide"
    }
   },
   "source": [
    "### Project Pipeline\n",
    "<center><img src=\"ProjectDataPipeline.drawio.png\" width=\"100%\"/></center>\n"
   ]
  },
  {
   "cell_type": "markdown",
   "id": "c256760b",
   "metadata": {
    "slideshow": {
     "slide_type": "subslide"
    }
   },
   "source": [
    "### Green Product Database Schema\n",
    "\n",
    "<center><img src=\"DBSchema1.svg\" width=\"50%\"/></center>"
   ]
  },
  {
   "cell_type": "markdown",
   "id": "53067be2",
   "metadata": {
    "slideshow": {
     "slide_type": "subslide"
    }
   },
   "source": [
    "### Ontology Data\n",
    "#### Product Tags\n",
    "Product tags are keywords extracted from product's descriptions\n",
    "\n",
    "Example:<br>\n",
    "__Product Title__ - *uncle bens whole grain brown rice bag lb* <br>\n",
    "__Product Description__ - *discover a delicious way to support a healthy heart and a wellbalanced diet this flavorful  whole grain brown rice is __low in fat__ high in flavor and a natural source of fiber use our whole grain brown rice in your favorite rice dishes from rice pilaf and jambalaya to stirfry rice recipesand everything inbetween uncle bens whole grain brown rice is __gluten free__ sodium free and __cholesterol free__ and contains zero grams of trans fat and no saturated fat so it is a choice you can feel good about when you start your meal with uncle bens rice its easy to cook a tasty wholesome meal that everyone will enjoy diets __low in saturated fats__ and cholesterol may reduce the risk of heart disease whole grain brown parboiled rice*\n",
    "\n",
    "__Product Tags__ - *low fat*, *gluten free*, *cholesterol free*, *low saturated fats*\n"
   ]
  },
  {
   "cell_type": "markdown",
   "id": "1aa263b8",
   "metadata": {
    "slideshow": {
     "slide_type": "subslide"
    }
   },
   "source": [
    "### Sustainbility Preferences\n",
    "These are sustaibility goals under different dimensions - environment, health, quality, social\n",
    "\n",
    "Example:\n",
    "\n",
    "- *Products without preservatives* - Health category\n",
    "- *Products disposed in an environmentally friendly way (e.g. bio-degradable or recyclable packaging)* - Environment category\n",
    "- *Fresh products* - Quality category\n",
    "- *Products from companies that support animal rights protection* - Social category\n"
   ]
  },
  {
   "cell_type": "markdown",
   "id": "1e2aacf8",
   "metadata": {
    "slideshow": {
     "slide_type": "subslide"
    }
   },
   "source": [
    "### Associations\n",
    "\n",
    "Relation between product and preference tags. This relation can be positive or negative.\n",
    "\n",
    "Example:\n",
    "\n",
    "- Preference tag \"*vegan*\" - __positive association__ -> product tag \"*plant based product*\"\n",
    "\n",
    "- Preference tag \"*vegan*\" - __negative association__ -> product tag \"*contains egg*\""
   ]
  },
  {
   "cell_type": "markdown",
   "id": "e8095a4d",
   "metadata": {
    "slideshow": {
     "slide_type": "subslide"
    }
   },
   "source": [
    "### Amazon Data\n",
    "\n",
    "Dataset Link - https://cseweb.ucsd.edu/~jmcauley/datasets/amazon_v2/ \n",
    "\n",
    "|Dataset Feature|Value|\n",
    "|---|---|\n",
    "|Products Category|Grocery_and_Gourmet_Food|\n",
    "|Number of columns|18|\n",
    "|Number of records|287,051| "
   ]
  },
  {
   "cell_type": "markdown",
   "id": "dfb55afd",
   "metadata": {
    "slideshow": {
     "slide_type": "skip"
    }
   },
   "source": [
    "### Import Required Modules"
   ]
  },
  {
   "cell_type": "code",
   "execution_count": 1,
   "id": "b64c8de0",
   "metadata": {
    "slideshow": {
     "slide_type": "skip"
    }
   },
   "outputs": [],
   "source": [
    "import pandas as pd\n",
    "import numpy as np\n",
    "import json\n",
    "import re\n",
    "import html\n",
    "import import_ipynb\n"
   ]
  },
  {
   "cell_type": "markdown",
   "id": "10aff24a",
   "metadata": {
    "slideshow": {
     "slide_type": "slide"
    }
   },
   "source": [
    "## Amazon Data"
   ]
  },
  {
   "cell_type": "markdown",
   "id": "2e5f024a",
   "metadata": {
    "slideshow": {
     "slide_type": "skip"
    }
   },
   "source": [
    "### Reading Amazon Data"
   ]
  },
  {
   "cell_type": "code",
   "execution_count": 2,
   "id": "79fe0742",
   "metadata": {
    "slideshow": {
     "slide_type": "skip"
    }
   },
   "outputs": [
    {
     "name": "stdout",
     "output_type": "stream",
     "text": [
      "Number of columns: 19 | Number of records= 287051\n",
      "Columns in amazon dataset: ['category', 'tech1', 'description', 'fit', 'title', 'also_buy', 'tech2', 'brand', 'feature', 'rank', 'also_view', 'main_cat', 'similar_item', 'date', 'price', 'asin', 'imageURL', 'imageURLHighRes', 'details']\n"
     ]
    }
   ],
   "source": [
    "AMAZON_DATA_FILE_PATH = \"..\\..\\AmazonReviewMetadata\\\\meta_Grocery_and_Gourmet_Food.json\"\n",
    "data = []\n",
    "with open(AMAZON_DATA_FILE_PATH) as f:\n",
    "    for line in f:\n",
    "        data.append(json.loads(line.strip()))\n",
    "amazon_data = pd.DataFrame.from_dict(data)\n",
    "print(f\"Number of columns: {amazon_data.shape[1]} | Number of records= {amazon_data.shape[0]}\")\n",
    "print(f\"Columns in amazon dataset: {list(amazon_data.columns)}\")"
   ]
  },
  {
   "cell_type": "markdown",
   "id": "4ca2f05e",
   "metadata": {
    "slideshow": {
     "slide_type": "subslide"
    }
   },
   "source": [
    "### Data Overview"
   ]
  },
  {
   "cell_type": "code",
   "execution_count": 3,
   "id": "4fd5d99f",
   "metadata": {
    "slideshow": {
     "slide_type": "subslide"
    }
   },
   "outputs": [
    {
     "name": "stdout",
     "output_type": "stream",
     "text": [
      "<class 'pandas.core.frame.DataFrame'>\n",
      "RangeIndex: 287051 entries, 0 to 287050\n",
      "Data columns (total 19 columns):\n",
      " #   Column           Non-Null Count   Dtype \n",
      "---  ------           --------------   ----- \n",
      " 0   category         287051 non-null  object\n",
      " 1   tech1            287051 non-null  object\n",
      " 2   description      287051 non-null  object\n",
      " 3   fit              287051 non-null  object\n",
      " 4   title            287051 non-null  object\n",
      " 5   also_buy         287051 non-null  object\n",
      " 6   tech2            287051 non-null  object\n",
      " 7   brand            287051 non-null  object\n",
      " 8   feature          287051 non-null  object\n",
      " 9   rank             287051 non-null  object\n",
      " 10  also_view        287051 non-null  object\n",
      " 11  main_cat         287051 non-null  object\n",
      " 12  similar_item     287051 non-null  object\n",
      " 13  date             287051 non-null  object\n",
      " 14  price            287051 non-null  object\n",
      " 15  asin             287051 non-null  object\n",
      " 16  imageURL         287051 non-null  object\n",
      " 17  imageURLHighRes  287051 non-null  object\n",
      " 18  details          287027 non-null  object\n",
      "dtypes: object(19)\n",
      "memory usage: 41.6+ MB\n"
     ]
    }
   ],
   "source": [
    "amazon_data.info()"
   ]
  },
  {
   "cell_type": "code",
   "execution_count": 4,
   "id": "6b847f8e",
   "metadata": {},
   "outputs": [
    {
     "name": "stdout",
     "output_type": "stream",
     "text": [
      "1487 1\n"
     ]
    }
   ],
   "source": [
    "length = amazon_data[\"description\"].apply(lambda z: len(str(z).split()))\n",
    "print(max(length), min(length))"
   ]
  },
  {
   "cell_type": "code",
   "execution_count": 5,
   "id": "de533814",
   "metadata": {},
   "outputs": [
    {
     "name": "stdout",
     "output_type": "stream",
     "text": [
      "1487 1\n"
     ]
    }
   ],
   "source": [
    "length = amazon_data[\"description\"].apply(lambda z: len(str(z).split()))\n",
    "print(max(length), min(length))"
   ]
  },
  {
   "cell_type": "code",
   "execution_count": 6,
   "id": "dd938983",
   "metadata": {
    "slideshow": {
     "slide_type": "skip"
    }
   },
   "outputs": [
    {
     "data": {
      "text/html": [
       "<div>\n",
       "<style scoped>\n",
       "    .dataframe tbody tr th:only-of-type {\n",
       "        vertical-align: middle;\n",
       "    }\n",
       "\n",
       "    .dataframe tbody tr th {\n",
       "        vertical-align: top;\n",
       "    }\n",
       "\n",
       "    .dataframe thead th {\n",
       "        text-align: right;\n",
       "    }\n",
       "</style>\n",
       "<table border=\"1\" class=\"dataframe\">\n",
       "  <thead>\n",
       "    <tr style=\"text-align: right;\">\n",
       "      <th></th>\n",
       "      <th>category</th>\n",
       "      <th>tech1</th>\n",
       "      <th>description</th>\n",
       "      <th>fit</th>\n",
       "      <th>title</th>\n",
       "      <th>also_buy</th>\n",
       "      <th>tech2</th>\n",
       "      <th>brand</th>\n",
       "      <th>feature</th>\n",
       "      <th>rank</th>\n",
       "      <th>also_view</th>\n",
       "      <th>main_cat</th>\n",
       "      <th>similar_item</th>\n",
       "      <th>date</th>\n",
       "      <th>price</th>\n",
       "      <th>asin</th>\n",
       "      <th>imageURL</th>\n",
       "      <th>imageURLHighRes</th>\n",
       "      <th>details</th>\n",
       "    </tr>\n",
       "  </thead>\n",
       "  <tbody>\n",
       "    <tr>\n",
       "      <th>0</th>\n",
       "      <td>[Grocery &amp; Gourmet Food, Dairy, Cheese &amp; Eggs,...</td>\n",
       "      <td></td>\n",
       "      <td>[BEEMSTER GOUDA CHEESE AGED 18/24 MONTHS, Stat...</td>\n",
       "      <td></td>\n",
       "      <td>Beemster Gouda - Aged 18/24 Months - App. 1.5 Lbs</td>\n",
       "      <td>[]</td>\n",
       "      <td></td>\n",
       "      <td>Ariola Imports</td>\n",
       "      <td>[]</td>\n",
       "      <td>165,181 in Grocery &amp; Gourmet Food (</td>\n",
       "      <td>[B0000D9MYM, B0000D9MYL, B00ADHIGBA, B00H9OX59...</td>\n",
       "      <td>Grocery</td>\n",
       "      <td></td>\n",
       "      <td></td>\n",
       "      <td>$41.91</td>\n",
       "      <td>0681727810</td>\n",
       "      <td>[]</td>\n",
       "      <td>[]</td>\n",
       "      <td>NaN</td>\n",
       "    </tr>\n",
       "    <tr>\n",
       "      <th>1</th>\n",
       "      <td>[Grocery &amp; Gourmet Food, Cooking &amp; Baking, Sug...</td>\n",
       "      <td></td>\n",
       "      <td>[Shipped from UK, please allow 10 to 21 busine...</td>\n",
       "      <td></td>\n",
       "      <td>Trim Healthy Mama Xylitol</td>\n",
       "      <td>[B01898YHXK, B01BCM6LAC, B00Q4OL47O, B00Q4OL5Q...</td>\n",
       "      <td></td>\n",
       "      <td></td>\n",
       "      <td>[]</td>\n",
       "      <td>315,867 in Grocery &amp; Gourmet Food (</td>\n",
       "      <td>[]</td>\n",
       "      <td>Grocery</td>\n",
       "      <td></td>\n",
       "      <td></td>\n",
       "      <td></td>\n",
       "      <td>0853347867</td>\n",
       "      <td>[https://images-na.ssl-images-amazon.com/image...</td>\n",
       "      <td>[https://images-na.ssl-images-amazon.com/image...</td>\n",
       "      <td>NaN</td>\n",
       "    </tr>\n",
       "  </tbody>\n",
       "</table>\n",
       "</div>"
      ],
      "text/plain": [
       "                                            category tech1  \\\n",
       "0  [Grocery & Gourmet Food, Dairy, Cheese & Eggs,...         \n",
       "1  [Grocery & Gourmet Food, Cooking & Baking, Sug...         \n",
       "\n",
       "                                         description fit  \\\n",
       "0  [BEEMSTER GOUDA CHEESE AGED 18/24 MONTHS, Stat...       \n",
       "1  [Shipped from UK, please allow 10 to 21 busine...       \n",
       "\n",
       "                                               title  \\\n",
       "0  Beemster Gouda - Aged 18/24 Months - App. 1.5 Lbs   \n",
       "1                          Trim Healthy Mama Xylitol   \n",
       "\n",
       "                                            also_buy tech2           brand  \\\n",
       "0                                                 []        Ariola Imports   \n",
       "1  [B01898YHXK, B01BCM6LAC, B00Q4OL47O, B00Q4OL5Q...                         \n",
       "\n",
       "  feature                                 rank  \\\n",
       "0      []  165,181 in Grocery & Gourmet Food (   \n",
       "1      []  315,867 in Grocery & Gourmet Food (   \n",
       "\n",
       "                                           also_view main_cat similar_item  \\\n",
       "0  [B0000D9MYM, B0000D9MYL, B00ADHIGBA, B00H9OX59...  Grocery                \n",
       "1                                                 []  Grocery                \n",
       "\n",
       "  date   price        asin                                           imageURL  \\\n",
       "0       $41.91  0681727810                                                 []   \n",
       "1               0853347867  [https://images-na.ssl-images-amazon.com/image...   \n",
       "\n",
       "                                     imageURLHighRes details  \n",
       "0                                                 []     NaN  \n",
       "1  [https://images-na.ssl-images-amazon.com/image...     NaN  "
      ]
     },
     "execution_count": 6,
     "metadata": {},
     "output_type": "execute_result"
    }
   ],
   "source": [
    "amazon_data.head(2)"
   ]
  },
  {
   "cell_type": "code",
   "execution_count": 7,
   "id": "fb195626",
   "metadata": {
    "slideshow": {
     "slide_type": "skip"
    }
   },
   "outputs": [
    {
     "data": {
      "text/html": [
       "<div>\n",
       "<style scoped>\n",
       "    .dataframe tbody tr th:only-of-type {\n",
       "        vertical-align: middle;\n",
       "    }\n",
       "\n",
       "    .dataframe tbody tr th {\n",
       "        vertical-align: top;\n",
       "    }\n",
       "\n",
       "    .dataframe thead th {\n",
       "        text-align: right;\n",
       "    }\n",
       "</style>\n",
       "<table border=\"1\" class=\"dataframe\">\n",
       "  <thead>\n",
       "    <tr style=\"text-align: right;\">\n",
       "      <th></th>\n",
       "      <th>index</th>\n",
       "      <th>main_cat</th>\n",
       "    </tr>\n",
       "  </thead>\n",
       "  <tbody>\n",
       "    <tr>\n",
       "      <th>0</th>\n",
       "      <td>Grocery</td>\n",
       "      <td>261845</td>\n",
       "    </tr>\n",
       "    <tr>\n",
       "      <th>1</th>\n",
       "      <td>Amazon Home</td>\n",
       "      <td>8953</td>\n",
       "    </tr>\n",
       "    <tr>\n",
       "      <th>2</th>\n",
       "      <td>Health &amp; Personal Care</td>\n",
       "      <td>8543</td>\n",
       "    </tr>\n",
       "    <tr>\n",
       "      <th>3</th>\n",
       "      <td>Toys &amp; Games</td>\n",
       "      <td>1934</td>\n",
       "    </tr>\n",
       "    <tr>\n",
       "      <th>4</th>\n",
       "      <td>All Beauty</td>\n",
       "      <td>1604</td>\n",
       "    </tr>\n",
       "  </tbody>\n",
       "</table>\n",
       "</div>"
      ],
      "text/plain": [
       "                    index  main_cat\n",
       "0                 Grocery    261845\n",
       "1             Amazon Home      8953\n",
       "2  Health & Personal Care      8543\n",
       "3            Toys & Games      1934\n",
       "4              All Beauty      1604"
      ]
     },
     "execution_count": 7,
     "metadata": {},
     "output_type": "execute_result"
    }
   ],
   "source": [
    "amazon_data[\"main_cat\"].value_counts().reset_index().head(5)"
   ]
  },
  {
   "cell_type": "code",
   "execution_count": 8,
   "id": "ff003e8c",
   "metadata": {
    "slideshow": {
     "slide_type": "skip"
    }
   },
   "outputs": [
    {
     "name": "stdout",
     "output_type": "stream",
     "text": [
      "Column Name          | Pandas Data Type     | Primitive Type      \n",
      "------------------------------------------------------------\n",
      "category             | object               | ['list']            \n",
      "tech1                | object               | ['str']             \n",
      "description          | object               | ['list']            \n",
      "fit                  | object               | ['str']             \n",
      "title                | object               | ['str']             \n",
      "also_buy             | object               | ['list']            \n",
      "tech2                | object               | ['str']             \n",
      "brand                | object               | ['str']             \n",
      "feature              | object               | ['list']            \n",
      "rank                 | object               | ['str', 'list']     \n",
      "also_view            | object               | ['list']            \n",
      "main_cat             | object               | ['str']             \n",
      "similar_item         | object               | ['str']             \n",
      "date                 | object               | ['str']             \n",
      "price                | object               | ['str']             \n",
      "asin                 | object               | ['str']             \n",
      "imageURL             | object               | ['list']            \n",
      "imageURLHighRes      | object               | ['list']            \n",
      "details              | object               | ['dict', 'float']   \n"
     ]
    }
   ],
   "source": [
    "# Investigating primitive type of data\n",
    "print(f\"{'Column Name':<20} | {'Pandas Data Type':<20} | {'Primitive Type':<20}\")\n",
    "print(\"-\"*60)\n",
    "amazon_data.attrs = {}\n",
    "amazon_data.attrs[\"dtype\"] = {}\n",
    "for col in amazon_data.columns:\n",
    "    primitive_types = set([type(i) for i in amazon_data[col]])\n",
    "    print(f\"{col:<20} | {str(amazon_data[col].dtype):<20} | {str([t.__name__ for t in primitive_types]):<20}\")\n",
    "    amazon_data.attrs[\"dtype\"][col] = primitive_types"
   ]
  },
  {
   "cell_type": "code",
   "execution_count": 9,
   "id": "7585113b",
   "metadata": {
    "slideshow": {
     "slide_type": "skip"
    }
   },
   "outputs": [],
   "source": [
    "# Setting empty lists and string NaN\n",
    "for col in amazon_data.columns:\n",
    "    if len(amazon_data.attrs[\"dtype\"][col])>1:\n",
    "        continue\n",
    "    if list in amazon_data.attrs[\"dtype\"][col]:\n",
    "        amazon_data[col] = amazon_data[col].apply(lambda x: np.nan if len(x)==0 else x)\n",
    "    elif str in amazon_data.attrs[\"dtype\"][col]:\n",
    "        amazon_data[col] = amazon_data[col].apply(lambda x: np.nan if len(x.strip())==0 else x)"
   ]
  },
  {
   "cell_type": "code",
   "execution_count": 10,
   "id": "607f36f0",
   "metadata": {
    "slideshow": {
     "slide_type": "skip"
    }
   },
   "outputs": [
    {
     "data": {
      "text/plain": [
       "category                0\n",
       "tech1              286307\n",
       "description         35384\n",
       "fit                287047\n",
       "title                   3\n",
       "also_buy           203757\n",
       "tech2              287051\n",
       "brand               11419\n",
       "feature            270671\n",
       "rank                    0\n",
       "also_view          166113\n",
       "main_cat             1363\n",
       "similar_item       286795\n",
       "date               277389\n",
       "price              153193\n",
       "asin                    0\n",
       "imageURL           136901\n",
       "imageURLHighRes    136901\n",
       "details                24\n",
       "dtype: int64"
      ]
     },
     "execution_count": 10,
     "metadata": {},
     "output_type": "execute_result"
    }
   ],
   "source": [
    "amazon_data.isna().sum()"
   ]
  },
  {
   "cell_type": "code",
   "execution_count": 11,
   "id": "2503e224",
   "metadata": {
    "slideshow": {
     "slide_type": "skip"
    }
   },
   "outputs": [
    {
     "data": {
      "text/plain": [
       "Unknown                  1780\n",
       "Black Tie Mercantile     1458\n",
       "Trader Joe's             1234\n",
       "McCormick                1041\n",
       "The Nutty Fruit House     998\n",
       "Name: brand, dtype: int64"
      ]
     },
     "execution_count": 11,
     "metadata": {},
     "output_type": "execute_result"
    }
   ],
   "source": [
    "amazon_data[\"brand\"].value_counts().head(5)"
   ]
  },
  {
   "cell_type": "code",
   "execution_count": 12,
   "id": "cd90d380",
   "metadata": {
    "slideshow": {
     "slide_type": "skip"
    }
   },
   "outputs": [
    {
     "data": {
      "text/plain": [
       "[Grocery & Gourmet Food, Beverages, Coffee, Tea & Cocoa, Tea, Tea Samplers]                                        7609\n",
       "[Grocery & Gourmet Food, Candy & Chocolate, Candy & Chocolate Bars]                                                7512\n",
       "[Grocery & Gourmet Food, Beverages, Coffee, Tea & Cocoa, Coffee, Single-Serve Capsules & Pods]                     6745\n",
       "[Grocery & Gourmet Food, Beverages, Coffee, Tea & Cocoa, Coffee, Ground Coffee]                                    5326\n",
       "[Grocery & Gourmet Food, Cooking & Baking, Frosting, Icing & Decorations, Cake & Cupcake Toppers, Cake Toppers]    4821\n",
       "Name: category, dtype: int64"
      ]
     },
     "execution_count": 12,
     "metadata": {},
     "output_type": "execute_result"
    }
   ],
   "source": [
    "amazon_data[\"category\"].value_counts().head(5)"
   ]
  },
  {
   "cell_type": "code",
   "execution_count": 13,
   "id": "44fa8534",
   "metadata": {
    "slideshow": {
     "slide_type": "skip"
    }
   },
   "outputs": [
    {
     "name": "stdout",
     "output_type": "stream",
     "text": [
      "Sample of HTML encoded characters in column: 'title'\n",
      "   HTML Encoded Char |         Decoded Char\n",
      "--------------------------------------------------\n",
      "               &ouml |                    ö\n",
      "             &ccedil |                    ç\n",
      "               &sup1 |                    ¹\n",
      "                &amp |                    &\n",
      "               &cent |                    ¢\n",
      "               TOTAL |                  103\n",
      "Sample of HTML encoded characters in column: 'description'\n",
      "   HTML Encoded Char |         Decoded Char\n",
      "--------------------------------------------------\n",
      "               &pink |                &pink\n",
      "               &body |                &body\n",
      "                  &f |                   &f\n",
      " &storewindowbgcolor |  &storewindowbgcolor\n",
      "              &olive |               &olive\n",
      "               TOTAL |                  302\n"
     ]
    }
   ],
   "source": [
    "for col in [\"title\", \"description\"]:\n",
    "    special_chars = amazon_data[col].apply(lambda x: set(re.findall(r'&\\w+', str(x))) if x else set()).aggregate({'Whitespace Characters': lambda x: set.union(*x)})[0]\n",
    "    print(f\"Sample of HTML encoded characters in column: '{col}'\")\n",
    "    print(f\"{'HTML Encoded Char':>20} | {'Decoded Char':>20}\")\n",
    "    print(\"-\"*50)\n",
    "    for ch in list(special_chars)[:5]:\n",
    "        print(f\"{ch.lower(): >20} | {html.unescape(ch.lower()): >20}\")\n",
    "    print(f\"{'TOTAL': >20} | {len(special_chars): >20}\")    "
   ]
  },
  {
   "cell_type": "code",
   "execution_count": 14,
   "id": "18cfddee",
   "metadata": {
    "slideshow": {
     "slide_type": "skip"
    }
   },
   "outputs": [
    {
     "name": "stdout",
     "output_type": "stream",
     "text": [
      "HTML tags in column: 'description': {'<span>', '<P>', '<small>', '<U>', '<tbody>', '<H2>', '<DIV>', '<Strong>', '<colgroup>', '<STRONG>', '<html>', '<em>', '<b>', '<BR>', '<TR>', '<TD>', '<body>', '<sup>', '<sub>', '<center>', '<div>', '<>', '<Br>', '<h1>', '<h5>', '<lu>', '<th>', '<i>', '<ul>', '<UL>', '<h3>', '<title>', '<style>', '<big>', '<H5>', '<strong>', '<td>', '<Kafemio>', '<milk>', '<li>', '<Li>', '<H4>', '<head>', '<EM>', '<I>', '<table>', '<EOL>', '<tr>', '<ol>', '<xml>', '<blockquote>', '<bR>', '<LI>', '<h4>', '<br>', '<h2>', '<u>', '<B>'}\n"
     ]
    }
   ],
   "source": [
    "col=\"description\"\n",
    "special_chars = amazon_data[col].apply(lambda x: set(re.findall(r'<\\w*>', str(x))) if x else set()).aggregate({'Whitespace Characters': lambda x: set.union(*x)})[0]\n",
    "print(f\"HTML tags in column: '{col}': {special_chars}\")"
   ]
  },
  {
   "cell_type": "code",
   "execution_count": 15,
   "id": "ca609570",
   "metadata": {
    "slideshow": {
     "slide_type": "skip"
    }
   },
   "outputs": [
    {
     "data": {
      "text/plain": [
       "4     126693\n",
       "3      79167\n",
       "5      67752\n",
       "2      10992\n",
       "6       2395\n",
       "8         19\n",
       "9         15\n",
       "7          8\n",
       "10         7\n",
       "11         2\n",
       "13         1\n",
       "Name: category_count, dtype: int64"
      ]
     },
     "execution_count": 15,
     "metadata": {},
     "output_type": "execute_result"
    }
   ],
   "source": [
    "category_count = amazon_data[\"category\"].apply(lambda categories: len(categories))\n",
    "category_count.name = \"category_count\"\n",
    "category_count.value_counts()"
   ]
  },
  {
   "cell_type": "markdown",
   "id": "d4918a30",
   "metadata": {
    "slideshow": {
     "slide_type": "subslide"
    }
   },
   "source": [
    "### Pre-Processing (Amazon Data)"
   ]
  },
  {
   "cell_type": "code",
   "execution_count": 16,
   "id": "43e44707",
   "metadata": {
    "slideshow": {
     "slide_type": "skip"
    }
   },
   "outputs": [
    {
     "name": "stdout",
     "output_type": "stream",
     "text": [
      "importing Jupyter notebook from ProjectModules.ipynb\n"
     ]
    }
   ],
   "source": [
    "from ProjectModules import ColumnDropper, RowDropper, StringCleaner\n",
    "from sklearn.pipeline import Pipeline"
   ]
  },
  {
   "cell_type": "markdown",
   "id": "fdea1b2b",
   "metadata": {
    "slideshow": {
     "slide_type": "fragment"
    }
   },
   "source": [
    "**Filter the data** to include only **Food Category**."
   ]
  },
  {
   "cell_type": "code",
   "execution_count": 17,
   "id": "95293bac",
   "metadata": {
    "slideshow": {
     "slide_type": "skip"
    }
   },
   "outputs": [],
   "source": [
    "amazon_data = amazon_data.loc[amazon_data[\"main_cat\"]==\"Grocery\"].reset_index(drop=True)\n",
    "amazon_data[\"description\"] = amazon_data[\"description\"].apply(\n",
    "    lambda desc: ' '.join(desc) if type(desc)==list else desc)\n",
    "amazon_data[\"description_before\"] = amazon_data[\"description\"].apply(\n",
    "    lambda desc: ' '.join(desc) if type(desc)==list else desc)"
   ]
  },
  {
   "cell_type": "markdown",
   "id": "e70f9e43",
   "metadata": {
    "slideshow": {
     "slide_type": "fragment"
    }
   },
   "source": [
    "**Defining Pre-Processing Pipeline**"
   ]
  },
  {
   "cell_type": "code",
   "execution_count": 18,
   "id": "0aa8ec3c",
   "metadata": {
    "slideshow": {
     "slide_type": "fragment"
    }
   },
   "outputs": [
    {
     "name": "stdout",
     "output_type": "stream",
     "text": [
      "Number of columns: 7 | Number of records= 202961\n",
      "Columns in amazon dataset: ['category', 'description', 'title', 'brand', 'price', 'asin', 'description_before']\n"
     ]
    },
    {
     "data": {
      "text/html": [
       "<div>\n",
       "<style scoped>\n",
       "    .dataframe tbody tr th:only-of-type {\n",
       "        vertical-align: middle;\n",
       "    }\n",
       "\n",
       "    .dataframe tbody tr th {\n",
       "        vertical-align: top;\n",
       "    }\n",
       "\n",
       "    .dataframe thead th {\n",
       "        text-align: right;\n",
       "    }\n",
       "</style>\n",
       "<table border=\"1\" class=\"dataframe\">\n",
       "  <thead>\n",
       "    <tr style=\"text-align: right;\">\n",
       "      <th></th>\n",
       "      <th>category</th>\n",
       "      <th>description</th>\n",
       "      <th>title</th>\n",
       "      <th>brand</th>\n",
       "      <th>price</th>\n",
       "      <th>asin</th>\n",
       "      <th>description_before</th>\n",
       "    </tr>\n",
       "  </thead>\n",
       "  <tbody>\n",
       "    <tr>\n",
       "      <th>0</th>\n",
       "      <td>['Grocery &amp; Gourmet Food', 'Dairy, Cheese &amp; Eg...</td>\n",
       "      <td>beemster gouda cheese aged months statements r...</td>\n",
       "      <td>Beemster Gouda - Aged 18/24 Months - App. 1.5 Lbs</td>\n",
       "      <td>Ariola Imports</td>\n",
       "      <td>$41.91</td>\n",
       "      <td>0681727810</td>\n",
       "      <td>BEEMSTER GOUDA CHEESE AGED 18/24 MONTHS Statem...</td>\n",
       "    </tr>\n",
       "    <tr>\n",
       "      <th>1</th>\n",
       "      <td>['Grocery &amp; Gourmet Food', 'Cooking &amp; Baking',...</td>\n",
       "      <td>shipped from uk please allow to business days ...</td>\n",
       "      <td>Trim Healthy Mama Xylitol</td>\n",
       "      <td>NaN</td>\n",
       "      <td>NaN</td>\n",
       "      <td>0853347867</td>\n",
       "      <td>Shipped from UK, please allow 10 to 21 busines...</td>\n",
       "    </tr>\n",
       "  </tbody>\n",
       "</table>\n",
       "</div>"
      ],
      "text/plain": [
       "                                            category  \\\n",
       "0  ['Grocery & Gourmet Food', 'Dairy, Cheese & Eg...   \n",
       "1  ['Grocery & Gourmet Food', 'Cooking & Baking',...   \n",
       "\n",
       "                                         description  \\\n",
       "0  beemster gouda cheese aged months statements r...   \n",
       "1  shipped from uk please allow to business days ...   \n",
       "\n",
       "                                               title           brand   price  \\\n",
       "0  Beemster Gouda - Aged 18/24 Months - App. 1.5 Lbs  Ariola Imports  $41.91   \n",
       "1                          Trim Healthy Mama Xylitol             NaN     NaN   \n",
       "\n",
       "         asin                                 description_before  \n",
       "0  0681727810  BEEMSTER GOUDA CHEESE AGED 18/24 MONTHS Statem...  \n",
       "1  0853347867  Shipped from UK, please allow 10 to 21 busines...  "
      ]
     },
     "execution_count": 18,
     "metadata": {},
     "output_type": "execute_result"
    }
   ],
   "source": [
    "amazon_data_preprocess_pipeline = Pipeline([\n",
    "    (\"drop_columns\", ColumnDropper(columns=['category', 'description', 'description_before', 'title', 'brand', 'price', 'asin'], \n",
    "                                   should_drop=False)),\n",
    "    (\"drop_rows\", RowDropper(columns=[\"title\", \"description\"])),\n",
    "    (\"clean_string\", StringCleaner(columns=[\"description\"])),\n",
    "    (\"final_drop_rows\", RowDropper(columns=[\"description\"]))\n",
    "])\n",
    "# amazon_data = amazon_data_preprocess_pipeline.fit_transform(amazon_data)\n",
    "# amazon_data.to_csv(\"cleaned_amazon_data.csv\")\n",
    "amazon_data = pd.read_csv(\"cleaned_amazon_data.csv\")\n",
    "amazon_data.drop(amazon_data.columns[0], axis=1, inplace=True)\n",
    "print(f\"Number of columns: {amazon_data.shape[1]} | Number of records= {amazon_data.shape[0]}\")\n",
    "print(f\"Columns in amazon dataset: {list(amazon_data.columns)}\")\n",
    "amazon_data.head(2)"
   ]
  },
  {
   "cell_type": "code",
   "execution_count": 19,
   "id": "d134180f",
   "metadata": {
    "slideshow": {
     "slide_type": "skip"
    }
   },
   "outputs": [
    {
     "data": {
      "text/plain": [
       "['Grocery & Gourmet Food', 'Candy & Chocolate', 'Candy & Chocolate Bars']                                   5651\n",
       "['Grocery & Gourmet Food', 'Beverages', 'Coffee, Tea & Cocoa', 'Tea', 'Tea Samplers']                       5124\n",
       "['Grocery & Gourmet Food', 'Beverages', 'Coffee, Tea & Cocoa', 'Coffee', 'Single-Serve Capsules & Pods']    4571\n",
       "['Grocery & Gourmet Food', 'Beverages', 'Coffee, Tea & Cocoa', 'Coffee', 'Ground Coffee']                   3603\n",
       "['Grocery & Gourmet Food', 'Candy & Chocolate', 'Hard Candy & Lollipops', 'Hard Candy']                     3348\n",
       "Name: category, dtype: int64"
      ]
     },
     "execution_count": 19,
     "metadata": {},
     "output_type": "execute_result"
    }
   ],
   "source": [
    "# As this category is mostly required for data visualisation later, this field will not be cleaned any further\n",
    "amazon_data[\"category\"].value_counts().head(5)"
   ]
  },
  {
   "cell_type": "code",
   "execution_count": 20,
   "id": "439adec9",
   "metadata": {},
   "outputs": [],
   "source": [
    "from ProjectModules import DatabaseWriter"
   ]
  },
  {
   "cell_type": "code",
   "execution_count": 21,
   "id": "f3c93649",
   "metadata": {},
   "outputs": [
    {
     "name": "stdout",
     "output_type": "stream",
     "text": [
      "Successfully created tables\n"
     ]
    }
   ],
   "source": [
    "dbWriter = DatabaseWriter(\"green_product_db_final.db\")\n",
    "dbWriter.create_tables()"
   ]
  },
  {
   "cell_type": "code",
   "execution_count": 22,
   "id": "6d5bb608",
   "metadata": {},
   "outputs": [
    {
     "name": "stdout",
     "output_type": "stream",
     "text": [
      "Successfully inserted (or updated) product_data table\n"
     ]
    }
   ],
   "source": [
    "table_col_map = {\"asin\":\"product_code\", \"title\": \"product_title\", \"description_before\":\"product_description\", \"category\":\"product_category\"}\n",
    "data_to_insert = amazon_data[['asin', 'title', 'description_before', 'category', 'brand', 'price']]\n",
    "data_to_insert[\"source\"] = \"amazon_data_1\"\n",
    "data_to_insert = data_to_insert.rename(columns=table_col_map)\n",
    "dbWriter.insert_data(df=data_to_insert, table_name=\"product_data\", include_index=True)"
   ]
  },
  {
   "cell_type": "markdown",
   "id": "958c3e92",
   "metadata": {
    "slideshow": {
     "slide_type": "slide"
    }
   },
   "source": [
    "## Ontology Data"
   ]
  },
  {
   "cell_type": "markdown",
   "id": "c5c7d763",
   "metadata": {
    "slideshow": {
     "slide_type": "skip"
    }
   },
   "source": [
    "### Reading Ontology Data"
   ]
  },
  {
   "cell_type": "code",
   "execution_count": 23,
   "id": "8881cd15",
   "metadata": {
    "slideshow": {
     "slide_type": "skip"
    }
   },
   "outputs": [],
   "source": [
    "ONTOLOGY_DATA_PATH = \"I:\\MSc\\Product Dataset\\\\\"\n",
    "product_tags = pd.read_csv(ONTOLOGY_DATA_PATH + \"product_tags.csv\")\n",
    "preferences = pd.read_csv(ONTOLOGY_DATA_PATH + \"preferences.csv\")\n",
    "field_test_preferences = pd.read_csv(ONTOLOGY_DATA_PATH + \"field_test_preferences.csv\")\n",
    "preference_tags = pd.read_csv(ONTOLOGY_DATA_PATH + \"preference_tags.csv\")\n",
    "preference_to_tags = pd.read_csv(ONTOLOGY_DATA_PATH + \"preference_to_tags.csv\")\n",
    "associations = pd.read_csv(ONTOLOGY_DATA_PATH + \"associations.csv\")"
   ]
  },
  {
   "cell_type": "code",
   "execution_count": 24,
   "id": "5b4c72d9",
   "metadata": {},
   "outputs": [],
   "source": [
    "summary = pd.DataFrame()\n",
    "summary[\"Total No. of Records\"] = [product_tags.shape[0], \n",
    "                    preferences.shape[0], \n",
    "                    field_test_preferences.shape[0], \n",
    "                    preference_tags.shape[0], \n",
    "                    preference_to_tags.shape[0],\n",
    "                    associations.shape[0]]"
   ]
  },
  {
   "cell_type": "code",
   "execution_count": 25,
   "id": "0bc126c8",
   "metadata": {
    "slideshow": {
     "slide_type": "skip"
    }
   },
   "outputs": [],
   "source": [
    "# Filtering data present in the latest version (i.e, not removed from any version)\n",
    "product_tags = product_tags[product_tags[\"version removed\"]==-1]\n",
    "preferences = preferences[preferences[\"version removed\"]==-1]\n",
    "preference_tags = preference_tags[preference_tags[\"version removed\"]==-1]\n",
    "preference_to_tags = preference_to_tags[preference_to_tags[\"version removed\"]==-1]\n",
    "associations = associations[associations[\"version removed\"]==-1]\n",
    "\n",
    "# Dropping 'version removed' column\n",
    "product_tags.drop(\"version removed\", axis=1, inplace=True)\n",
    "preferences.drop(\"version removed\", axis=1, inplace=True)\n",
    "preference_tags.drop(\"version removed\", axis=1, inplace=True)\n",
    "preference_to_tags.drop(\"version removed\", axis=1, inplace=True)\n",
    "associations.drop(\"version removed\", axis=1, inplace=True)\n",
    "\n",
    "field_test_preferences = field_test_preferences.iloc[:,:-3] "
   ]
  },
  {
   "cell_type": "code",
   "execution_count": 26,
   "id": "0f61ac6a",
   "metadata": {
    "slideshow": {
     "slide_type": "skip"
    }
   },
   "outputs": [],
   "source": [
    "\n",
    "summary[\"No. of Records (Latest)\"] = [product_tags.shape[0], \n",
    "                    preferences.shape[0], \n",
    "                    field_test_preferences.shape[0], \n",
    "                    preference_tags.shape[0], \n",
    "                    preference_to_tags.shape[0],\n",
    "                    associations.shape[0]]\n",
    "summary[\"No. of Columns\"] = [product_tags.shape[1], \n",
    "                    preferences.shape[1], \n",
    "                    field_test_preferences.shape[1], \n",
    "                    preference_tags.shape[1], \n",
    "                    preference_to_tags.shape[1],\n",
    "                    associations.shape[1]]\n",
    "summary[\"Column Names\"] = [product_tags.columns.values, \n",
    "                    preferences.columns.values, \n",
    "                    field_test_preferences.columns.values, \n",
    "                    preference_tags.columns.values, \n",
    "                    preference_to_tags.columns.values,\n",
    "                    associations.columns.values]\n",
    "summary.index = [\"product_tags\", \n",
    "                    \"preferences\", \n",
    "                    \"field_test_preferences\", \n",
    "                    \"preference_tags\", \n",
    "                    \"preference_to_tags\",\n",
    "                    \"associations\"]"
   ]
  },
  {
   "cell_type": "markdown",
   "id": "36690ca1",
   "metadata": {
    "slideshow": {
     "slide_type": "subslide"
    }
   },
   "source": [
    "#### Summary"
   ]
  },
  {
   "cell_type": "code",
   "execution_count": 27,
   "id": "14532a0c",
   "metadata": {
    "slideshow": {
     "slide_type": "fragment"
    }
   },
   "outputs": [
    {
     "data": {
      "text/html": [
       "<div>\n",
       "<style scoped>\n",
       "    .dataframe tbody tr th:only-of-type {\n",
       "        vertical-align: middle;\n",
       "    }\n",
       "\n",
       "    .dataframe tbody tr th {\n",
       "        vertical-align: top;\n",
       "    }\n",
       "\n",
       "    .dataframe thead th {\n",
       "        text-align: right;\n",
       "    }\n",
       "</style>\n",
       "<table border=\"1\" class=\"dataframe\">\n",
       "  <thead>\n",
       "    <tr style=\"text-align: right;\">\n",
       "      <th></th>\n",
       "      <th>Total No. of Records</th>\n",
       "      <th>No. of Records (Latest)</th>\n",
       "      <th>No. of Columns</th>\n",
       "      <th>Column Names</th>\n",
       "    </tr>\n",
       "  </thead>\n",
       "  <tbody>\n",
       "    <tr>\n",
       "      <th>product_tags</th>\n",
       "      <td>290</td>\n",
       "      <td>196</td>\n",
       "      <td>2</td>\n",
       "      <td>[product tag id, product tag]</td>\n",
       "    </tr>\n",
       "    <tr>\n",
       "      <th>preferences</th>\n",
       "      <td>99</td>\n",
       "      <td>25</td>\n",
       "      <td>2</td>\n",
       "      <td>[preference id, preference]</td>\n",
       "    </tr>\n",
       "    <tr>\n",
       "      <th>field_test_preferences</th>\n",
       "      <td>25</td>\n",
       "      <td>25</td>\n",
       "      <td>5</td>\n",
       "      <td>[preference category, preference id, preferenc...</td>\n",
       "    </tr>\n",
       "    <tr>\n",
       "      <th>preference_tags</th>\n",
       "      <td>103</td>\n",
       "      <td>61</td>\n",
       "      <td>2</td>\n",
       "      <td>[preference tag id, preference tag]</td>\n",
       "    </tr>\n",
       "    <tr>\n",
       "      <th>preference_to_tags</th>\n",
       "      <td>217</td>\n",
       "      <td>148</td>\n",
       "      <td>2</td>\n",
       "      <td>[preference id, preference tag id]</td>\n",
       "    </tr>\n",
       "    <tr>\n",
       "      <th>associations</th>\n",
       "      <td>1203</td>\n",
       "      <td>795</td>\n",
       "      <td>3</td>\n",
       "      <td>[preference tag id, product tag id, score]</td>\n",
       "    </tr>\n",
       "  </tbody>\n",
       "</table>\n",
       "</div>"
      ],
      "text/plain": [
       "                        Total No. of Records  No. of Records (Latest)  \\\n",
       "product_tags                             290                      196   \n",
       "preferences                               99                       25   \n",
       "field_test_preferences                    25                       25   \n",
       "preference_tags                          103                       61   \n",
       "preference_to_tags                       217                      148   \n",
       "associations                            1203                      795   \n",
       "\n",
       "                        No. of Columns  \\\n",
       "product_tags                         2   \n",
       "preferences                          2   \n",
       "field_test_preferences               5   \n",
       "preference_tags                      2   \n",
       "preference_to_tags                   2   \n",
       "associations                         3   \n",
       "\n",
       "                                                             Column Names  \n",
       "product_tags                                [product tag id, product tag]  \n",
       "preferences                                   [preference id, preference]  \n",
       "field_test_preferences  [preference category, preference id, preferenc...  \n",
       "preference_tags                       [preference tag id, preference tag]  \n",
       "preference_to_tags                     [preference id, preference tag id]  \n",
       "associations                   [preference tag id, product tag id, score]  "
      ]
     },
     "execution_count": 27,
     "metadata": {},
     "output_type": "execute_result"
    }
   ],
   "source": [
    "summary"
   ]
  },
  {
   "cell_type": "markdown",
   "id": "665a134e",
   "metadata": {
    "slideshow": {
     "slide_type": "subslide"
    }
   },
   "source": [
    "### Integrate Ontology Data"
   ]
  },
  {
   "cell_type": "code",
   "execution_count": 28,
   "id": "5ec624c8",
   "metadata": {
    "slideshow": {
     "slide_type": "skip"
    }
   },
   "outputs": [],
   "source": [
    "integrated_data = associations.merge(preference_tags, \n",
    "                   on=\"preference tag id\", \n",
    "                   how=\"inner\").merge(product_tags, \n",
    "                                      on=\"product tag id\", \n",
    "                                      how=\"inner\").merge(preference_to_tags, \n",
    "                                                         on=\"preference tag id\", \n",
    "                                                         how=\"inner\")\n",
    "integrated_data = field_test_preferences.merge(integrated_data, on=\"preference id\", how=\"left\")"
   ]
  },
  {
   "cell_type": "code",
   "execution_count": 29,
   "id": "1ca27ac7",
   "metadata": {
    "slideshow": {
     "slide_type": "skip"
    }
   },
   "outputs": [
    {
     "data": {
      "text/plain": [
       "preference category\n",
       "E. Environment    353\n",
       "H. Health         115\n",
       "Q. Quality         12\n",
       "S. Social         404\n",
       "dtype: int64"
      ]
     },
     "execution_count": 29,
     "metadata": {},
     "output_type": "execute_result"
    }
   ],
   "source": [
    "integrated_data.groupby(by=[\"preference category\"]).size()"
   ]
  },
  {
   "cell_type": "code",
   "execution_count": 30,
   "id": "f578524a",
   "metadata": {
    "slideshow": {
     "slide_type": "fragment"
    }
   },
   "outputs": [
    {
     "data": {
      "text/html": [
       "<div>\n",
       "<style scoped>\n",
       "    .dataframe tbody tr th:only-of-type {\n",
       "        vertical-align: middle;\n",
       "    }\n",
       "\n",
       "    .dataframe tbody tr th {\n",
       "        vertical-align: top;\n",
       "    }\n",
       "\n",
       "    .dataframe thead th {\n",
       "        text-align: right;\n",
       "    }\n",
       "</style>\n",
       "<table border=\"1\" class=\"dataframe\">\n",
       "  <thead>\n",
       "    <tr style=\"text-align: right;\">\n",
       "      <th></th>\n",
       "      <th>product tag</th>\n",
       "      <th>preference tag</th>\n",
       "      <th>score</th>\n",
       "      <th>preference</th>\n",
       "      <th>preference category</th>\n",
       "    </tr>\n",
       "  </thead>\n",
       "  <tbody>\n",
       "    <tr>\n",
       "      <th>629</th>\n",
       "      <td>organization/label tag 52</td>\n",
       "      <td>Animal Welfare</td>\n",
       "      <td>0.71</td>\n",
       "      <td>3. Products from companies that support animal...</td>\n",
       "      <td>S. Social</td>\n",
       "    </tr>\n",
       "    <tr>\n",
       "      <th>636</th>\n",
       "      <td>organization/label tag 54</td>\n",
       "      <td>Animal Welfare</td>\n",
       "      <td>0.87</td>\n",
       "      <td>3. Products from companies that support animal...</td>\n",
       "      <td>S. Social</td>\n",
       "    </tr>\n",
       "    <tr>\n",
       "      <th>65</th>\n",
       "      <td>organization/label tag 39</td>\n",
       "      <td>sustainable farming</td>\n",
       "      <td>0.50</td>\n",
       "      <td>1. Products disposed in an environmentally fri...</td>\n",
       "      <td>E. Environment</td>\n",
       "    </tr>\n",
       "    <tr>\n",
       "      <th>78</th>\n",
       "      <td>organization/label tag 96</td>\n",
       "      <td>green farming</td>\n",
       "      <td>0.10</td>\n",
       "      <td>1. Products disposed in an environmentally fri...</td>\n",
       "      <td>E. Environment</td>\n",
       "    </tr>\n",
       "    <tr>\n",
       "      <th>857</th>\n",
       "      <td>organization/label tag 20</td>\n",
       "      <td>Stakeholder participation</td>\n",
       "      <td>0.25</td>\n",
       "      <td>5. Products from companies with transparent ac...</td>\n",
       "      <td>S. Social</td>\n",
       "    </tr>\n",
       "  </tbody>\n",
       "</table>\n",
       "</div>"
      ],
      "text/plain": [
       "                   product tag             preference tag  score  \\\n",
       "629  organization/label tag 52             Animal Welfare   0.71   \n",
       "636  organization/label tag 54             Animal Welfare   0.87   \n",
       "65   organization/label tag 39        sustainable farming   0.50   \n",
       "78   organization/label tag 96              green farming   0.10   \n",
       "857  organization/label tag 20  Stakeholder participation   0.25   \n",
       "\n",
       "                                            preference preference category  \n",
       "629  3. Products from companies that support animal...           S. Social  \n",
       "636  3. Products from companies that support animal...           S. Social  \n",
       "65   1. Products disposed in an environmentally fri...      E. Environment  \n",
       "78   1. Products disposed in an environmentally fri...      E. Environment  \n",
       "857  5. Products from companies with transparent ac...           S. Social  "
      ]
     },
     "execution_count": 30,
     "metadata": {},
     "output_type": "execute_result"
    }
   ],
   "source": [
    "integrated_data[[ \"product tag\", \"preference tag\", \"score\",  \"preference\", \"preference category\"]].sample(5)"
   ]
  },
  {
   "cell_type": "code",
   "execution_count": 31,
   "id": "d4bf9ba7",
   "metadata": {},
   "outputs": [
    {
     "data": {
      "text/plain": [
       "(884, 10)"
      ]
     },
     "execution_count": 31,
     "metadata": {},
     "output_type": "execute_result"
    }
   ],
   "source": [
    "integrated_data.shape"
   ]
  },
  {
   "cell_type": "code",
   "execution_count": 32,
   "id": "c0ffa283",
   "metadata": {
    "slideshow": {
     "slide_type": "skip"
    }
   },
   "outputs": [
    {
     "data": {
      "text/html": [
       "<div>\n",
       "<style scoped>\n",
       "    .dataframe tbody tr th:only-of-type {\n",
       "        vertical-align: middle;\n",
       "    }\n",
       "\n",
       "    .dataframe tbody tr th {\n",
       "        vertical-align: top;\n",
       "    }\n",
       "\n",
       "    .dataframe thead th {\n",
       "        text-align: right;\n",
       "    }\n",
       "</style>\n",
       "<table border=\"1\" class=\"dataframe\">\n",
       "  <thead>\n",
       "    <tr style=\"text-align: right;\">\n",
       "      <th></th>\n",
       "      <th>product tag</th>\n",
       "      <th>preference tag</th>\n",
       "      <th>score</th>\n",
       "      <th>preference</th>\n",
       "      <th>preference category</th>\n",
       "      <th>is strict</th>\n",
       "    </tr>\n",
       "  </thead>\n",
       "  <tbody>\n",
       "    <tr>\n",
       "      <th>318</th>\n",
       "      <td>very transparent company</td>\n",
       "      <td>fair trade</td>\n",
       "      <td>0.300</td>\n",
       "      <td>6. Products from fair trade label companies</td>\n",
       "      <td>S. Social</td>\n",
       "      <td>False</td>\n",
       "    </tr>\n",
       "    <tr>\n",
       "      <th>121</th>\n",
       "      <td>cholesterol free</td>\n",
       "      <td>allergen free</td>\n",
       "      <td>0.400</td>\n",
       "      <td>1. Allergen-free products</td>\n",
       "      <td>H. Health</td>\n",
       "      <td>False</td>\n",
       "    </tr>\n",
       "    <tr>\n",
       "      <th>151</th>\n",
       "      <td>egg origin - Estonia</td>\n",
       "      <td>gluten free</td>\n",
       "      <td>0.991</td>\n",
       "      <td>2. Gluten-free products</td>\n",
       "      <td>H. Health</td>\n",
       "      <td>True</td>\n",
       "    </tr>\n",
       "    <tr>\n",
       "      <th>179</th>\n",
       "      <td>medium sugars</td>\n",
       "      <td>low sugar</td>\n",
       "      <td>0.200</td>\n",
       "      <td>7. Low sugar products</td>\n",
       "      <td>H. Health</td>\n",
       "      <td>False</td>\n",
       "    </tr>\n",
       "    <tr>\n",
       "      <th>175</th>\n",
       "      <td>low salt</td>\n",
       "      <td>low salt</td>\n",
       "      <td>0.991</td>\n",
       "      <td>6. Low salt products</td>\n",
       "      <td>H. Health</td>\n",
       "      <td>False</td>\n",
       "    </tr>\n",
       "  </tbody>\n",
       "</table>\n",
       "</div>"
      ],
      "text/plain": [
       "                  product tag preference tag  score  \\\n",
       "318  very transparent company     fair trade  0.300   \n",
       "121          cholesterol free  allergen free  0.400   \n",
       "151      egg origin - Estonia    gluten free  0.991   \n",
       "179             medium sugars      low sugar  0.200   \n",
       "175                  low salt       low salt  0.991   \n",
       "\n",
       "                                      preference preference category  \\\n",
       "318  6. Products from fair trade label companies           S. Social   \n",
       "121                    1. Allergen-free products           H. Health   \n",
       "151                      2. Gluten-free products           H. Health   \n",
       "179                        7. Low sugar products           H. Health   \n",
       "175                         6. Low salt products           H. Health   \n",
       "\n",
       "     is strict  \n",
       "318      False  \n",
       "121      False  \n",
       "151       True  \n",
       "179      False  \n",
       "175      False  "
      ]
     },
     "execution_count": 32,
     "metadata": {},
     "output_type": "execute_result"
    }
   ],
   "source": [
    "ontology_data = integrated_data.loc[~((integrated_data['product tag'].str.contains(\"organization\")) \n",
    "                                      | (integrated_data['product tag'].str.contains(\"packaging\")))].reset_index(drop=True)\n",
    "ontology_data[[ \"product tag\", \"preference tag\", \"score\",  \"preference\", \"preference category\", \"is strict\"]].sample(5)"
   ]
  },
  {
   "cell_type": "code",
   "execution_count": 33,
   "id": "ba834a74",
   "metadata": {},
   "outputs": [
    {
     "data": {
      "text/plain": [
       "(321, 6)"
      ]
     },
     "execution_count": 33,
     "metadata": {},
     "output_type": "execute_result"
    }
   ],
   "source": [
    "ontology_data = ontology_data[[ \"product tag\", \"preference tag\", \"score\",  \"preference\", \"preference category\", \"is strict\"]]\n",
    "ontology_data.shape"
   ]
  },
  {
   "cell_type": "code",
   "execution_count": 34,
   "id": "ec996389",
   "metadata": {},
   "outputs": [
    {
     "data": {
      "text/html": [
       "<div>\n",
       "<style scoped>\n",
       "    .dataframe tbody tr th:only-of-type {\n",
       "        vertical-align: middle;\n",
       "    }\n",
       "\n",
       "    .dataframe tbody tr th {\n",
       "        vertical-align: top;\n",
       "    }\n",
       "\n",
       "    .dataframe thead th {\n",
       "        text-align: right;\n",
       "    }\n",
       "</style>\n",
       "<table border=\"1\" class=\"dataframe\">\n",
       "  <thead>\n",
       "    <tr style=\"text-align: right;\">\n",
       "      <th></th>\n",
       "      <th>product tag</th>\n",
       "      <th>preference tag</th>\n",
       "      <th>score</th>\n",
       "      <th>preference</th>\n",
       "      <th>preference category</th>\n",
       "      <th>is strict</th>\n",
       "    </tr>\n",
       "  </thead>\n",
       "  <tbody>\n",
       "    <tr>\n",
       "      <th>69</th>\n",
       "      <td>egg origin - Estonia</td>\n",
       "      <td>low water footprint</td>\n",
       "      <td>0.1</td>\n",
       "      <td>2. Products produced and distributed in an env...</td>\n",
       "      <td>E. Environment</td>\n",
       "      <td>False</td>\n",
       "    </tr>\n",
       "    <tr>\n",
       "      <th>70</th>\n",
       "      <td>fresh made in store</td>\n",
       "      <td>low water footprint</td>\n",
       "      <td>0.1</td>\n",
       "      <td>2. Products produced and distributed in an env...</td>\n",
       "      <td>E. Environment</td>\n",
       "      <td>False</td>\n",
       "    </tr>\n",
       "    <tr>\n",
       "      <th>71</th>\n",
       "      <td>certified environmental impact</td>\n",
       "      <td>low water footprint</td>\n",
       "      <td>0.5</td>\n",
       "      <td>2. Products produced and distributed in an env...</td>\n",
       "      <td>E. Environment</td>\n",
       "      <td>False</td>\n",
       "    </tr>\n",
       "    <tr>\n",
       "      <th>72</th>\n",
       "      <td>company has an environmental report</td>\n",
       "      <td>low water footprint</td>\n",
       "      <td>0.2</td>\n",
       "      <td>2. Products produced and distributed in an env...</td>\n",
       "      <td>E. Environment</td>\n",
       "      <td>False</td>\n",
       "    </tr>\n",
       "    <tr>\n",
       "      <th>73</th>\n",
       "      <td>no public environmental reports</td>\n",
       "      <td>low water footprint</td>\n",
       "      <td>-0.2</td>\n",
       "      <td>2. Products produced and distributed in an env...</td>\n",
       "      <td>E. Environment</td>\n",
       "      <td>False</td>\n",
       "    </tr>\n",
       "    <tr>\n",
       "      <th>74</th>\n",
       "      <td>reduces water use</td>\n",
       "      <td>low water footprint</td>\n",
       "      <td>0.5</td>\n",
       "      <td>2. Products produced and distributed in an env...</td>\n",
       "      <td>E. Environment</td>\n",
       "      <td>False</td>\n",
       "    </tr>\n",
       "  </tbody>\n",
       "</table>\n",
       "</div>"
      ],
      "text/plain": [
       "                            product tag       preference tag  score  \\\n",
       "69                 egg origin - Estonia  low water footprint    0.1   \n",
       "70                  fresh made in store  low water footprint    0.1   \n",
       "71       certified environmental impact  low water footprint    0.5   \n",
       "72  company has an environmental report  low water footprint    0.2   \n",
       "73      no public environmental reports  low water footprint   -0.2   \n",
       "74                    reduces water use  low water footprint    0.5   \n",
       "\n",
       "                                           preference preference category  \\\n",
       "69  2. Products produced and distributed in an env...      E. Environment   \n",
       "70  2. Products produced and distributed in an env...      E. Environment   \n",
       "71  2. Products produced and distributed in an env...      E. Environment   \n",
       "72  2. Products produced and distributed in an env...      E. Environment   \n",
       "73  2. Products produced and distributed in an env...      E. Environment   \n",
       "74  2. Products produced and distributed in an env...      E. Environment   \n",
       "\n",
       "    is strict  \n",
       "69      False  \n",
       "70      False  \n",
       "71      False  \n",
       "72      False  \n",
       "73      False  \n",
       "74      False  "
      ]
     },
     "execution_count": 34,
     "metadata": {},
     "output_type": "execute_result"
    }
   ],
   "source": [
    "ontology_data[ontology_data[\"preference tag\"]==\"low water footprint\"]"
   ]
  },
  {
   "cell_type": "code",
   "execution_count": 35,
   "id": "e199cfb0",
   "metadata": {
    "slideshow": {
     "slide_type": "skip"
    }
   },
   "outputs": [],
   "source": [
    "sc = StringCleaner([\"product tag\", \"preference tag\"])\n",
    "ontology_data = sc.transform(ontology_data)"
   ]
  },
  {
   "cell_type": "code",
   "execution_count": 36,
   "id": "452b947a",
   "metadata": {
    "slideshow": {
     "slide_type": "skip"
    }
   },
   "outputs": [
    {
     "data": {
      "text/plain": [
       "H. Health         13\n",
       "S. Social          6\n",
       "E. Environment     3\n",
       "Q. Quality         3\n",
       "Name: preference category, dtype: int64"
      ]
     },
     "execution_count": 36,
     "metadata": {},
     "output_type": "execute_result"
    }
   ],
   "source": [
    "integrated_data.groupby(by=[\"preference category\", \"preference\"]).size().reset_index()[\"preference category\"].value_counts()"
   ]
  },
  {
   "cell_type": "code",
   "execution_count": 37,
   "id": "3f88cb79",
   "metadata": {
    "slideshow": {
     "slide_type": "skip"
    }
   },
   "outputs": [
    {
     "data": {
      "text/plain": [
       "H. Health         13\n",
       "S. Social          5\n",
       "E. Environment     3\n",
       "Q. Quality         3\n",
       "Name: preference category, dtype: int64"
      ]
     },
     "execution_count": 37,
     "metadata": {},
     "output_type": "execute_result"
    }
   ],
   "source": [
    "ontology_data.groupby(by=[\"preference category\", \"preference\"]).size().reset_index()[\"preference category\"].value_counts()"
   ]
  },
  {
   "cell_type": "code",
   "execution_count": 38,
   "id": "5f46944c",
   "metadata": {
    "slideshow": {
     "slide_type": "skip"
    }
   },
   "outputs": [
    {
     "data": {
      "text/plain": [
       "'1. Products evaluated with auditing processes that rely on sustainability criteria.'"
      ]
     },
     "execution_count": 38,
     "metadata": {},
     "output_type": "execute_result"
    }
   ],
   "source": [
    "integrated_data[~integrated_data[\"preference\"].isin(ontology_data[\"preference\"].unique())][\"preference\"].unique()[0]"
   ]
  },
  {
   "cell_type": "code",
   "execution_count": 39,
   "id": "b1be3ba4",
   "metadata": {
    "slideshow": {
     "slide_type": "skip"
    }
   },
   "outputs": [
    {
     "data": {
      "text/html": [
       "<div>\n",
       "<style scoped>\n",
       "    .dataframe tbody tr th:only-of-type {\n",
       "        vertical-align: middle;\n",
       "    }\n",
       "\n",
       "    .dataframe tbody tr th {\n",
       "        vertical-align: top;\n",
       "    }\n",
       "\n",
       "    .dataframe thead th {\n",
       "        text-align: right;\n",
       "    }\n",
       "</style>\n",
       "<table border=\"1\" class=\"dataframe\">\n",
       "  <thead>\n",
       "    <tr style=\"text-align: right;\">\n",
       "      <th></th>\n",
       "      <th>product tag</th>\n",
       "      <th>preference tag</th>\n",
       "      <th>score</th>\n",
       "      <th>preference</th>\n",
       "      <th>preference category</th>\n",
       "      <th>is strict</th>\n",
       "    </tr>\n",
       "  </thead>\n",
       "  <tbody>\n",
       "    <tr>\n",
       "      <th>0</th>\n",
       "      <td>egg organic</td>\n",
       "      <td>biodegradeable</td>\n",
       "      <td>0.991</td>\n",
       "      <td>1. Products disposed in an environmentally fri...</td>\n",
       "      <td>E. Environment</td>\n",
       "      <td>False</td>\n",
       "    </tr>\n",
       "    <tr>\n",
       "      <th>1</th>\n",
       "      <td>egg free range</td>\n",
       "      <td>biodegradeable</td>\n",
       "      <td>0.991</td>\n",
       "      <td>1. Products disposed in an environmentally fri...</td>\n",
       "      <td>E. Environment</td>\n",
       "      <td>False</td>\n",
       "    </tr>\n",
       "    <tr>\n",
       "      <th>2</th>\n",
       "      <td>egg barn</td>\n",
       "      <td>biodegradeable</td>\n",
       "      <td>0.991</td>\n",
       "      <td>1. Products disposed in an environmentally fri...</td>\n",
       "      <td>E. Environment</td>\n",
       "      <td>False</td>\n",
       "    </tr>\n",
       "    <tr>\n",
       "      <th>3</th>\n",
       "      <td>egg enriched cages</td>\n",
       "      <td>biodegradeable</td>\n",
       "      <td>0.991</td>\n",
       "      <td>1. Products disposed in an environmentally fri...</td>\n",
       "      <td>E. Environment</td>\n",
       "      <td>False</td>\n",
       "    </tr>\n",
       "    <tr>\n",
       "      <th>4</th>\n",
       "      <td>egg origin estonia</td>\n",
       "      <td>biodegradeable</td>\n",
       "      <td>0.991</td>\n",
       "      <td>1. Products disposed in an environmentally fri...</td>\n",
       "      <td>E. Environment</td>\n",
       "      <td>False</td>\n",
       "    </tr>\n",
       "  </tbody>\n",
       "</table>\n",
       "</div>"
      ],
      "text/plain": [
       "          product tag  preference tag  score  \\\n",
       "0         egg organic  biodegradeable  0.991   \n",
       "1      egg free range  biodegradeable  0.991   \n",
       "2            egg barn  biodegradeable  0.991   \n",
       "3  egg enriched cages  biodegradeable  0.991   \n",
       "4  egg origin estonia  biodegradeable  0.991   \n",
       "\n",
       "                                          preference preference category  \\\n",
       "0  1. Products disposed in an environmentally fri...      E. Environment   \n",
       "1  1. Products disposed in an environmentally fri...      E. Environment   \n",
       "2  1. Products disposed in an environmentally fri...      E. Environment   \n",
       "3  1. Products disposed in an environmentally fri...      E. Environment   \n",
       "4  1. Products disposed in an environmentally fri...      E. Environment   \n",
       "\n",
       "   is strict  \n",
       "0      False  \n",
       "1      False  \n",
       "2      False  \n",
       "3      False  \n",
       "4      False  "
      ]
     },
     "execution_count": 39,
     "metadata": {},
     "output_type": "execute_result"
    }
   ],
   "source": [
    "ontology_data.head(5)"
   ]
  },
  {
   "cell_type": "markdown",
   "id": "b430e7a1",
   "metadata": {
    "slideshow": {
     "slide_type": "subslide"
    }
   },
   "source": [
    "### Analysing Word Counts"
   ]
  },
  {
   "cell_type": "code",
   "execution_count": 40,
   "id": "9c56f8eb",
   "metadata": {
    "slideshow": {
     "slide_type": "subslide"
    }
   },
   "outputs": [
    {
     "data": {
      "text/plain": [
       "<AxesSubplot:xlabel='Word Count per Tag', ylabel='Number of Product Tags'>"
      ]
     },
     "execution_count": 40,
     "metadata": {},
     "output_type": "execute_result"
    },
    {
     "data": {
      "image/png": "[encoded data removed]",
      "text/plain": [
       "<Figure size 640x480 with 1 Axes>"
      ]
     },
     "metadata": {},
     "output_type": "display_data"
    }
   ],
   "source": [
    "# Product Tags\n",
    "word_count = ontology_data[\"product tag\"].apply(lambda s: len(s.strip().split()))\n",
    "ax = word_count.hist(bins=30)\n",
    "ax.set_xlabel(\"Word Count per Tag\")\n",
    "ax.set_ylabel(\"Number of Product Tags\")\n",
    "ax"
   ]
  },
  {
   "cell_type": "code",
   "execution_count": 41,
   "id": "f4342861",
   "metadata": {
    "slideshow": {
     "slide_type": "subslide"
    }
   },
   "outputs": [
    {
     "data": {
      "text/plain": [
       "<AxesSubplot:xlabel='Word Count per Tag', ylabel='Number of Preference Tags'>"
      ]
     },
     "execution_count": 41,
     "metadata": {},
     "output_type": "execute_result"
    },
    {
     "data": {
      "image/png": "[encoded data removed]",
      "text/plain": [
       "<Figure size 640x480 with 1 Axes>"
      ]
     },
     "metadata": {},
     "output_type": "display_data"
    }
   ],
   "source": [
    "# Preference Tags\n",
    "word_count = ontology_data[\"preference tag\"].apply(lambda s: len(s.strip().split()))\n",
    "ax = word_count.hist(bins=30)\n",
    "ax.set_xlabel(\"Word Count per Tag\")\n",
    "ax.set_ylabel(\"Number of Preference Tags\")\n",
    "ax"
   ]
  },
  {
   "cell_type": "markdown",
   "id": "30f9d67d",
   "metadata": {
    "slideshow": {
     "slide_type": "slide"
    }
   },
   "source": [
    "## Vocab Creation"
   ]
  },
  {
   "cell_type": "code",
   "execution_count": 42,
   "id": "0d449a8d",
   "metadata": {},
   "outputs": [
    {
     "data": {
      "text/html": [
       "<div>\n",
       "<style scoped>\n",
       "    .dataframe tbody tr th:only-of-type {\n",
       "        vertical-align: middle;\n",
       "    }\n",
       "\n",
       "    .dataframe tbody tr th {\n",
       "        vertical-align: top;\n",
       "    }\n",
       "\n",
       "    .dataframe thead th {\n",
       "        text-align: right;\n",
       "    }\n",
       "</style>\n",
       "<table border=\"1\" class=\"dataframe\">\n",
       "  <thead>\n",
       "    <tr style=\"text-align: right;\">\n",
       "      <th></th>\n",
       "      <th>product tag</th>\n",
       "      <th>preference tag</th>\n",
       "      <th>score</th>\n",
       "      <th>preference</th>\n",
       "      <th>preference category</th>\n",
       "      <th>is strict</th>\n",
       "    </tr>\n",
       "  </thead>\n",
       "  <tbody>\n",
       "    <tr>\n",
       "      <th>267</th>\n",
       "      <td>egg enriched cages</td>\n",
       "      <td>vegan</td>\n",
       "      <td>-1.000</td>\n",
       "      <td>Products from companies that support animal ri...</td>\n",
       "      <td>Social</td>\n",
       "      <td>False</td>\n",
       "    </tr>\n",
       "    <tr>\n",
       "      <th>289</th>\n",
       "      <td>very transparent company</td>\n",
       "      <td>fair trade</td>\n",
       "      <td>0.300</td>\n",
       "      <td>Products from companies that support animal ri...</td>\n",
       "      <td>Social</td>\n",
       "      <td>False</td>\n",
       "    </tr>\n",
       "    <tr>\n",
       "      <th>103</th>\n",
       "      <td>egg enriched cages</td>\n",
       "      <td>green farming</td>\n",
       "      <td>-0.951</td>\n",
       "      <td>Sustainably farmed products</td>\n",
       "      <td>Environment</td>\n",
       "      <td>False</td>\n",
       "    </tr>\n",
       "    <tr>\n",
       "      <th>298</th>\n",
       "      <td>fresh made in store</td>\n",
       "      <td>worker rights</td>\n",
       "      <td>0.300</td>\n",
       "      <td>Products from companies that support fairness ...</td>\n",
       "      <td>Social</td>\n",
       "      <td>False</td>\n",
       "    </tr>\n",
       "    <tr>\n",
       "      <th>187</th>\n",
       "      <td>fresh made in store</td>\n",
       "      <td>without preservatives</td>\n",
       "      <td>0.500</td>\n",
       "      <td>Products without preservatives</td>\n",
       "      <td>Health</td>\n",
       "      <td>False</td>\n",
       "    </tr>\n",
       "  </tbody>\n",
       "</table>\n",
       "</div>"
      ],
      "text/plain": [
       "                  product tag         preference tag  score  \\\n",
       "267        egg enriched cages                  vegan -1.000   \n",
       "289  very transparent company             fair trade  0.300   \n",
       "103        egg enriched cages          green farming -0.951   \n",
       "298       fresh made in store          worker rights  0.300   \n",
       "187       fresh made in store  without preservatives  0.500   \n",
       "\n",
       "                                            preference preference category  \\\n",
       "267  Products from companies that support animal ri...              Social   \n",
       "289  Products from companies that support animal ri...              Social   \n",
       "103                        Sustainably farmed products         Environment   \n",
       "298  Products from companies that support fairness ...              Social   \n",
       "187                     Products without preservatives              Health   \n",
       "\n",
       "     is strict  \n",
       "267      False  \n",
       "289      False  \n",
       "103      False  \n",
       "298      False  \n",
       "187      False  "
      ]
     },
     "execution_count": 42,
     "metadata": {},
     "output_type": "execute_result"
    }
   ],
   "source": [
    "ontology_data[\"preference\"] = ontology_data[\"preference\"].apply(lambda s: ' '.join(s.split()[1:]))\n",
    "ontology_data[\"preference category\"] = ontology_data[\"preference category\"].apply(lambda s: ' '.join(s.split()[1:]))\n",
    "ontology_data[[ \"product tag\", \"preference tag\", \"score\",  \"preference\", \"preference category\", \"is strict\"]].sample(5)"
   ]
  },
  {
   "cell_type": "code",
   "execution_count": 43,
   "id": "956e31f4",
   "metadata": {},
   "outputs": [],
   "source": [
    "ontology_data[\"score\"] = ontology_data[\"score\"].apply(lambda x: 1 if x>=0 else -1)\n"
   ]
  },
  {
   "cell_type": "code",
   "execution_count": 44,
   "id": "b633667d",
   "metadata": {
    "scrolled": true
   },
   "outputs": [
    {
     "data": {
      "text/html": [
       "<div>\n",
       "<style scoped>\n",
       "    .dataframe tbody tr th:only-of-type {\n",
       "        vertical-align: middle;\n",
       "    }\n",
       "\n",
       "    .dataframe tbody tr th {\n",
       "        vertical-align: top;\n",
       "    }\n",
       "\n",
       "    .dataframe thead th {\n",
       "        text-align: right;\n",
       "    }\n",
       "</style>\n",
       "<table border=\"1\" class=\"dataframe\">\n",
       "  <thead>\n",
       "    <tr style=\"text-align: right;\">\n",
       "      <th></th>\n",
       "      <th>product tag</th>\n",
       "      <th>preference tag</th>\n",
       "      <th>score</th>\n",
       "      <th>preference</th>\n",
       "      <th>preference category</th>\n",
       "      <th>is strict</th>\n",
       "    </tr>\n",
       "  </thead>\n",
       "  <tbody>\n",
       "    <tr>\n",
       "      <th>83</th>\n",
       "      <td>some close production plants</td>\n",
       "      <td>close production</td>\n",
       "      <td>1</td>\n",
       "      <td>Products produced and distributed in an enviro...</td>\n",
       "      <td>Environment</td>\n",
       "      <td>False</td>\n",
       "    </tr>\n",
       "    <tr>\n",
       "      <th>172</th>\n",
       "      <td>medium saturated fats</td>\n",
       "      <td>low fat</td>\n",
       "      <td>-1</td>\n",
       "      <td>Low fat products</td>\n",
       "      <td>Health</td>\n",
       "      <td>False</td>\n",
       "    </tr>\n",
       "    <tr>\n",
       "      <th>54</th>\n",
       "      <td>baumwollsack</td>\n",
       "      <td>waste recycling</td>\n",
       "      <td>1</td>\n",
       "      <td>Products disposed in an environmentally friend...</td>\n",
       "      <td>Environment</td>\n",
       "      <td>False</td>\n",
       "    </tr>\n",
       "    <tr>\n",
       "      <th>187</th>\n",
       "      <td>fresh made in store</td>\n",
       "      <td>without preservatives</td>\n",
       "      <td>1</td>\n",
       "      <td>Products without preservatives</td>\n",
       "      <td>Health</td>\n",
       "      <td>False</td>\n",
       "    </tr>\n",
       "    <tr>\n",
       "      <th>148</th>\n",
       "      <td>egg enriched cages</td>\n",
       "      <td>gluten free</td>\n",
       "      <td>1</td>\n",
       "      <td>Gluten-free products</td>\n",
       "      <td>Health</td>\n",
       "      <td>True</td>\n",
       "    </tr>\n",
       "  </tbody>\n",
       "</table>\n",
       "</div>"
      ],
      "text/plain": [
       "                      product tag         preference tag  score  \\\n",
       "83   some close production plants       close production      1   \n",
       "172         medium saturated fats                low fat     -1   \n",
       "54                   baumwollsack        waste recycling      1   \n",
       "187           fresh made in store  without preservatives      1   \n",
       "148            egg enriched cages            gluten free      1   \n",
       "\n",
       "                                            preference preference category  \\\n",
       "83   Products produced and distributed in an enviro...         Environment   \n",
       "172                                   Low fat products              Health   \n",
       "54   Products disposed in an environmentally friend...         Environment   \n",
       "187                     Products without preservatives              Health   \n",
       "148                               Gluten-free products              Health   \n",
       "\n",
       "     is strict  \n",
       "83       False  \n",
       "172      False  \n",
       "54       False  \n",
       "187      False  \n",
       "148       True  "
      ]
     },
     "execution_count": 44,
     "metadata": {},
     "output_type": "execute_result"
    }
   ],
   "source": [
    "ontology_data[[ \"product tag\", \"preference tag\", \"score\",  \"preference\", \"preference category\", \"is strict\"]].sample(5)"
   ]
  },
  {
   "cell_type": "code",
   "execution_count": 45,
   "id": "f7a980b3",
   "metadata": {
    "slideshow": {
     "slide_type": "skip"
    }
   },
   "outputs": [
    {
     "data": {
      "text/html": [
       "<div>\n",
       "<style scoped>\n",
       "    .dataframe tbody tr th:only-of-type {\n",
       "        vertical-align: middle;\n",
       "    }\n",
       "\n",
       "    .dataframe tbody tr th {\n",
       "        vertical-align: top;\n",
       "    }\n",
       "\n",
       "    .dataframe thead th {\n",
       "        text-align: right;\n",
       "    }\n",
       "</style>\n",
       "<table border=\"1\" class=\"dataframe\">\n",
       "  <thead>\n",
       "    <tr style=\"text-align: right;\">\n",
       "      <th></th>\n",
       "      <th>tag</th>\n",
       "      <th>preference</th>\n",
       "      <th>association</th>\n",
       "      <th>preference category</th>\n",
       "      <th>is strict</th>\n",
       "      <th>tag_type</th>\n",
       "    </tr>\n",
       "  </thead>\n",
       "  <tbody>\n",
       "    <tr>\n",
       "      <th>0</th>\n",
       "      <td>allergen nuts</td>\n",
       "      <td>Allergen-free products</td>\n",
       "      <td>-1</td>\n",
       "      <td>Health</td>\n",
       "      <td>False</td>\n",
       "      <td>product</td>\n",
       "    </tr>\n",
       "    <tr>\n",
       "      <th>1</th>\n",
       "      <td>allergen nuts</td>\n",
       "      <td>High-protein products</td>\n",
       "      <td>1</td>\n",
       "      <td>Health</td>\n",
       "      <td>False</td>\n",
       "      <td>product</td>\n",
       "    </tr>\n",
       "    <tr>\n",
       "      <th>2</th>\n",
       "      <td>allergen soybeans and products thereof</td>\n",
       "      <td>Allergen-free products</td>\n",
       "      <td>-1</td>\n",
       "      <td>Health</td>\n",
       "      <td>False</td>\n",
       "      <td>product</td>\n",
       "    </tr>\n",
       "    <tr>\n",
       "      <th>3</th>\n",
       "      <td>allergen soybeans and products thereof</td>\n",
       "      <td>High-protein products</td>\n",
       "      <td>1</td>\n",
       "      <td>Health</td>\n",
       "      <td>False</td>\n",
       "      <td>product</td>\n",
       "    </tr>\n",
       "    <tr>\n",
       "      <th>4</th>\n",
       "      <td>allergens celery and products thereof</td>\n",
       "      <td>Allergen-free products</td>\n",
       "      <td>-1</td>\n",
       "      <td>Health</td>\n",
       "      <td>False</td>\n",
       "      <td>product</td>\n",
       "    </tr>\n",
       "  </tbody>\n",
       "</table>\n",
       "</div>"
      ],
      "text/plain": [
       "                                      tag              preference  \\\n",
       "0                           allergen nuts  Allergen-free products   \n",
       "1                           allergen nuts   High-protein products   \n",
       "2  allergen soybeans and products thereof  Allergen-free products   \n",
       "3  allergen soybeans and products thereof   High-protein products   \n",
       "4   allergens celery and products thereof  Allergen-free products   \n",
       "\n",
       "   association preference category  is strict tag_type  \n",
       "0           -1              Health      False  product  \n",
       "1            1              Health      False  product  \n",
       "2           -1              Health      False  product  \n",
       "3            1              Health      False  product  \n",
       "4           -1              Health      False  product  "
      ]
     },
     "execution_count": 45,
     "metadata": {},
     "output_type": "execute_result"
    }
   ],
   "source": [
    "product_associations = ontology_data.groupby(by=[\"product tag\", \"preference\", \"preference category\", \"is strict\"])['score'].agg([('sum','mean')]).reset_index()\n",
    "product_associations[\"association\"] = product_associations[\"sum\"].apply(lambda x: 1 if x>=0 else -1)\n",
    "product_associations = product_associations[[\"product tag\", \"preference\", \"association\", \"preference category\", \"is strict\"]]\n",
    "product_associations[\"tag_type\"] = \"product\"\n",
    "product_associations.columns = [\"tag\", \"preference\", \"association\", \"preference category\", \"is strict\", \"tag_type\"]\n",
    "product_associations.head(5)"
   ]
  },
  {
   "cell_type": "code",
   "execution_count": 46,
   "id": "2c30b0be",
   "metadata": {
    "slideshow": {
     "slide_type": "skip"
    }
   },
   "outputs": [
    {
     "data": {
      "text/html": [
       "<div>\n",
       "<style scoped>\n",
       "    .dataframe tbody tr th:only-of-type {\n",
       "        vertical-align: middle;\n",
       "    }\n",
       "\n",
       "    .dataframe tbody tr th {\n",
       "        vertical-align: top;\n",
       "    }\n",
       "\n",
       "    .dataframe thead th {\n",
       "        text-align: right;\n",
       "    }\n",
       "</style>\n",
       "<table border=\"1\" class=\"dataframe\">\n",
       "  <thead>\n",
       "    <tr style=\"text-align: right;\">\n",
       "      <th></th>\n",
       "      <th>tag</th>\n",
       "      <th>preference</th>\n",
       "      <th>association</th>\n",
       "      <th>preference category</th>\n",
       "      <th>is strict</th>\n",
       "      <th>tag_type</th>\n",
       "    </tr>\n",
       "  </thead>\n",
       "  <tbody>\n",
       "    <tr>\n",
       "      <th>0</th>\n",
       "      <td>allergen free</td>\n",
       "      <td>Allergen-free products</td>\n",
       "      <td>1</td>\n",
       "      <td>Health</td>\n",
       "      <td>False</td>\n",
       "      <td>preference</td>\n",
       "    </tr>\n",
       "    <tr>\n",
       "      <th>1</th>\n",
       "      <td>animal rights</td>\n",
       "      <td>Products from companies that support animal ri...</td>\n",
       "      <td>1</td>\n",
       "      <td>Social</td>\n",
       "      <td>False</td>\n",
       "      <td>preference</td>\n",
       "    </tr>\n",
       "    <tr>\n",
       "      <th>2</th>\n",
       "      <td>antioxidants</td>\n",
       "      <td>Products rich in antioxidants</td>\n",
       "      <td>1</td>\n",
       "      <td>Health</td>\n",
       "      <td>False</td>\n",
       "      <td>preference</td>\n",
       "    </tr>\n",
       "    <tr>\n",
       "      <th>3</th>\n",
       "      <td>biodegradeable</td>\n",
       "      <td>Products disposed in an environmentally friend...</td>\n",
       "      <td>1</td>\n",
       "      <td>Environment</td>\n",
       "      <td>False</td>\n",
       "      <td>preference</td>\n",
       "    </tr>\n",
       "    <tr>\n",
       "      <th>4</th>\n",
       "      <td>biodynamic and permaculture</td>\n",
       "      <td>Products disposed in an environmentally friend...</td>\n",
       "      <td>1</td>\n",
       "      <td>Environment</td>\n",
       "      <td>False</td>\n",
       "      <td>preference</td>\n",
       "    </tr>\n",
       "  </tbody>\n",
       "</table>\n",
       "</div>"
      ],
      "text/plain": [
       "                           tag  \\\n",
       "0                allergen free   \n",
       "1                animal rights   \n",
       "2                 antioxidants   \n",
       "3               biodegradeable   \n",
       "4  biodynamic and permaculture   \n",
       "\n",
       "                                          preference  association  \\\n",
       "0                             Allergen-free products            1   \n",
       "1  Products from companies that support animal ri...            1   \n",
       "2                      Products rich in antioxidants            1   \n",
       "3  Products disposed in an environmentally friend...            1   \n",
       "4  Products disposed in an environmentally friend...            1   \n",
       "\n",
       "  preference category  is strict    tag_type  \n",
       "0              Health      False  preference  \n",
       "1              Social      False  preference  \n",
       "2              Health      False  preference  \n",
       "3         Environment      False  preference  \n",
       "4         Environment      False  preference  "
      ]
     },
     "execution_count": 46,
     "metadata": {},
     "output_type": "execute_result"
    }
   ],
   "source": [
    "preference_associations = ontology_data.groupby(by=[\"preference tag\", \"preference\", \"preference category\", \"is strict\"]).count().reset_index()\n",
    "preference_associations[\"association\"] = 1\n",
    "preference_associations = preference_associations[[\"preference tag\", \"preference\", \"association\", \"preference category\", \"is strict\"]]\n",
    "preference_associations[\"tag_type\"] = \"preference\"\n",
    "preference_associations.columns = [\"tag\", \"preference\", \"association\", \"preference category\", \"is strict\", \"tag_type\"]\n",
    "preference_associations.head(5)"
   ]
  },
  {
   "cell_type": "code",
   "execution_count": 47,
   "id": "eb6211fb",
   "metadata": {
    "slideshow": {
     "slide_type": "skip"
    }
   },
   "outputs": [
    {
     "data": {
      "text/html": [
       "<div>\n",
       "<style scoped>\n",
       "    .dataframe tbody tr th:only-of-type {\n",
       "        vertical-align: middle;\n",
       "    }\n",
       "\n",
       "    .dataframe tbody tr th {\n",
       "        vertical-align: top;\n",
       "    }\n",
       "\n",
       "    .dataframe thead th {\n",
       "        text-align: right;\n",
       "    }\n",
       "</style>\n",
       "<table border=\"1\" class=\"dataframe\">\n",
       "  <thead>\n",
       "    <tr style=\"text-align: right;\">\n",
       "      <th></th>\n",
       "      <th>tag</th>\n",
       "      <th>preference</th>\n",
       "      <th>association</th>\n",
       "      <th>preference category</th>\n",
       "      <th>is strict</th>\n",
       "      <th>tag_type</th>\n",
       "    </tr>\n",
       "  </thead>\n",
       "  <tbody>\n",
       "    <tr>\n",
       "      <th>157</th>\n",
       "      <td>low salt</td>\n",
       "      <td>Low salt products</td>\n",
       "      <td>1</td>\n",
       "      <td>Health</td>\n",
       "      <td>False</td>\n",
       "      <td>product</td>\n",
       "    </tr>\n",
       "    <tr>\n",
       "      <th>182</th>\n",
       "      <td>no public environmental reports</td>\n",
       "      <td>Products from companies that support animal ri...</td>\n",
       "      <td>-1</td>\n",
       "      <td>Social</td>\n",
       "      <td>False</td>\n",
       "      <td>product</td>\n",
       "    </tr>\n",
       "    <tr>\n",
       "      <th>243</th>\n",
       "      <td>country of the retailer</td>\n",
       "      <td>Locally originated and domestic products</td>\n",
       "      <td>1</td>\n",
       "      <td>Quality</td>\n",
       "      <td>False</td>\n",
       "      <td>preference</td>\n",
       "    </tr>\n",
       "    <tr>\n",
       "      <th>228</th>\n",
       "      <td>very transparent company</td>\n",
       "      <td>Products from fair trade label companies</td>\n",
       "      <td>1</td>\n",
       "      <td>Social</td>\n",
       "      <td>False</td>\n",
       "      <td>product</td>\n",
       "    </tr>\n",
       "    <tr>\n",
       "      <th>258</th>\n",
       "      <td>low fat</td>\n",
       "      <td>Low fat products</td>\n",
       "      <td>1</td>\n",
       "      <td>Health</td>\n",
       "      <td>False</td>\n",
       "      <td>preference</td>\n",
       "    </tr>\n",
       "  </tbody>\n",
       "</table>\n",
       "</div>"
      ],
      "text/plain": [
       "                                 tag  \\\n",
       "157                         low salt   \n",
       "182  no public environmental reports   \n",
       "243          country of the retailer   \n",
       "228         very transparent company   \n",
       "258                          low fat   \n",
       "\n",
       "                                            preference  association  \\\n",
       "157                                  Low salt products            1   \n",
       "182  Products from companies that support animal ri...           -1   \n",
       "243           Locally originated and domestic products            1   \n",
       "228           Products from fair trade label companies            1   \n",
       "258                                   Low fat products            1   \n",
       "\n",
       "    preference category  is strict    tag_type  \n",
       "157              Health      False     product  \n",
       "182              Social      False     product  \n",
       "243             Quality      False  preference  \n",
       "228              Social      False     product  \n",
       "258              Health      False  preference  "
      ]
     },
     "execution_count": 47,
     "metadata": {},
     "output_type": "execute_result"
    }
   ],
   "source": [
    "vocab = pd.concat([product_associations, preference_associations], ignore_index=True)\n",
    "vocab = vocab.sort_values(by=[\"preference\", \"preference category\"])\n",
    "vocab.sample(5)"
   ]
  },
  {
   "cell_type": "code",
   "execution_count": 48,
   "id": "658b1f74",
   "metadata": {},
   "outputs": [
    {
     "data": {
      "text/plain": [
       "<AxesSubplot:xlabel='Word Count per Tag', ylabel='Number of Tags'>"
      ]
     },
     "execution_count": 48,
     "metadata": {},
     "output_type": "execute_result"
    },
    {
     "data": {
      "image/png": "[encoded data removed]",
      "text/plain": [
       "<Figure size 640x480 with 1 Axes>"
      ]
     },
     "metadata": {},
     "output_type": "display_data"
    }
   ],
   "source": [
    "# Product Tags\n",
    "word_count = vocab[\"tag\"].apply(lambda s: len(s.strip().split()))\n",
    "ax = word_count.hist(bins=30)\n",
    "ax.set_xlabel(\"Word Count per Tag\")\n",
    "ax.set_ylabel(\"Number of Tags\")\n",
    "ax"
   ]
  },
  {
   "cell_type": "markdown",
   "id": "f8f107e1",
   "metadata": {
    "slideshow": {
     "slide_type": "subslide"
    }
   },
   "source": [
    "### Automatic Data Augmentation\n",
    "\n",
    "Combing preference and product tags to create vocabulary"
   ]
  },
  {
   "cell_type": "code",
   "execution_count": 49,
   "id": "210623fb",
   "metadata": {
    "slideshow": {
     "slide_type": "skip"
    }
   },
   "outputs": [
    {
     "data": {
      "text/html": [
       "<div>\n",
       "<style scoped>\n",
       "    .dataframe tbody tr th:only-of-type {\n",
       "        vertical-align: middle;\n",
       "    }\n",
       "\n",
       "    .dataframe tbody tr th {\n",
       "        vertical-align: top;\n",
       "    }\n",
       "\n",
       "    .dataframe thead th {\n",
       "        text-align: right;\n",
       "    }\n",
       "</style>\n",
       "<table border=\"1\" class=\"dataframe\">\n",
       "  <thead>\n",
       "    <tr style=\"text-align: right;\">\n",
       "      <th></th>\n",
       "      <th>preference</th>\n",
       "      <th>Number of Tags</th>\n",
       "    </tr>\n",
       "  </thead>\n",
       "  <tbody>\n",
       "    <tr>\n",
       "      <th>0</th>\n",
       "      <td>Allergen-free products</td>\n",
       "      <td>31</td>\n",
       "    </tr>\n",
       "    <tr>\n",
       "      <th>1</th>\n",
       "      <td>Award winning or high quality certified products</td>\n",
       "      <td>2</td>\n",
       "    </tr>\n",
       "    <tr>\n",
       "      <th>2</th>\n",
       "      <td>Fresh products</td>\n",
       "      <td>3</td>\n",
       "    </tr>\n",
       "    <tr>\n",
       "      <th>3</th>\n",
       "      <td>Gluten-free products</td>\n",
       "      <td>10</td>\n",
       "    </tr>\n",
       "    <tr>\n",
       "      <th>4</th>\n",
       "      <td>High-protein products</td>\n",
       "      <td>11</td>\n",
       "    </tr>\n",
       "    <tr>\n",
       "      <th>5</th>\n",
       "      <td>Lactose-free products</td>\n",
       "      <td>5</td>\n",
       "    </tr>\n",
       "    <tr>\n",
       "      <th>6</th>\n",
       "      <td>Locally originated and domestic products</td>\n",
       "      <td>5</td>\n",
       "    </tr>\n",
       "    <tr>\n",
       "      <th>7</th>\n",
       "      <td>Low fat products</td>\n",
       "      <td>7</td>\n",
       "    </tr>\n",
       "    <tr>\n",
       "      <th>8</th>\n",
       "      <td>Low salt products</td>\n",
       "      <td>5</td>\n",
       "    </tr>\n",
       "    <tr>\n",
       "      <th>9</th>\n",
       "      <td>Low sugar products</td>\n",
       "      <td>4</td>\n",
       "    </tr>\n",
       "    <tr>\n",
       "      <th>10</th>\n",
       "      <td>Products disposed in an environmentally friend...</td>\n",
       "      <td>36</td>\n",
       "    </tr>\n",
       "    <tr>\n",
       "      <th>11</th>\n",
       "      <td>Products from companies that actively contribu...</td>\n",
       "      <td>4</td>\n",
       "    </tr>\n",
       "    <tr>\n",
       "      <th>12</th>\n",
       "      <td>Products from companies that support animal ri...</td>\n",
       "      <td>36</td>\n",
       "    </tr>\n",
       "    <tr>\n",
       "      <th>13</th>\n",
       "      <td>Products from companies that support fairness ...</td>\n",
       "      <td>14</td>\n",
       "    </tr>\n",
       "    <tr>\n",
       "      <th>14</th>\n",
       "      <td>Products from companies with transparent activ...</td>\n",
       "      <td>8</td>\n",
       "    </tr>\n",
       "    <tr>\n",
       "      <th>15</th>\n",
       "      <td>Products from fair trade label companies</td>\n",
       "      <td>5</td>\n",
       "    </tr>\n",
       "    <tr>\n",
       "      <th>16</th>\n",
       "      <td>Products produced and distributed in an enviro...</td>\n",
       "      <td>22</td>\n",
       "    </tr>\n",
       "    <tr>\n",
       "      <th>17</th>\n",
       "      <td>Products rich in antioxidants</td>\n",
       "      <td>2</td>\n",
       "    </tr>\n",
       "    <tr>\n",
       "      <th>18</th>\n",
       "      <td>Products without artificial colours or flavor ...</td>\n",
       "      <td>6</td>\n",
       "    </tr>\n",
       "    <tr>\n",
       "      <th>19</th>\n",
       "      <td>Products without preservatives</td>\n",
       "      <td>6</td>\n",
       "    </tr>\n",
       "    <tr>\n",
       "      <th>20</th>\n",
       "      <td>Products without thickeners, stabilizers or em...</td>\n",
       "      <td>3</td>\n",
       "    </tr>\n",
       "    <tr>\n",
       "      <th>21</th>\n",
       "      <td>Sustainably farmed products</td>\n",
       "      <td>17</td>\n",
       "    </tr>\n",
       "    <tr>\n",
       "      <th>22</th>\n",
       "      <td>Vegan products</td>\n",
       "      <td>21</td>\n",
       "    </tr>\n",
       "    <tr>\n",
       "      <th>23</th>\n",
       "      <td>Vegetarian products</td>\n",
       "      <td>17</td>\n",
       "    </tr>\n",
       "  </tbody>\n",
       "</table>\n",
       "</div>"
      ],
      "text/plain": [
       "                                           preference  Number of Tags\n",
       "0                              Allergen-free products              31\n",
       "1    Award winning or high quality certified products               2\n",
       "2                                      Fresh products               3\n",
       "3                                Gluten-free products              10\n",
       "4                               High-protein products              11\n",
       "5                               Lactose-free products               5\n",
       "6            Locally originated and domestic products               5\n",
       "7                                    Low fat products               7\n",
       "8                                   Low salt products               5\n",
       "9                                  Low sugar products               4\n",
       "10  Products disposed in an environmentally friend...              36\n",
       "11  Products from companies that actively contribu...               4\n",
       "12  Products from companies that support animal ri...              36\n",
       "13  Products from companies that support fairness ...              14\n",
       "14  Products from companies with transparent activ...               8\n",
       "15           Products from fair trade label companies               5\n",
       "16  Products produced and distributed in an enviro...              22\n",
       "17                      Products rich in antioxidants               2\n",
       "18  Products without artificial colours or flavor ...               6\n",
       "19                     Products without preservatives               6\n",
       "20  Products without thickeners, stabilizers or em...               3\n",
       "21                        Sustainably farmed products              17\n",
       "22                                     Vegan products              21\n",
       "23                                Vegetarian products              17"
      ]
     },
     "execution_count": 49,
     "metadata": {},
     "output_type": "execute_result"
    }
   ],
   "source": [
    "vocab.groupby(\"preference\")[\"tag\"].agg([('Number of Tags', 'count')]).reset_index()"
   ]
  },
  {
   "cell_type": "code",
   "execution_count": 50,
   "id": "daecaf41",
   "metadata": {
    "slideshow": {
     "slide_type": "subslide"
    }
   },
   "outputs": [
    {
     "data": {
      "text/html": [
       "<div>\n",
       "<style scoped>\n",
       "    .dataframe tbody tr th:only-of-type {\n",
       "        vertical-align: middle;\n",
       "    }\n",
       "\n",
       "    .dataframe tbody tr th {\n",
       "        vertical-align: top;\n",
       "    }\n",
       "\n",
       "    .dataframe thead th {\n",
       "        text-align: right;\n",
       "    }\n",
       "</style>\n",
       "<table border=\"1\" class=\"dataframe\">\n",
       "  <thead>\n",
       "    <tr style=\"text-align: right;\">\n",
       "      <th></th>\n",
       "      <th>preference category</th>\n",
       "      <th>Number of Tags</th>\n",
       "    </tr>\n",
       "  </thead>\n",
       "  <tbody>\n",
       "    <tr>\n",
       "      <th>0</th>\n",
       "      <td>Environment</td>\n",
       "      <td>75</td>\n",
       "    </tr>\n",
       "    <tr>\n",
       "      <th>1</th>\n",
       "      <td>Health</td>\n",
       "      <td>128</td>\n",
       "    </tr>\n",
       "    <tr>\n",
       "      <th>2</th>\n",
       "      <td>Quality</td>\n",
       "      <td>10</td>\n",
       "    </tr>\n",
       "    <tr>\n",
       "      <th>3</th>\n",
       "      <td>Social</td>\n",
       "      <td>67</td>\n",
       "    </tr>\n",
       "  </tbody>\n",
       "</table>\n",
       "</div>"
      ],
      "text/plain": [
       "  preference category  Number of Tags\n",
       "0         Environment              75\n",
       "1              Health             128\n",
       "2             Quality              10\n",
       "3              Social              67"
      ]
     },
     "execution_count": 50,
     "metadata": {},
     "output_type": "execute_result"
    }
   ],
   "source": [
    "vocab.groupby(\"preference category\")[\"tag\"].agg([('Number of Tags', 'count')]).reset_index()"
   ]
  },
  {
   "cell_type": "code",
   "execution_count": 51,
   "id": "fbd1ca07",
   "metadata": {
    "slideshow": {
     "slide_type": "skip"
    }
   },
   "outputs": [],
   "source": [
    "# pd.DataFrame(vocab).to_excel(\"vocab.xlsx\")"
   ]
  },
  {
   "cell_type": "markdown",
   "id": "93cf5e20",
   "metadata": {
    "slideshow": {
     "slide_type": "subslide"
    }
   },
   "source": [
    "### Manual Data Augmentation"
   ]
  },
  {
   "cell_type": "code",
   "execution_count": 52,
   "id": "ca11747a",
   "metadata": {
    "slideshow": {
     "slide_type": "subslide"
    }
   },
   "outputs": [
    {
     "data": {
      "text/html": [
       "<div>\n",
       "<style scoped>\n",
       "    .dataframe tbody tr th:only-of-type {\n",
       "        vertical-align: middle;\n",
       "    }\n",
       "\n",
       "    .dataframe tbody tr th {\n",
       "        vertical-align: top;\n",
       "    }\n",
       "\n",
       "    .dataframe thead th {\n",
       "        text-align: right;\n",
       "    }\n",
       "</style>\n",
       "<table border=\"1\" class=\"dataframe\">\n",
       "  <thead>\n",
       "    <tr style=\"text-align: right;\">\n",
       "      <th></th>\n",
       "      <th>tag</th>\n",
       "      <th>preference</th>\n",
       "      <th>association</th>\n",
       "      <th>preference category</th>\n",
       "      <th>conditional</th>\n",
       "      <th>update_code</th>\n",
       "      <th>comment</th>\n",
       "      <th>Len</th>\n",
       "    </tr>\n",
       "  </thead>\n",
       "  <tbody>\n",
       "    <tr>\n",
       "      <th>0</th>\n",
       "      <td>sustainable palm oil</td>\n",
       "      <td>Products produced and distributed in an enviro...</td>\n",
       "      <td>1</td>\n",
       "      <td>Environment</td>\n",
       "      <td>False</td>\n",
       "      <td>2</td>\n",
       "      <td>Removed Unnecessary Words</td>\n",
       "      <td>20</td>\n",
       "    </tr>\n",
       "    <tr>\n",
       "      <th>1</th>\n",
       "      <td>use some sustainable palm oil that doesnt caus...</td>\n",
       "      <td>Products produced and distributed in an enviro...</td>\n",
       "      <td>1</td>\n",
       "      <td>Environment</td>\n",
       "      <td>False</td>\n",
       "      <td>-1</td>\n",
       "      <td>Redundant</td>\n",
       "      <td>61</td>\n",
       "    </tr>\n",
       "    <tr>\n",
       "      <th>2</th>\n",
       "      <td>allergen milk of mammal and dairy product incl...</td>\n",
       "      <td>Allergen-free products</td>\n",
       "      <td>-1</td>\n",
       "      <td>Health</td>\n",
       "      <td>True</td>\n",
       "      <td>2</td>\n",
       "      <td>Removed Unnecessary Words</td>\n",
       "      <td>59</td>\n",
       "    </tr>\n",
       "    <tr>\n",
       "      <th>3</th>\n",
       "      <td>unsustainable palm oil</td>\n",
       "      <td>Products produced and distributed in an enviro...</td>\n",
       "      <td>-1</td>\n",
       "      <td>Environment</td>\n",
       "      <td>False</td>\n",
       "      <td>2</td>\n",
       "      <td>Removed Unnecessary Words</td>\n",
       "      <td>22</td>\n",
       "    </tr>\n",
       "    <tr>\n",
       "      <th>4</th>\n",
       "      <td>allergen mollusc such a snail clam cuttlefish ...</td>\n",
       "      <td>Allergen-free products</td>\n",
       "      <td>-1</td>\n",
       "      <td>Health</td>\n",
       "      <td>True</td>\n",
       "      <td>2</td>\n",
       "      <td>Removed Unnecessary Words</td>\n",
       "      <td>53</td>\n",
       "    </tr>\n",
       "  </tbody>\n",
       "</table>\n",
       "</div>"
      ],
      "text/plain": [
       "                                                 tag  \\\n",
       "0                               sustainable palm oil   \n",
       "1  use some sustainable palm oil that doesnt caus...   \n",
       "2  allergen milk of mammal and dairy product incl...   \n",
       "3                             unsustainable palm oil   \n",
       "4  allergen mollusc such a snail clam cuttlefish ...   \n",
       "\n",
       "                                          preference  association  \\\n",
       "0  Products produced and distributed in an enviro...            1   \n",
       "1  Products produced and distributed in an enviro...            1   \n",
       "2                             Allergen-free products           -1   \n",
       "3  Products produced and distributed in an enviro...           -1   \n",
       "4                             Allergen-free products           -1   \n",
       "\n",
       "  preference category  conditional  update_code                    comment  \\\n",
       "0         Environment        False            2  Removed Unnecessary Words   \n",
       "1         Environment        False           -1                  Redundant   \n",
       "2              Health         True            2  Removed Unnecessary Words   \n",
       "3         Environment        False            2  Removed Unnecessary Words   \n",
       "4              Health         True            2  Removed Unnecessary Words   \n",
       "\n",
       "   Len  \n",
       "0   20  \n",
       "1   61  \n",
       "2   59  \n",
       "3   22  \n",
       "4   53  "
      ]
     },
     "execution_count": 52,
     "metadata": {},
     "output_type": "execute_result"
    }
   ],
   "source": [
    "vocab_updated = pd.read_excel(\"vocab_updated.xlsx\")\n",
    "vocab_updated.drop(columns=vocab_updated.columns[0], axis=1, inplace=True)\n",
    "vocab_updated.drop_duplicates(subset=[\"tag\", \"preference\"], inplace=True)\n",
    "vocab_updated.head(5)"
   ]
  },
  {
   "cell_type": "markdown",
   "id": "46a9529a",
   "metadata": {
    "slideshow": {
     "slide_type": "subslide"
    }
   },
   "source": [
    "| Update Code | Code Description | Possible Reasons |\n",
    "|---|---|---|\n",
    "|0 | No Change | No changes done to the tag |\n",
    "|1 | New tag added | Alternate tags for existing tags or negation of tags by using keywords like \"without\", \"not\" or \"no\" |\n",
    "|2 | Updated | Spelling corrections or converting keyword from unigram to bi-gram |\n",
    "|-1 | Removed | Specific to the experiment conducted in Estonian and Austrian market or non-English words or redundant tags |\n"
   ]
  },
  {
   "cell_type": "code",
   "execution_count": 53,
   "id": "babb0b6e",
   "metadata": {
    "slideshow": {
     "slide_type": "skip"
    }
   },
   "outputs": [
    {
     "data": {
      "text/plain": [
       " 0    218\n",
       " 1    125\n",
       " 2     38\n",
       "-1     23\n",
       "Name: update_code, dtype: int64"
      ]
     },
     "execution_count": 53,
     "metadata": {},
     "output_type": "execute_result"
    }
   ],
   "source": [
    "vocab_updated[\"update_code\"].value_counts()"
   ]
  },
  {
   "cell_type": "code",
   "execution_count": 54,
   "id": "07518208",
   "metadata": {
    "slideshow": {
     "slide_type": "skip"
    }
   },
   "outputs": [
    {
     "data": {
      "text/plain": [
       "preference category\n",
       "Environment     3\n",
       "Health         14\n",
       "Quality         3\n",
       "Social          6\n",
       "Name: preference, dtype: int64"
      ]
     },
     "execution_count": 54,
     "metadata": {},
     "output_type": "execute_result"
    }
   ],
   "source": [
    "vocab_updated.groupby([\"preference\", \"preference category\"])[\"tag\"].agg([('count', 'count')]).reset_index().groupby(\"preference category\")[\"preference\"].count()"
   ]
  },
  {
   "cell_type": "code",
   "execution_count": 55,
   "id": "87743eb6",
   "metadata": {
    "slideshow": {
     "slide_type": "subslide"
    }
   },
   "outputs": [
    {
     "data": {
      "text/html": [
       "<div>\n",
       "<style scoped>\n",
       "    .dataframe tbody tr th:only-of-type {\n",
       "        vertical-align: middle;\n",
       "    }\n",
       "\n",
       "    .dataframe tbody tr th {\n",
       "        vertical-align: top;\n",
       "    }\n",
       "\n",
       "    .dataframe thead th {\n",
       "        text-align: right;\n",
       "    }\n",
       "</style>\n",
       "<table border=\"1\" class=\"dataframe\">\n",
       "  <thead>\n",
       "    <tr style=\"text-align: right;\">\n",
       "      <th></th>\n",
       "      <th>tag</th>\n",
       "      <th>preference</th>\n",
       "      <th>association</th>\n",
       "      <th>preference category</th>\n",
       "      <th>conditional</th>\n",
       "      <th>update_code</th>\n",
       "      <th>comment</th>\n",
       "      <th>Len</th>\n",
       "    </tr>\n",
       "  </thead>\n",
       "  <tbody>\n",
       "    <tr>\n",
       "      <th>339</th>\n",
       "      <td>green farm</td>\n",
       "      <td>Products from companies that support animal ri...</td>\n",
       "      <td>1</td>\n",
       "      <td>Social</td>\n",
       "      <td>False</td>\n",
       "      <td>0</td>\n",
       "      <td>No Change</td>\n",
       "      <td>10</td>\n",
       "    </tr>\n",
       "    <tr>\n",
       "      <th>130</th>\n",
       "      <td>fresh made in store</td>\n",
       "      <td>Fresh products</td>\n",
       "      <td>1</td>\n",
       "      <td>Quality</td>\n",
       "      <td>False</td>\n",
       "      <td>0</td>\n",
       "      <td>No Change</td>\n",
       "      <td>19</td>\n",
       "    </tr>\n",
       "    <tr>\n",
       "      <th>88</th>\n",
       "      <td>contain animal product</td>\n",
       "      <td>Vegetarian products</td>\n",
       "      <td>-1</td>\n",
       "      <td>Health</td>\n",
       "      <td>True</td>\n",
       "      <td>0</td>\n",
       "      <td>No Change</td>\n",
       "      <td>22</td>\n",
       "    </tr>\n",
       "    <tr>\n",
       "      <th>379</th>\n",
       "      <td>vegan</td>\n",
       "      <td>Vegan products</td>\n",
       "      <td>1</td>\n",
       "      <td>Health</td>\n",
       "      <td>True</td>\n",
       "      <td>0</td>\n",
       "      <td>No Change</td>\n",
       "      <td>5</td>\n",
       "    </tr>\n",
       "    <tr>\n",
       "      <th>256</th>\n",
       "      <td>no emulsifier</td>\n",
       "      <td>Products without thickeners, stabilizers or em...</td>\n",
       "      <td>1</td>\n",
       "      <td>Health</td>\n",
       "      <td>False</td>\n",
       "      <td>1</td>\n",
       "      <td>Alternative</td>\n",
       "      <td>13</td>\n",
       "    </tr>\n",
       "  </tbody>\n",
       "</table>\n",
       "</div>"
      ],
      "text/plain": [
       "                        tag  \\\n",
       "339              green farm   \n",
       "130     fresh made in store   \n",
       "88   contain animal product   \n",
       "379                   vegan   \n",
       "256           no emulsifier   \n",
       "\n",
       "                                            preference  association  \\\n",
       "339  Products from companies that support animal ri...            1   \n",
       "130                                     Fresh products            1   \n",
       "88                                 Vegetarian products           -1   \n",
       "379                                     Vegan products            1   \n",
       "256  Products without thickeners, stabilizers or em...            1   \n",
       "\n",
       "    preference category  conditional  update_code      comment  Len  \n",
       "339              Social        False            0    No Change   10  \n",
       "130             Quality        False            0    No Change   19  \n",
       "88               Health         True            0    No Change   22  \n",
       "379              Health         True            0    No Change    5  \n",
       "256              Health        False            1  Alternative   13  "
      ]
     },
     "execution_count": 55,
     "metadata": {},
     "output_type": "execute_result"
    }
   ],
   "source": [
    "vocab_updated = vocab_updated.loc[vocab_updated[\"update_code\"]>=0]\n",
    "vocab_updated.drop_duplicates(subset=[\"tag\", \"preference\"], inplace=True)\n",
    "vocab_updated.reset_index(drop=True, inplace=True)\n",
    "vocab_updated.sample(5)"
   ]
  },
  {
   "cell_type": "code",
   "execution_count": 56,
   "id": "a73c02d3",
   "metadata": {
    "slideshow": {
     "slide_type": "subslide"
    }
   },
   "outputs": [
    {
     "name": "stdout",
     "output_type": "stream",
     "text": [
      "Vocab Size before Manual Data Augmentation = 280\n",
      "Vocab Size after Manual Data Augmentation = 381\n"
     ]
    }
   ],
   "source": [
    "print(f\"Vocab Size before Manual Data Augmentation = {vocab.shape[0]}\")\n",
    "print(f\"Vocab Size after Manual Data Augmentation = {vocab_updated.shape[0]}\")"
   ]
  },
  {
   "cell_type": "code",
   "execution_count": 57,
   "id": "c6355c84",
   "metadata": {},
   "outputs": [
    {
     "name": "stdout",
     "output_type": "stream",
     "text": [
      "Successfully inserted (or updated) ontology_data table\n"
     ]
    }
   ],
   "source": [
    "table_col_map = {\"preference\":\"sustainability_preference\", \"preference category\": \"preference_category\"}\n",
    "data_to_insert = vocab_updated[[\"tag\", \"preference\", \"preference category\", \"association\", \"conditional\"]]\n",
    "data_to_insert.index.name=\"idx\"\n",
    "# data_to_insert[\"conditional\"] = data_to_insert[\"conditional\"].astype(int)\n",
    "data_to_insert = data_to_insert.rename(columns=table_col_map)\n",
    "dbWriter.insert_data(df=data_to_insert, table_name=\"ontology_data\", include_index=True)"
   ]
  },
  {
   "cell_type": "code",
   "execution_count": 58,
   "id": "d337f3f4",
   "metadata": {},
   "outputs": [
    {
     "data": {
      "text/html": [
       "<div>\n",
       "<style scoped>\n",
       "    .dataframe tbody tr th:only-of-type {\n",
       "        vertical-align: middle;\n",
       "    }\n",
       "\n",
       "    .dataframe tbody tr th {\n",
       "        vertical-align: top;\n",
       "    }\n",
       "\n",
       "    .dataframe thead th {\n",
       "        text-align: right;\n",
       "    }\n",
       "</style>\n",
       "<table border=\"1\" class=\"dataframe\">\n",
       "  <thead>\n",
       "    <tr style=\"text-align: right;\">\n",
       "      <th></th>\n",
       "      <th>preference</th>\n",
       "      <th>preference category</th>\n",
       "    </tr>\n",
       "  </thead>\n",
       "  <tbody>\n",
       "    <tr>\n",
       "      <th>0</th>\n",
       "      <td>Allergen-free products</td>\n",
       "      <td>Health</td>\n",
       "    </tr>\n",
       "    <tr>\n",
       "      <th>1</th>\n",
       "      <td>Award winning or high quality certified products</td>\n",
       "      <td>Quality</td>\n",
       "    </tr>\n",
       "    <tr>\n",
       "      <th>2</th>\n",
       "      <td>Fresh products</td>\n",
       "      <td>Quality</td>\n",
       "    </tr>\n",
       "    <tr>\n",
       "      <th>3</th>\n",
       "      <td>Gluten-free products</td>\n",
       "      <td>Health</td>\n",
       "    </tr>\n",
       "    <tr>\n",
       "      <th>4</th>\n",
       "      <td>High-protein products</td>\n",
       "      <td>Health</td>\n",
       "    </tr>\n",
       "    <tr>\n",
       "      <th>5</th>\n",
       "      <td>Lactose-free products</td>\n",
       "      <td>Health</td>\n",
       "    </tr>\n",
       "    <tr>\n",
       "      <th>6</th>\n",
       "      <td>Locally originated and domestic products</td>\n",
       "      <td>Quality</td>\n",
       "    </tr>\n",
       "    <tr>\n",
       "      <th>7</th>\n",
       "      <td>Low fat products</td>\n",
       "      <td>Health</td>\n",
       "    </tr>\n",
       "    <tr>\n",
       "      <th>8</th>\n",
       "      <td>Low salt products</td>\n",
       "      <td>Health</td>\n",
       "    </tr>\n",
       "    <tr>\n",
       "      <th>9</th>\n",
       "      <td>Low sugar products</td>\n",
       "      <td>Health</td>\n",
       "    </tr>\n",
       "    <tr>\n",
       "      <th>10</th>\n",
       "      <td>Organic Product</td>\n",
       "      <td>Health</td>\n",
       "    </tr>\n",
       "    <tr>\n",
       "      <th>11</th>\n",
       "      <td>Products disposed in an environmentally friend...</td>\n",
       "      <td>Environment</td>\n",
       "    </tr>\n",
       "    <tr>\n",
       "      <th>12</th>\n",
       "      <td>Products evaluated with auditing processes tha...</td>\n",
       "      <td>Social</td>\n",
       "    </tr>\n",
       "    <tr>\n",
       "      <th>13</th>\n",
       "      <td>Products from companies that actively contribu...</td>\n",
       "      <td>Social</td>\n",
       "    </tr>\n",
       "    <tr>\n",
       "      <th>14</th>\n",
       "      <td>Products from companies that support animal ri...</td>\n",
       "      <td>Social</td>\n",
       "    </tr>\n",
       "    <tr>\n",
       "      <th>15</th>\n",
       "      <td>Products from companies that support fairness ...</td>\n",
       "      <td>Social</td>\n",
       "    </tr>\n",
       "    <tr>\n",
       "      <th>16</th>\n",
       "      <td>Products from companies with transparent activ...</td>\n",
       "      <td>Social</td>\n",
       "    </tr>\n",
       "    <tr>\n",
       "      <th>17</th>\n",
       "      <td>Products from fair trade label companies</td>\n",
       "      <td>Social</td>\n",
       "    </tr>\n",
       "    <tr>\n",
       "      <th>18</th>\n",
       "      <td>Products produced and distributed in an enviro...</td>\n",
       "      <td>Environment</td>\n",
       "    </tr>\n",
       "    <tr>\n",
       "      <th>19</th>\n",
       "      <td>Products rich in antioxidants</td>\n",
       "      <td>Health</td>\n",
       "    </tr>\n",
       "    <tr>\n",
       "      <th>20</th>\n",
       "      <td>Products without artificial colours or flavor ...</td>\n",
       "      <td>Health</td>\n",
       "    </tr>\n",
       "    <tr>\n",
       "      <th>21</th>\n",
       "      <td>Products without preservatives</td>\n",
       "      <td>Health</td>\n",
       "    </tr>\n",
       "    <tr>\n",
       "      <th>22</th>\n",
       "      <td>Products without thickeners, stabilizers or em...</td>\n",
       "      <td>Health</td>\n",
       "    </tr>\n",
       "    <tr>\n",
       "      <th>23</th>\n",
       "      <td>Sustainably farmed products</td>\n",
       "      <td>Environment</td>\n",
       "    </tr>\n",
       "    <tr>\n",
       "      <th>24</th>\n",
       "      <td>Vegan products</td>\n",
       "      <td>Health</td>\n",
       "    </tr>\n",
       "    <tr>\n",
       "      <th>25</th>\n",
       "      <td>Vegetarian products</td>\n",
       "      <td>Health</td>\n",
       "    </tr>\n",
       "  </tbody>\n",
       "</table>\n",
       "</div>"
      ],
      "text/plain": [
       "                                           preference preference category\n",
       "0                              Allergen-free products              Health\n",
       "1    Award winning or high quality certified products             Quality\n",
       "2                                      Fresh products             Quality\n",
       "3                                Gluten-free products              Health\n",
       "4                               High-protein products              Health\n",
       "5                               Lactose-free products              Health\n",
       "6            Locally originated and domestic products             Quality\n",
       "7                                    Low fat products              Health\n",
       "8                                   Low salt products              Health\n",
       "9                                  Low sugar products              Health\n",
       "10                                    Organic Product              Health\n",
       "11  Products disposed in an environmentally friend...         Environment\n",
       "12  Products evaluated with auditing processes tha...              Social\n",
       "13  Products from companies that actively contribu...              Social\n",
       "14  Products from companies that support animal ri...              Social\n",
       "15  Products from companies that support fairness ...              Social\n",
       "16  Products from companies with transparent activ...              Social\n",
       "17           Products from fair trade label companies              Social\n",
       "18  Products produced and distributed in an enviro...         Environment\n",
       "19                      Products rich in antioxidants              Health\n",
       "20  Products without artificial colours or flavor ...              Health\n",
       "21                     Products without preservatives              Health\n",
       "22  Products without thickeners, stabilizers or em...              Health\n",
       "23                        Sustainably farmed products         Environment\n",
       "24                                     Vegan products              Health\n",
       "25                                Vegetarian products              Health"
      ]
     },
     "execution_count": 58,
     "metadata": {},
     "output_type": "execute_result"
    }
   ],
   "source": [
    "vocab_updated.groupby([\"preference\", \"preference category\"]).count().reset_index()[[\"preference\", \"preference category\"]]"
   ]
  },
  {
   "cell_type": "markdown",
   "id": "abb68709",
   "metadata": {
    "slideshow": {
     "slide_type": "slide"
    }
   },
   "source": [
    "## Keyword Extraction"
   ]
  },
  {
   "cell_type": "code",
   "execution_count": 59,
   "id": "2826b199",
   "metadata": {
    "slideshow": {
     "slide_type": "skip"
    }
   },
   "outputs": [],
   "source": [
    "from ProjectModules import KeywordExtractor, CustomTfidfVectorizer"
   ]
  },
  {
   "cell_type": "code",
   "execution_count": 60,
   "id": "77f6b3b6",
   "metadata": {
    "slideshow": {
     "slide_type": "skip"
    }
   },
   "outputs": [
    {
     "name": "stdout",
     "output_type": "stream",
     "text": [
      "Number of custom stopwords: 175\n"
     ]
    }
   ],
   "source": [
    "with open(\"custom_stopwords.txt\", \"r\") as f:\n",
    "    custom_stopwords = f.read().split(\"\\n\")\n",
    "print(f\"Number of custom stopwords: {len(custom_stopwords)}\")"
   ]
  },
  {
   "cell_type": "markdown",
   "id": "b6c956d1",
   "metadata": {
    "slideshow": {
     "slide_type": "subslide"
    }
   },
   "source": [
    "#### Checking TF-IDF without Augmented Vocab"
   ]
  },
  {
   "cell_type": "code",
   "execution_count": 61,
   "id": "985d29c5",
   "metadata": {
    "slideshow": {
     "slide_type": "fragment"
    }
   },
   "outputs": [
    {
     "name": "stdout",
     "output_type": "stream",
     "text": [
      "TF-IDF without Vocab Augmentation\n",
      "Ontology vocab Size: 280 | Number of features: 675\n",
      "Number of product descriptions: 202961\n",
      "Product tags identified in 53043 product descriptions out of 202961\n"
     ]
    }
   ],
   "source": [
    "print(\"TF-IDF without Vocab Augmentation\")\n",
    "tfidf_wva = CustomTfidfVectorizer(ngram_range=(2,3), stop_words=custom_stopwords)\n",
    "keyword_extractor = KeywordExtractor(tfidf_wva)\n",
    "keyword_extractor.create_vocab(vocab[\"tag\"])\n",
    "onto_tfidf_wva = keyword_extractor.get_vocab_tfidf()\n",
    "desc_tfidf_wva = keyword_extractor.extract_keywords(amazon_data[\"description\"])\n",
    "print(f\"Ontology vocab Size: {onto_tfidf_wva.shape[0]} | Number of features: {onto_tfidf_wva.shape[1]}\")\n",
    "print(f\"Number of product descriptions: {desc_tfidf_wva.shape[0]}\")\n",
    "print(f\"Product tags identified in {len(np.unique(desc_tfidf_wva.nonzero()[0]))} product descriptions out of {desc_tfidf_wva.shape[0]}\")"
   ]
  },
  {
   "cell_type": "markdown",
   "id": "f9c7bc57",
   "metadata": {
    "slideshow": {
     "slide_type": "subslide"
    }
   },
   "source": [
    "#### Checking TF-IDF with Augmented Vocab"
   ]
  },
  {
   "cell_type": "code",
   "execution_count": 168,
   "id": "8f3295b3",
   "metadata": {},
   "outputs": [
    {
     "name": "stdout",
     "output_type": "stream",
     "text": [
      "TF-IDF with Vocab Augmentation\n",
      "Ontology vocab size: 381 | Number of features: 611\n",
      "Number of product descriptions: 202961\n",
      "Product tags identified in 77084 product descriptions out of 202961\n"
     ]
    }
   ],
   "source": [
    "print(\"TF-IDF with Vocab Augmentation\")\n",
    "tfidf = CustomTfidfVectorizer(ngram_range=(2,3), stop_words=custom_stopwords, use_idf=False, norm=None)\n",
    "keyword_extractor = KeywordExtractor(tfidf)\n",
    "keyword_extractor.create_vocab(vocab_updated[\"tag\"])\n",
    "onto_tfidf = keyword_extractor.get_vocab_tfidf()\n",
    "desc_tfidf = keyword_extractor.extract_keywords(amazon_data[\"description\"])\n",
    "print(f\"Ontology vocab size: {onto_tfidf.shape[0]} | Number of features: {onto_tfidf.shape[1]}\")\n",
    "print(f\"Number of product descriptions: {desc_tfidf.shape[0]}\")\n",
    "print(f\"Product tags identified in {len(np.unique(desc_tfidf.nonzero()[0]))} product descriptions out of {desc_tfidf.shape[0]}\")"
   ]
  },
  {
   "cell_type": "code",
   "execution_count": 171,
   "id": "4bafa06e",
   "metadata": {},
   "outputs": [],
   "source": [
    "from sklearn.feature_extraction.text import TfidfVectorizer\n",
    "import re\n",
    "from itertools import combinations\n",
    "def custom_analyzer(s: str):\n",
    "    words = s.split()\n",
    "    n_grams = []\n",
    "    words = [re.sub(r'(s|ing)$','',word) for word in words if (len(word)>1 and word not in custom_stopwords)]\n",
    "    for i in range(len(words)):\n",
    "        for j in range(2,4):\n",
    "            n_grams+=[' '.join(n_gram) for n_gram in combinations(words[i:i+4], j)]\n",
    "    return list(set(n_grams))\n",
    "\n",
    "tf = TfidfVectorizer(analyzer=custom_analyzer, ngram_range=(2,3), vocabulary=tfidf.get_feature_names_out(),stop_words=custom_stopwords, use_idf=True)"
   ]
  },
  {
   "cell_type": "code",
   "execution_count": 181,
   "id": "9404428f",
   "metadata": {},
   "outputs": [
    {
     "data": {
      "text/plain": [
       "381"
      ]
     },
     "execution_count": 181,
     "metadata": {},
     "output_type": "execute_result"
    }
   ],
   "source": [
    "ngrams = vocab_updated[\"tag\"].apply(custom_analyzer)\n"
   ]
  },
  {
   "cell_type": "code",
   "execution_count": 298,
   "id": "cd6d4c6a",
   "metadata": {},
   "outputs": [
    {
     "data": {
      "text/plain": [
       "({0.1889822365046136,\n",
       "  0.21320071635561041,\n",
       "  0.25,\n",
       "  0.2581988897471611,\n",
       "  0.31622776601683794,\n",
       "  0.5,\n",
       "  1.0},\n",
       " <381x611 sparse matrix of type '<class 'numpy.float64'>'\n",
       " \twith 1086 stored elements in Compressed Sparse Row format>)"
      ]
     },
     "execution_count": 298,
     "metadata": {},
     "output_type": "execute_result"
    }
   ],
   "source": [
    "tf = TfidfVectorizer(analyzer=custom_analyzer, ngram_range=(2,3), vocabulary=tfidf.get_feature_names_out(),stop_words=custom_stopwords, use_idf=False,binary=True)\n",
    "o = tf.fit_transform(vocab_updated[\"tag\"])\n",
    "set(o.data), o"
   ]
  },
  {
   "cell_type": "code",
   "execution_count": 208,
   "id": "a3196cc2",
   "metadata": {},
   "outputs": [
    {
     "data": {
      "text/plain": [
       "((array([  0,   0,   0, ..., 374, 375, 376]),\n",
       "  array([398, 514, 515, ..., 344, 344, 344])),\n",
       " array([1.]),\n",
       " array(['palm oil'], dtype=object))"
      ]
     },
     "execution_count": 208,
     "metadata": {},
     "output_type": "execute_result"
    }
   ],
   "source": [
    "o = o.tocsr()\n",
    "o.nonzero(), o.getrow(363).data, tfidf.get_feature_names_out()[o.getrow(363).indices]"
   ]
  },
  {
   "cell_type": "code",
   "execution_count": 299,
   "id": "418e441c",
   "metadata": {},
   "outputs": [
    {
     "name": "stdout",
     "output_type": "stream",
     "text": [
      "11\n",
      "17\n",
      "18\n",
      "37\n",
      "57\n",
      "59\n",
      "65\n",
      "66\n",
      "68\n",
      "69\n",
      "70\n",
      "71\n",
      "76\n",
      "77\n",
      "86\n",
      "91\n",
      "93\n",
      "108\n",
      "112\n",
      "113\n",
      "114\n",
      "115\n",
      "118\n",
      "119\n",
      "120\n",
      "122\n",
      "123\n",
      "124\n",
      "125\n",
      "126\n",
      "127\n",
      "128\n",
      "147\n",
      "149\n",
      "157\n",
      "162\n",
      "163\n",
      "171\n",
      "173\n",
      "176\n",
      "178\n",
      "195\n",
      "199\n",
      "201\n",
      "205\n",
      "215\n",
      "223\n",
      "224\n",
      "225\n",
      "227\n",
      "228\n",
      "231\n",
      "232\n",
      "235\n",
      "236\n",
      "239\n",
      "243\n",
      "246\n",
      "257\n",
      "260\n",
      "262\n",
      "265\n",
      "289\n",
      "293\n",
      "294\n",
      "297\n",
      "319\n",
      "320\n",
      "340\n",
      "344\n",
      "347\n",
      "350\n",
      "354\n",
      "357\n",
      "360\n",
      "365\n",
      "371\n",
      "372\n",
      "375\n",
      "376\n",
      "377\n",
      "385\n",
      "390\n",
      "391\n",
      "392\n",
      "393\n",
      "398\n",
      "402\n",
      "419\n",
      "434\n",
      "435\n",
      "436\n",
      "437\n",
      "438\n",
      "448\n",
      "449\n",
      "485\n",
      "498\n",
      "499\n",
      "506\n",
      "507\n",
      "511\n",
      "517\n",
      "519\n",
      "525\n",
      "527\n",
      "532\n",
      "538\n",
      "558\n",
      "559\n",
      "560\n",
      "561\n",
      "565\n",
      "574\n",
      "585\n",
      "586\n",
      "587\n",
      "588\n",
      "589\n",
      "590\n",
      "593\n",
      "594\n",
      "595\n",
      "597\n",
      "599\n",
      "600\n",
      "604\n",
      "605\n",
      "606\n",
      "610\n"
     ]
    }
   ],
   "source": [
    "o = o.toarray()\n",
    "for i in range(o.shape[1]):\n",
    "    if (o[:,i]==1).sum()!=0:\n",
    "        partial_mapping_indices = np.where(((o[:,i]<1) & (o[:,i]>0)))\n",
    "        if len(partial_mapping_indices)!=0:\n",
    "            o[partial_mapping_indices,i]=0\n",
    "            print(i)"
   ]
  },
  {
   "cell_type": "code",
   "execution_count": 305,
   "id": "9f883796",
   "metadata": {},
   "outputs": [
    {
     "data": {
      "text/html": [
       "<div>\n",
       "<style scoped>\n",
       "    .dataframe tbody tr th:only-of-type {\n",
       "        vertical-align: middle;\n",
       "    }\n",
       "\n",
       "    .dataframe tbody tr th {\n",
       "        vertical-align: top;\n",
       "    }\n",
       "\n",
       "    .dataframe thead th {\n",
       "        text-align: right;\n",
       "    }\n",
       "</style>\n",
       "<table border=\"1\" class=\"dataframe\">\n",
       "  <thead>\n",
       "    <tr style=\"text-align: right;\">\n",
       "      <th></th>\n",
       "      <th>tag</th>\n",
       "      <th>preference</th>\n",
       "      <th>association</th>\n",
       "      <th>preference category</th>\n",
       "      <th>conditional</th>\n",
       "      <th>update_code</th>\n",
       "      <th>comment</th>\n",
       "      <th>Len</th>\n",
       "    </tr>\n",
       "    <tr>\n",
       "      <th>idx</th>\n",
       "      <th></th>\n",
       "      <th></th>\n",
       "      <th></th>\n",
       "      <th></th>\n",
       "      <th></th>\n",
       "      <th></th>\n",
       "      <th></th>\n",
       "      <th></th>\n",
       "    </tr>\n",
       "  </thead>\n",
       "  <tbody>\n",
       "    <tr>\n",
       "      <th>221</th>\n",
       "      <td>biodegradeable</td>\n",
       "      <td>Products disposed in an environmentally friend...</td>\n",
       "      <td>1</td>\n",
       "      <td>Environment</td>\n",
       "      <td>False</td>\n",
       "      <td>0</td>\n",
       "      <td>No Change</td>\n",
       "      <td>14</td>\n",
       "    </tr>\n",
       "    <tr>\n",
       "      <th>241</th>\n",
       "      <td>other additive</td>\n",
       "      <td>Products without artificial colours or flavor ...</td>\n",
       "      <td>-1</td>\n",
       "      <td>Health</td>\n",
       "      <td>False</td>\n",
       "      <td>0</td>\n",
       "      <td>No Change</td>\n",
       "      <td>14</td>\n",
       "    </tr>\n",
       "    <tr>\n",
       "      <th>242</th>\n",
       "      <td>other additive</td>\n",
       "      <td>Products without preservatives</td>\n",
       "      <td>-1</td>\n",
       "      <td>Health</td>\n",
       "      <td>False</td>\n",
       "      <td>0</td>\n",
       "      <td>No Change</td>\n",
       "      <td>14</td>\n",
       "    </tr>\n",
       "    <tr>\n",
       "      <th>243</th>\n",
       "      <td>other additive</td>\n",
       "      <td>Products without thickeners, stabilizers or em...</td>\n",
       "      <td>-1</td>\n",
       "      <td>Health</td>\n",
       "      <td>False</td>\n",
       "      <td>0</td>\n",
       "      <td>No Change</td>\n",
       "      <td>14</td>\n",
       "    </tr>\n",
       "    <tr>\n",
       "      <th>246</th>\n",
       "      <td>transportation</td>\n",
       "      <td>Products produced and distributed in an enviro...</td>\n",
       "      <td>1</td>\n",
       "      <td>Environment</td>\n",
       "      <td>False</td>\n",
       "      <td>0</td>\n",
       "      <td>No Change</td>\n",
       "      <td>14</td>\n",
       "    </tr>\n",
       "    <tr>\n",
       "      <th>299</th>\n",
       "      <td>transparency</td>\n",
       "      <td>Products from companies with transparent activ...</td>\n",
       "      <td>1</td>\n",
       "      <td>Social</td>\n",
       "      <td>False</td>\n",
       "      <td>0</td>\n",
       "      <td>No Change</td>\n",
       "      <td>12</td>\n",
       "    </tr>\n",
       "    <tr>\n",
       "      <th>311</th>\n",
       "      <td>antioxidant</td>\n",
       "      <td>Products rich in antioxidants</td>\n",
       "      <td>1</td>\n",
       "      <td>Health</td>\n",
       "      <td>False</td>\n",
       "      <td>0</td>\n",
       "      <td>No Change</td>\n",
       "      <td>11</td>\n",
       "    </tr>\n",
       "    <tr>\n",
       "      <th>346</th>\n",
       "      <td>vegetarian</td>\n",
       "      <td>Vegetarian products</td>\n",
       "      <td>1</td>\n",
       "      <td>Health</td>\n",
       "      <td>True</td>\n",
       "      <td>0</td>\n",
       "      <td>No Change</td>\n",
       "      <td>10</td>\n",
       "    </tr>\n",
       "    <tr>\n",
       "      <th>352</th>\n",
       "      <td>sweetener</td>\n",
       "      <td>Products without artificial colours or flavor ...</td>\n",
       "      <td>-1</td>\n",
       "      <td>Health</td>\n",
       "      <td>False</td>\n",
       "      <td>0</td>\n",
       "      <td>No Change</td>\n",
       "      <td>9</td>\n",
       "    </tr>\n",
       "    <tr>\n",
       "      <th>373</th>\n",
       "      <td>sponsor</td>\n",
       "      <td>Products from companies that actively contribu...</td>\n",
       "      <td>1</td>\n",
       "      <td>Social</td>\n",
       "      <td>False</td>\n",
       "      <td>0</td>\n",
       "      <td>No Change</td>\n",
       "      <td>7</td>\n",
       "    </tr>\n",
       "    <tr>\n",
       "      <th>377</th>\n",
       "      <td>recycl</td>\n",
       "      <td>Products disposed in an environmentally friend...</td>\n",
       "      <td>1</td>\n",
       "      <td>Environment</td>\n",
       "      <td>False</td>\n",
       "      <td>0</td>\n",
       "      <td>No Change</td>\n",
       "      <td>6</td>\n",
       "    </tr>\n",
       "    <tr>\n",
       "      <th>378</th>\n",
       "      <td>vegan</td>\n",
       "      <td>Products from companies that support animal ri...</td>\n",
       "      <td>1</td>\n",
       "      <td>Social</td>\n",
       "      <td>False</td>\n",
       "      <td>0</td>\n",
       "      <td>No Change</td>\n",
       "      <td>5</td>\n",
       "    </tr>\n",
       "    <tr>\n",
       "      <th>379</th>\n",
       "      <td>vegan</td>\n",
       "      <td>Vegan products</td>\n",
       "      <td>1</td>\n",
       "      <td>Health</td>\n",
       "      <td>True</td>\n",
       "      <td>0</td>\n",
       "      <td>No Change</td>\n",
       "      <td>5</td>\n",
       "    </tr>\n",
       "    <tr>\n",
       "      <th>380</th>\n",
       "      <td>vegan</td>\n",
       "      <td>Vegetarian products</td>\n",
       "      <td>1</td>\n",
       "      <td>Health</td>\n",
       "      <td>True</td>\n",
       "      <td>0</td>\n",
       "      <td>No Change</td>\n",
       "      <td>5</td>\n",
       "    </tr>\n",
       "  </tbody>\n",
       "</table>\n",
       "</div>"
      ],
      "text/plain": [
       "                tag                                         preference  \\\n",
       "idx                                                                      \n",
       "221  biodegradeable  Products disposed in an environmentally friend...   \n",
       "241  other additive  Products without artificial colours or flavor ...   \n",
       "242  other additive                     Products without preservatives   \n",
       "243  other additive  Products without thickeners, stabilizers or em...   \n",
       "246  transportation  Products produced and distributed in an enviro...   \n",
       "299    transparency  Products from companies with transparent activ...   \n",
       "311     antioxidant                      Products rich in antioxidants   \n",
       "346      vegetarian                                Vegetarian products   \n",
       "352       sweetener  Products without artificial colours or flavor ...   \n",
       "373         sponsor  Products from companies that actively contribu...   \n",
       "377          recycl  Products disposed in an environmentally friend...   \n",
       "378           vegan  Products from companies that support animal ri...   \n",
       "379           vegan                                     Vegan products   \n",
       "380           vegan                                Vegetarian products   \n",
       "\n",
       "     association preference category  conditional  update_code    comment  Len  \n",
       "idx                                                                             \n",
       "221            1         Environment        False            0  No Change   14  \n",
       "241           -1              Health        False            0  No Change   14  \n",
       "242           -1              Health        False            0  No Change   14  \n",
       "243           -1              Health        False            0  No Change   14  \n",
       "246            1         Environment        False            0  No Change   14  \n",
       "299            1              Social        False            0  No Change   12  \n",
       "311            1              Health        False            0  No Change   11  \n",
       "346            1              Health         True            0  No Change   10  \n",
       "352           -1              Health        False            0  No Change    9  \n",
       "373            1              Social        False            0  No Change    7  \n",
       "377            1         Environment        False            0  No Change    6  \n",
       "378            1              Social        False            0  No Change    5  \n",
       "379            1              Health         True            0  No Change    5  \n",
       "380            1              Health         True            0  No Change    5  "
      ]
     },
     "execution_count": 305,
     "metadata": {},
     "output_type": "execute_result"
    }
   ],
   "source": [
    "vocab_updated.iloc[~vocab_updated.index.isin(set(coo_matrix(o).row))]"
   ]
  },
  {
   "cell_type": "code",
   "execution_count": 302,
   "id": "a0cc18ac",
   "metadata": {},
   "outputs": [
    {
     "data": {
      "text/plain": [
       "381"
      ]
     },
     "execution_count": 302,
     "metadata": {},
     "output_type": "execute_result"
    }
   ],
   "source": [
    "o.shape[0]"
   ]
  },
  {
   "cell_type": "code",
   "execution_count": 297,
   "id": "adcd5bd9",
   "metadata": {},
   "outputs": [
    {
     "data": {
      "text/plain": [
       "<381x611 sparse matrix of type '<class 'numpy.float64'>'\n",
       "\twith 1054 stored elements in Compressed Sparse Row format>"
      ]
     },
     "execution_count": 297,
     "metadata": {},
     "output_type": "execute_result"
    }
   ],
   "source": [
    "csr_matrix(o)"
   ]
  },
  {
   "cell_type": "code",
   "execution_count": 296,
   "id": "17614e30",
   "metadata": {},
   "outputs": [
    {
     "data": {
      "text/plain": [
       "((array([363], dtype=int64),),\n",
       " 'palm oil',\n",
       " array([0., 0., 0., 0., 0., 0., 0., 0., 0., 0., 0., 0., 0., 0., 0., 0., 0.,\n",
       "        0., 0., 0., 0., 0., 0., 0., 0., 0., 0., 0., 0., 0., 0., 0., 0., 0.,\n",
       "        0., 0., 0., 0., 0., 0., 0., 0., 0., 0., 0., 0., 0., 0., 0., 0., 0.,\n",
       "        0., 0., 0., 0., 0., 0., 0., 0., 0., 0., 0., 0., 0., 0., 0., 0., 0.,\n",
       "        0., 0., 0., 0., 0., 0., 0., 0., 0., 0., 0., 0., 0., 0., 0., 0., 0.,\n",
       "        0., 0., 0., 0., 0., 0., 0., 0., 0., 0., 0., 0., 0., 0., 0., 0., 0.,\n",
       "        0., 0., 0., 0., 0., 0., 0., 0., 0., 0., 0., 0., 0., 0., 0., 0., 0.,\n",
       "        0., 0., 0., 0., 0., 0., 0., 0., 0., 0., 0., 0., 0., 0., 0., 0., 0.,\n",
       "        0., 0., 0., 0., 0., 0., 0., 0., 0., 0., 0., 0., 0., 0., 0., 0., 0.,\n",
       "        0., 0., 0., 0., 0., 0., 0., 0., 0., 0., 0., 0., 0., 0., 0., 0., 0.,\n",
       "        0., 0., 0., 0., 0., 0., 0., 0., 0., 0., 0., 0., 0., 0., 0., 0., 0.,\n",
       "        0., 0., 0., 0., 0., 0., 0., 0., 0., 0., 0., 0., 0., 0., 0., 0., 0.,\n",
       "        0., 0., 0., 0., 0., 0., 0., 0., 0., 0., 0., 0., 0., 0., 0., 0., 0.,\n",
       "        0., 0., 0., 0., 0., 0., 0., 0., 0., 0., 0., 0., 0., 0., 0., 0., 0.,\n",
       "        0., 0., 0., 0., 0., 0., 0., 0., 0., 0., 0., 0., 0., 0., 0., 0., 0.,\n",
       "        0., 0., 0., 0., 0., 0., 0., 0., 0., 0., 0., 0., 0., 0., 0., 0., 0.,\n",
       "        0., 0., 0., 0., 0., 0., 0., 0., 0., 0., 0., 0., 0., 0., 0., 0., 0.,\n",
       "        0., 0., 0., 0., 0., 0., 0., 0., 0., 0., 0., 0., 0., 0., 0., 0., 0.,\n",
       "        0., 0., 0., 0., 0., 0., 0., 0., 0., 0., 0., 0., 0., 0., 0., 0., 0.,\n",
       "        0., 0., 0., 0., 0., 0., 0., 0., 0., 0., 0., 0., 0., 0., 0., 0., 0.,\n",
       "        0., 0., 0., 0., 0., 0., 0., 0., 0., 0., 0., 0., 0., 0., 0., 0., 0.,\n",
       "        0., 0., 0., 0., 0., 0., 1., 0., 0., 0., 0., 0., 0., 0., 0., 0., 0.,\n",
       "        0., 0., 0., 0., 0., 0., 0.]))"
      ]
     },
     "execution_count": 296,
     "metadata": {},
     "output_type": "execute_result"
    }
   ],
   "source": [
    "np.where(o[:,398]!=0), tfidf.get_feature_names_out()[398], o[:,398]"
   ]
  },
  {
   "cell_type": "code",
   "execution_count": 265,
   "id": "4d14de9f",
   "metadata": {},
   "outputs": [
    {
     "data": {
      "text/plain": [
       "(array([398], dtype=int64),)"
      ]
     },
     "execution_count": 265,
     "metadata": {},
     "output_type": "execute_result"
    }
   ],
   "source": [
    "np.where(tfidf.get_feature_names_out()==\"palm oil\")"
   ]
  },
  {
   "cell_type": "code",
   "execution_count": 272,
   "id": "897fd628",
   "metadata": {},
   "outputs": [
    {
     "data": {
      "text/html": [
       "<div>\n",
       "<style scoped>\n",
       "    .dataframe tbody tr th:only-of-type {\n",
       "        vertical-align: middle;\n",
       "    }\n",
       "\n",
       "    .dataframe tbody tr th {\n",
       "        vertical-align: top;\n",
       "    }\n",
       "\n",
       "    .dataframe thead th {\n",
       "        text-align: right;\n",
       "    }\n",
       "</style>\n",
       "<table border=\"1\" class=\"dataframe\">\n",
       "  <thead>\n",
       "    <tr style=\"text-align: right;\">\n",
       "      <th></th>\n",
       "      <th>tag</th>\n",
       "      <th>preference</th>\n",
       "      <th>association</th>\n",
       "      <th>preference category</th>\n",
       "      <th>conditional</th>\n",
       "      <th>update_code</th>\n",
       "      <th>comment</th>\n",
       "      <th>Len</th>\n",
       "    </tr>\n",
       "    <tr>\n",
       "      <th>idx</th>\n",
       "      <th></th>\n",
       "      <th></th>\n",
       "      <th></th>\n",
       "      <th></th>\n",
       "      <th></th>\n",
       "      <th></th>\n",
       "      <th></th>\n",
       "      <th></th>\n",
       "    </tr>\n",
       "  </thead>\n",
       "  <tbody>\n",
       "    <tr>\n",
       "      <th>50</th>\n",
       "      <td>without artificial flavor</td>\n",
       "      <td>Products without artificial colours or flavor ...</td>\n",
       "      <td>1</td>\n",
       "      <td>Health</td>\n",
       "      <td>False</td>\n",
       "      <td>1</td>\n",
       "      <td>Negation</td>\n",
       "      <td>25</td>\n",
       "    </tr>\n",
       "    <tr>\n",
       "      <th>248</th>\n",
       "      <td>without flavor</td>\n",
       "      <td>Products without artificial colours or flavor ...</td>\n",
       "      <td>1</td>\n",
       "      <td>Health</td>\n",
       "      <td>False</td>\n",
       "      <td>1</td>\n",
       "      <td>Alternative</td>\n",
       "      <td>14</td>\n",
       "    </tr>\n",
       "  </tbody>\n",
       "</table>\n",
       "</div>"
      ],
      "text/plain": [
       "                           tag  \\\n",
       "idx                              \n",
       "50   without artificial flavor   \n",
       "248             without flavor   \n",
       "\n",
       "                                            preference  association  \\\n",
       "idx                                                                   \n",
       "50   Products without artificial colours or flavor ...            1   \n",
       "248  Products without artificial colours or flavor ...            1   \n",
       "\n",
       "    preference category  conditional  update_code      comment  Len  \n",
       "idx                                                                  \n",
       "50               Health        False            1     Negation   25  \n",
       "248              Health        False            1  Alternative   14  "
      ]
     },
     "execution_count": 272,
     "metadata": {},
     "output_type": "execute_result"
    }
   ],
   "source": [
    "vocab_updated.iloc[np.where(o[590]!=0)]"
   ]
  },
  {
   "cell_type": "code",
   "execution_count": 207,
   "id": "4cc3966c",
   "metadata": {},
   "outputs": [
    {
     "data": {
      "text/html": [
       "<div>\n",
       "<style scoped>\n",
       "    .dataframe tbody tr th:only-of-type {\n",
       "        vertical-align: middle;\n",
       "    }\n",
       "\n",
       "    .dataframe tbody tr th {\n",
       "        vertical-align: top;\n",
       "    }\n",
       "\n",
       "    .dataframe thead th {\n",
       "        text-align: right;\n",
       "    }\n",
       "</style>\n",
       "<table border=\"1\" class=\"dataframe\">\n",
       "  <thead>\n",
       "    <tr style=\"text-align: right;\">\n",
       "      <th></th>\n",
       "      <th>tag</th>\n",
       "      <th>preference</th>\n",
       "      <th>association</th>\n",
       "      <th>preference category</th>\n",
       "      <th>conditional</th>\n",
       "      <th>update_code</th>\n",
       "      <th>comment</th>\n",
       "      <th>Len</th>\n",
       "    </tr>\n",
       "    <tr>\n",
       "      <th>idx</th>\n",
       "      <th></th>\n",
       "      <th></th>\n",
       "      <th></th>\n",
       "      <th></th>\n",
       "      <th></th>\n",
       "      <th></th>\n",
       "      <th></th>\n",
       "      <th></th>\n",
       "    </tr>\n",
       "  </thead>\n",
       "  <tbody>\n",
       "    <tr>\n",
       "      <th>363</th>\n",
       "      <td>palm oil</td>\n",
       "      <td>Products produced and distributed in an enviro...</td>\n",
       "      <td>-1</td>\n",
       "      <td>Environment</td>\n",
       "      <td>False</td>\n",
       "      <td>1</td>\n",
       "      <td>Alternative</td>\n",
       "      <td>8</td>\n",
       "    </tr>\n",
       "  </tbody>\n",
       "</table>\n",
       "</div>"
      ],
      "text/plain": [
       "          tag                                         preference  association  \\\n",
       "idx                                                                             \n",
       "363  palm oil  Products produced and distributed in an enviro...           -1   \n",
       "\n",
       "    preference category  conditional  update_code      comment  Len  \n",
       "idx                                                                  \n",
       "363         Environment        False            1  Alternative    8  "
      ]
     },
     "execution_count": 207,
     "metadata": {},
     "output_type": "execute_result"
    }
   ],
   "source": [
    "vocab_updated[vocab_updated[\"tag\"]==\"palm oil\"]"
   ]
  },
  {
   "cell_type": "code",
   "execution_count": 183,
   "id": "5f613c02",
   "metadata": {},
   "outputs": [],
   "source": [
    "ngrams = sorted(set(ngrams.agg(\"sum\")))"
   ]
  },
  {
   "cell_type": "code",
   "execution_count": 283,
   "id": "2d6c0dea",
   "metadata": {},
   "outputs": [
    {
     "data": {
      "text/plain": [
       "list"
      ]
     },
     "execution_count": 283,
     "metadata": {},
     "output_type": "execute_result"
    }
   ],
   "source": [
    "type(ngrams)"
   ]
  },
  {
   "cell_type": "code",
   "execution_count": 185,
   "id": "eb5c8b89",
   "metadata": {},
   "outputs": [
    {
     "data": {
      "text/plain": [
       "(611, 611, 611)"
      ]
     },
     "execution_count": 185,
     "metadata": {},
     "output_type": "execute_result"
    }
   ],
   "source": [
    "len(ngrams), len(tf.get_feature_names_out()), len(tfidf.get_feature_names_out())"
   ]
  },
  {
   "cell_type": "code",
   "execution_count": 172,
   "id": "329b3b25",
   "metadata": {},
   "outputs": [
    {
     "data": {
      "text/plain": [
       "<202961x611 sparse matrix of type '<class 'numpy.float64'>'\n",
       "\twith 189181 stored elements in Compressed Sparse Row format>"
      ]
     },
     "execution_count": 172,
     "metadata": {},
     "output_type": "execute_result"
    }
   ],
   "source": [
    "d = tf.fit_transform(amazon_data[\"description\"])\n",
    "d"
   ]
  },
  {
   "cell_type": "code",
   "execution_count": 179,
   "id": "e5c43c31",
   "metadata": {},
   "outputs": [
    {
     "data": {
      "text/plain": [
       "(array(['agent used', 'allergen celery', 'allergen celery product',\n",
       "        'allergen clam', 'allergen crustacean',\n",
       "        'allergen crustacean product', 'allergen dairy',\n",
       "        'allergen derived', 'allergen derived product', 'allergen dioxide',\n",
       "        'allergen dioxide sulfite', 'allergen egg', 'allergen egg poultry',\n",
       "        'allergen egg product', 'allergen fish', 'allergen fish derived',\n",
       "        'allergen fish product', 'allergen free', 'allergen gluten',\n",
       "        'allergen lupin', 'allergen lupin product', 'allergen lupine',\n",
       "        'allergen lupine product', 'allergen mammal',\n",
       "        'allergen mammal dairy', 'allergen milk', 'allergen milk dairy',\n",
       "        'allergen milk mammal', 'allergen mollusc',\n",
       "        'allergen mollusc clam', 'allergen mollusc snail',\n",
       "        'allergen mollusk', 'allergen mollusk product', 'allergen mustard',\n",
       "        'allergen mustard derived', 'allergen mustard product',\n",
       "        'allergen mustard seed', 'allergen nut', 'allergen nut product',\n",
       "        'allergen peanut', 'allergen peanut product', 'allergen poultry',\n",
       "        'allergen poultry product', 'allergen product', 'allergen seed',\n",
       "        'allergen seed product', 'allergen sesame',\n",
       "        'allergen sesame product', 'allergen sesame seed',\n",
       "        'allergen snail', 'allergen snail clam', 'allergen soybean',\n",
       "        'allergen soybean product', 'allergen sulfite', 'allergen sulfur',\n",
       "        'allergen sulfur dioxide', 'allergen sulfur sulfite',\n",
       "        'aluminium dose', 'animal product', 'animal right', 'animal test',\n",
       "        'anti deforestation', 'anti deforestation policy', 'anti policy',\n",
       "        'artificial additive', 'artificial color', 'artificial flavor',\n",
       "        'beside additive', 'biodegradeable material',\n",
       "        'biodegradeable packag', 'biodynamic permaculture',\n",
       "        'bluesign certified', 'celery product', 'certified environmental',\n",
       "        'certified environmental impact', 'certified impact',\n",
       "        'certified organic', 'certified quality', 'chain investigation',\n",
       "        'chemical pesticide', 'chemical used', 'child forced',\n",
       "        'child forced labor', 'child labor', 'child labor forced',\n",
       "        'child labor labor', 'cholesterol free', 'claim standard',\n",
       "        'clam cuttlefish', 'clam cuttlefish product', 'clam product',\n",
       "        'climate friendly', 'close plant', 'close production',\n",
       "        'close production plant', 'co environment', 'co footprint',\n",
       "        'co labell', 'co labell environment', 'company environmental',\n",
       "        'company environmental report', 'company report',\n",
       "        'comprise development', 'comprise development goal',\n",
       "        'comprise goal', 'comprise sustainable',\n",
       "        'comprise sustainable development', 'comprise sustainable goal',\n",
       "        'conatin color', 'contain agent', 'contain animal',\n",
       "        'contain animal product', 'contain chicken', 'contain egg',\n",
       "        'contain emulsifier', 'contain fish', 'contain gell',\n",
       "        'contain gell agent', 'contain gluten', 'contain meat',\n",
       "        'contain milk', 'contain product', 'contain salt',\n",
       "        'contain stabilizer', 'contain thickener', 'contain tuna',\n",
       "        'contain turkey', 'country retailer', 'cradle cradle',\n",
       "        'crustacean product', 'cuttlefish product', 'dairy includ',\n",
       "        'dairy includ lactose', 'dairy lactose', 'dairy product',\n",
       "        'dairy product includ', 'dairy product lactose',\n",
       "        'deforestation policy', 'derived product', 'development goal',\n",
       "        'development goal sdg', 'development sdg', 'dioxide sulfite',\n",
       "        'discrimination workplace', 'doesnt animal', 'doesnt test',\n",
       "        'doesnt test animal', 'ecologo certified', 'egg additive',\n",
       "        'egg barn', 'egg beside', 'egg beside additive', 'egg cage',\n",
       "        'egg enriched', 'egg enriched cage', 'egg free', 'egg free range',\n",
       "        'egg organic', 'egg poultry', 'egg poultry product', 'egg product',\n",
       "        'egg range', 'emulsifier used', 'energy star', 'energy use',\n",
       "        'enriched cage', 'environmental impact', 'environmental report',\n",
       "        'epa choice', 'epa safer', 'epa safer choice', 'factory farm',\n",
       "        'fair certified', 'fair life', 'fair trade',\n",
       "        'fair trade certified', 'farm regulation', 'farm solution',\n",
       "        'fat reduced', 'fish derived', 'fish derived product',\n",
       "        'fish product', 'food certification', 'food safety',\n",
       "        'food safety certification', 'food safety system', 'food system',\n",
       "        'food system certification', 'food waste', 'forced labor',\n",
       "        'free additive', 'free artificial', 'free artificial additive',\n",
       "        'free artificial color', 'free artificial flavor', 'free color',\n",
       "        'free flavor', 'free from', 'free from lactose', 'free gluten',\n",
       "        'free lactose', 'free preservative', 'free range', 'fresh made',\n",
       "        'fresh made store', 'fresh product', 'fresh shelflive',\n",
       "        'fresh short', 'fresh short shelflive', 'fresh store',\n",
       "        'from lactose', 'fund innovation', 'gell agent', 'gell agent used',\n",
       "        'gell used', 'gender equality', 'gfsi certification', 'gfsi sqf',\n",
       "        'gfsi sqf certification', 'global service', 'gluten additive',\n",
       "        'gluten beside', 'gluten beside additive', 'gluten free',\n",
       "        'gmo free', 'gmo verified', 'goal sdg', 'green agriculture',\n",
       "        'green farm', 'green farm solution', 'green solution',\n",
       "        'ha antioxidant', 'high antioxidant', 'high energy',\n",
       "        'high energy use', 'high fat', 'high protein', 'high quality',\n",
       "        'high quality standard', 'high salt', 'high saturated',\n",
       "        'high saturated fat', 'high standard', 'high sugar', 'high use',\n",
       "        'includ lactose', 'intransparent company', 'isnt animal',\n",
       "        'isnt proven', 'isnt proven animal', 'isnt proven test',\n",
       "        'isnt test', 'isnt test animal', 'labell environment',\n",
       "        'labor forced', 'labor forced labor', 'labor labor',\n",
       "        'lactose free', 'low co', 'low co footprint', 'low fat',\n",
       "        'low footprint', 'low salt', 'low saturated', 'low saturated fat',\n",
       "        'low sugar', 'low water', 'low water footprint', 'lupin product',\n",
       "        'lupine product', 'made store', 'majorly charity', 'majorly food',\n",
       "        'majorly food waste', 'majorly fund', 'majorly fund innovation',\n",
       "        'majorly innovation', 'majorly reduce', 'majorly reduce food',\n",
       "        'majorly reduce waste', 'majorly support',\n",
       "        'majorly support charity', 'majorly waste', 'mammal dairy',\n",
       "        'mammal dairy includ', 'mammal dairy product', 'mammal includ',\n",
       "        'mammal product', 'mammal product includ', 'marine culture',\n",
       "        'meat additive', 'meat beside', 'meat beside additive',\n",
       "        'medium fat', 'medium salt', 'medium saturated',\n",
       "        'medium saturated fat', 'medium sugar', 'milk additive',\n",
       "        'milk beside', 'milk beside additive', 'milk dairy',\n",
       "        'milk dairy product', 'milk mammal', 'milk mammal dairy',\n",
       "        'milk mammal product', 'milk product', 'mollusc clam',\n",
       "        'mollusc clam cuttlefish', 'mollusc cuttlefish', 'mollusc snail',\n",
       "        'mollusc snail clam', 'mollusc snail cuttlefish',\n",
       "        'mollusk product', 'mustard derived', 'mustard derived product',\n",
       "        'mustard product', 'mustard seed', 'mustard seed product',\n",
       "        'natural flavor', 'natural product', 'negative preservative',\n",
       "        'negative preservative safety', 'negative preservative test',\n",
       "        'negative safety', 'negative safety test', 'negative test',\n",
       "        'no additive', 'no agent', 'no animal', 'no animal product',\n",
       "        'no artificial', 'no artificial additive', 'no artificial color',\n",
       "        'no artificial flavor', 'no beside', 'no beside additive',\n",
       "        'no chemical', 'no chemical pesticide', 'no chemical used',\n",
       "        'no chicken', 'no color', 'no discrimination',\n",
       "        'no discrimination workplace', 'no egg', 'no egg additive',\n",
       "        'no egg beside', 'no emulsifier', 'no environmental',\n",
       "        'no environmental report', 'no fish', 'no flavor', 'no gell',\n",
       "        'no gell agent', 'no gluten', 'no gluten additive',\n",
       "        'no gluten beside', 'no meat', 'no meat additive',\n",
       "        'no meat beside', 'no milk', 'no milk additive', 'no milk beside',\n",
       "        'no pesticide', 'no pesticide used', 'no preservative',\n",
       "        'no product', 'no public', 'no public environmental',\n",
       "        'no public report', 'no report', 'no salt', 'no stabilizer',\n",
       "        'no synthetic', 'no synthetic pesticide', 'no thickener',\n",
       "        'no tuna', 'no turkey', 'no use', 'no use chemical',\n",
       "        'no use pesticide', 'no used', 'no workplace',\n",
       "        'nodiscrimination workplace', 'non gmo', 'nut allery',\n",
       "        'nut product', 'oil free', 'organic certification',\n",
       "        'organic certified', 'organic food', 'organic ingredient',\n",
       "        'organic product', 'package type', 'packaged plastic',\n",
       "        'packaged vacuum', 'packaged vacuum plastic', 'palm free',\n",
       "        'palm oil', 'palm oil free', 'peanut product', 'pesticide used',\n",
       "        'plant based', 'poultry product', 'preservative result',\n",
       "        'preservative safety', 'preservative safety result',\n",
       "        'preservative safety test', 'preservative test',\n",
       "        'preservative test result', 'proactive chain',\n",
       "        'proactive chain investigation', 'proactive investigation',\n",
       "        'proactive supply', 'proactive supply chain',\n",
       "        'proactive supply investigation', 'product includ',\n",
       "        'product includ lactose', 'product lactose', 'product organic',\n",
       "        'product packaged', 'product packaged plastic', 'product plastic',\n",
       "        'product usually', 'product usually packaged',\n",
       "        'product usually plastic', 'production plant', 'proven animal',\n",
       "        'proven test', 'proven test animal', 'public environmental',\n",
       "        'public environmental report', 'public report', 'quality standard',\n",
       "        'rainforest alliance', 'recycl code', 'recycl done',\n",
       "        'recyclable material', 'recyclable packag', 'recycled claim',\n",
       "        'recycled claim standard', 'recycled standard', 'reduce food',\n",
       "        'reduce food waste', 'reduce use', 'reduce waste', 'reduce water',\n",
       "        'reduce water use', 'reduced fat', 'rich antioxidant',\n",
       "        'safer choice', 'safety certification', 'safety result',\n",
       "        'safety system', 'safety system certification', 'safety test',\n",
       "        'safety test result', 'saturated fat', 'sc global',\n",
       "        'sc global service', 'sc service', 'seed product',\n",
       "        'sesame product', 'sesame seed', 'sesame seed product',\n",
       "        'short shelflive', 'snail clam', 'snail clam cuttlefish',\n",
       "        'snail clam product', 'snail cuttlefish',\n",
       "        'snail cuttlefish product', 'snail product', 'social cause',\n",
       "        'some close', 'some close plant', 'some close production',\n",
       "        'some plant', 'some production', 'some production plant',\n",
       "        'sourced ingredient', 'soybean product', 'sponsor cause',\n",
       "        'sponsor social', 'sponsor social cause', 'sqf certification',\n",
       "        'stabilizer used', 'step nodiscrimination',\n",
       "        'step nodiscrimination workplace', 'step toward',\n",
       "        'step toward nodiscrimination', 'step toward workplace',\n",
       "        'step workplace', 'strongly comprise',\n",
       "        'strongly comprise development', 'strongly comprise sustainable',\n",
       "        'strongly development', 'strongly sustainable',\n",
       "        'strongly sustainable development', 'suitable vegan',\n",
       "        'suitable vegetarian', 'sulfur dioxide', 'sulfur dioxide sulfite',\n",
       "        'sulfur sulfite', 'supply chain', 'supply chain investigation',\n",
       "        'supply investigation', 'support charity',\n",
       "        'sustainable agriculture', 'sustainable development',\n",
       "        'sustainable development goal', 'sustainable development sdg',\n",
       "        'sustainable farm', 'sustainable goal', 'sustainable goal sdg',\n",
       "        'sustainable oil', 'sustainable palm', 'sustainable palm oil',\n",
       "        'sustainable practice', 'sustainable sdg', 'sustainable soy',\n",
       "        'sustainably ingredient', 'sustainably sourced',\n",
       "        'sustainably sourced ingredient', 'synthetic pesticide',\n",
       "        'system certification', 'test animal', 'test result',\n",
       "        'thickener used', 'toward nodiscrimination',\n",
       "        'toward nodiscrimination workplace', 'toward workplace',\n",
       "        'trade certified', 'transparent company', 'unsustainable cocoa',\n",
       "        'unsustainable oil', 'unsustainable palm',\n",
       "        'unsustainable palm oil', 'usda certification', 'usda certified',\n",
       "        'usda organic', 'usda organic certification',\n",
       "        'usda organic certified', 'use chemical', 'use chemical pesticide',\n",
       "        'use cocoa', 'use pesticide', 'use unsustainable',\n",
       "        'use unsustainable cocoa', 'used child', 'used child forced',\n",
       "        'used child labor', 'used forced', 'used labor',\n",
       "        'used labor forced', 'usually packaged',\n",
       "        'usually packaged plastic', 'usually plastic', 'vacuum plastic',\n",
       "        'vegan company', 'vegan product', 'vegetarian company',\n",
       "        'vegetarian product', 'verified gmo', 'verified non',\n",
       "        'verified non gmo', 'waste recycl', 'water footprint', 'water use',\n",
       "        'weak anti', 'weak anti deforestation', 'weak anti policy',\n",
       "        'weak deforestation', 'weak deforestation policy', 'weak policy',\n",
       "        'with preservative', 'without additive', 'without agent',\n",
       "        'without animal', 'without animal product', 'without animal test',\n",
       "        'without artificial', 'without artificial additive',\n",
       "        'without artificial color', 'without artificial flavor',\n",
       "        'without chemical', 'without chicken', 'without color',\n",
       "        'without egg', 'without emulsifier', 'without fish',\n",
       "        'without flavor', 'without gell', 'without gell agent',\n",
       "        'without gluten', 'without meat', 'without milk',\n",
       "        'without pesticide', 'without preservative', 'without product',\n",
       "        'without salt', 'without stabilizer', 'without synthetic',\n",
       "        'without synthetic pesticide', 'without test', 'without thickener',\n",
       "        'without tuna', 'without turkey', 'without use',\n",
       "        'without use chemical', 'without use pesticide', 'worker right'],\n",
       "       dtype=object),\n",
       " array(['agent used', 'allergen celery', 'allergen celery product',\n",
       "        'allergen clam', 'allergen crustacean',\n",
       "        'allergen crustacean product', 'allergen dairy',\n",
       "        'allergen derived', 'allergen derived product', 'allergen dioxide',\n",
       "        'allergen dioxide sulfite', 'allergen egg', 'allergen egg poultry',\n",
       "        'allergen egg product', 'allergen fish', 'allergen fish derived',\n",
       "        'allergen fish product', 'allergen free', 'allergen gluten',\n",
       "        'allergen lupin', 'allergen lupin product', 'allergen lupine',\n",
       "        'allergen lupine product', 'allergen mammal',\n",
       "        'allergen mammal dairy', 'allergen milk', 'allergen milk dairy',\n",
       "        'allergen milk mammal', 'allergen mollusc',\n",
       "        'allergen mollusc clam', 'allergen mollusc snail',\n",
       "        'allergen mollusk', 'allergen mollusk product', 'allergen mustard',\n",
       "        'allergen mustard derived', 'allergen mustard product',\n",
       "        'allergen mustard seed', 'allergen nut', 'allergen nut product',\n",
       "        'allergen peanut', 'allergen peanut product', 'allergen poultry',\n",
       "        'allergen poultry product', 'allergen product', 'allergen seed',\n",
       "        'allergen seed product', 'allergen sesame',\n",
       "        'allergen sesame product', 'allergen sesame seed',\n",
       "        'allergen snail', 'allergen snail clam', 'allergen soybean',\n",
       "        'allergen soybean product', 'allergen sulfite', 'allergen sulfur',\n",
       "        'allergen sulfur dioxide', 'allergen sulfur sulfite',\n",
       "        'aluminium dose', 'animal product', 'animal right', 'animal test',\n",
       "        'anti deforestation', 'anti deforestation policy', 'anti policy',\n",
       "        'artificial additive', 'artificial color', 'artificial flavor',\n",
       "        'beside additive', 'biodegradeable material',\n",
       "        'biodegradeable packag', 'biodynamic permaculture',\n",
       "        'bluesign certified', 'celery product', 'certified environmental',\n",
       "        'certified environmental impact', 'certified impact',\n",
       "        'certified organic', 'certified quality', 'chain investigation',\n",
       "        'chemical pesticide', 'chemical used', 'child forced',\n",
       "        'child forced labor', 'child labor', 'child labor forced',\n",
       "        'child labor labor', 'cholesterol free', 'claim standard',\n",
       "        'clam cuttlefish', 'clam cuttlefish product', 'clam product',\n",
       "        'climate friendly', 'close plant', 'close production',\n",
       "        'close production plant', 'co environment', 'co footprint',\n",
       "        'co labell', 'co labell environment', 'company environmental',\n",
       "        'company environmental report', 'company report',\n",
       "        'comprise development', 'comprise development goal',\n",
       "        'comprise goal', 'comprise sustainable',\n",
       "        'comprise sustainable development', 'comprise sustainable goal',\n",
       "        'conatin color', 'contain agent', 'contain animal',\n",
       "        'contain animal product', 'contain chicken', 'contain egg',\n",
       "        'contain emulsifier', 'contain fish', 'contain gell',\n",
       "        'contain gell agent', 'contain gluten', 'contain meat',\n",
       "        'contain milk', 'contain product', 'contain salt',\n",
       "        'contain stabilizer', 'contain thickener', 'contain tuna',\n",
       "        'contain turkey', 'country retailer', 'cradle cradle',\n",
       "        'crustacean product', 'cuttlefish product', 'dairy includ',\n",
       "        'dairy includ lactose', 'dairy lactose', 'dairy product',\n",
       "        'dairy product includ', 'dairy product lactose',\n",
       "        'deforestation policy', 'derived product', 'development goal',\n",
       "        'development goal sdg', 'development sdg', 'dioxide sulfite',\n",
       "        'discrimination workplace', 'doesnt animal', 'doesnt test',\n",
       "        'doesnt test animal', 'ecologo certified', 'egg additive',\n",
       "        'egg barn', 'egg beside', 'egg beside additive', 'egg cage',\n",
       "        'egg enriched', 'egg enriched cage', 'egg free', 'egg free range',\n",
       "        'egg organic', 'egg poultry', 'egg poultry product', 'egg product',\n",
       "        'egg range', 'emulsifier used', 'energy star', 'energy use',\n",
       "        'enriched cage', 'environmental impact', 'environmental report',\n",
       "        'epa choice', 'epa safer', 'epa safer choice', 'factory farm',\n",
       "        'fair certified', 'fair life', 'fair trade',\n",
       "        'fair trade certified', 'farm regulation', 'farm solution',\n",
       "        'fat reduced', 'fish derived', 'fish derived product',\n",
       "        'fish product', 'food certification', 'food safety',\n",
       "        'food safety certification', 'food safety system', 'food system',\n",
       "        'food system certification', 'food waste', 'forced labor',\n",
       "        'free additive', 'free artificial', 'free artificial additive',\n",
       "        'free artificial color', 'free artificial flavor', 'free color',\n",
       "        'free flavor', 'free from', 'free from lactose', 'free gluten',\n",
       "        'free lactose', 'free preservative', 'free range', 'fresh made',\n",
       "        'fresh made store', 'fresh product', 'fresh shelflive',\n",
       "        'fresh short', 'fresh short shelflive', 'fresh store',\n",
       "        'from lactose', 'fund innovation', 'gell agent', 'gell agent used',\n",
       "        'gell used', 'gender equality', 'gfsi certification', 'gfsi sqf',\n",
       "        'gfsi sqf certification', 'global service', 'gluten additive',\n",
       "        'gluten beside', 'gluten beside additive', 'gluten free',\n",
       "        'gmo free', 'gmo verified', 'goal sdg', 'green agriculture',\n",
       "        'green farm', 'green farm solution', 'green solution',\n",
       "        'ha antioxidant', 'high antioxidant', 'high energy',\n",
       "        'high energy use', 'high fat', 'high protein', 'high quality',\n",
       "        'high quality standard', 'high salt', 'high saturated',\n",
       "        'high saturated fat', 'high standard', 'high sugar', 'high use',\n",
       "        'includ lactose', 'intransparent company', 'isnt animal',\n",
       "        'isnt proven', 'isnt proven animal', 'isnt proven test',\n",
       "        'isnt test', 'isnt test animal', 'labell environment',\n",
       "        'labor forced', 'labor forced labor', 'labor labor',\n",
       "        'lactose free', 'low co', 'low co footprint', 'low fat',\n",
       "        'low footprint', 'low salt', 'low saturated', 'low saturated fat',\n",
       "        'low sugar', 'low water', 'low water footprint', 'lupin product',\n",
       "        'lupine product', 'made store', 'majorly charity', 'majorly food',\n",
       "        'majorly food waste', 'majorly fund', 'majorly fund innovation',\n",
       "        'majorly innovation', 'majorly reduce', 'majorly reduce food',\n",
       "        'majorly reduce waste', 'majorly support',\n",
       "        'majorly support charity', 'majorly waste', 'mammal dairy',\n",
       "        'mammal dairy includ', 'mammal dairy product', 'mammal includ',\n",
       "        'mammal product', 'mammal product includ', 'marine culture',\n",
       "        'meat additive', 'meat beside', 'meat beside additive',\n",
       "        'medium fat', 'medium salt', 'medium saturated',\n",
       "        'medium saturated fat', 'medium sugar', 'milk additive',\n",
       "        'milk beside', 'milk beside additive', 'milk dairy',\n",
       "        'milk dairy product', 'milk mammal', 'milk mammal dairy',\n",
       "        'milk mammal product', 'milk product', 'mollusc clam',\n",
       "        'mollusc clam cuttlefish', 'mollusc cuttlefish', 'mollusc snail',\n",
       "        'mollusc snail clam', 'mollusc snail cuttlefish',\n",
       "        'mollusk product', 'mustard derived', 'mustard derived product',\n",
       "        'mustard product', 'mustard seed', 'mustard seed product',\n",
       "        'natural flavor', 'natural product', 'negative preservative',\n",
       "        'negative preservative safety', 'negative preservative test',\n",
       "        'negative safety', 'negative safety test', 'negative test',\n",
       "        'no additive', 'no agent', 'no animal', 'no animal product',\n",
       "        'no artificial', 'no artificial additive', 'no artificial color',\n",
       "        'no artificial flavor', 'no beside', 'no beside additive',\n",
       "        'no chemical', 'no chemical pesticide', 'no chemical used',\n",
       "        'no chicken', 'no color', 'no discrimination',\n",
       "        'no discrimination workplace', 'no egg', 'no egg additive',\n",
       "        'no egg beside', 'no emulsifier', 'no environmental',\n",
       "        'no environmental report', 'no fish', 'no flavor', 'no gell',\n",
       "        'no gell agent', 'no gluten', 'no gluten additive',\n",
       "        'no gluten beside', 'no meat', 'no meat additive',\n",
       "        'no meat beside', 'no milk', 'no milk additive', 'no milk beside',\n",
       "        'no pesticide', 'no pesticide used', 'no preservative',\n",
       "        'no product', 'no public', 'no public environmental',\n",
       "        'no public report', 'no report', 'no salt', 'no stabilizer',\n",
       "        'no synthetic', 'no synthetic pesticide', 'no thickener',\n",
       "        'no tuna', 'no turkey', 'no use', 'no use chemical',\n",
       "        'no use pesticide', 'no used', 'no workplace',\n",
       "        'nodiscrimination workplace', 'non gmo', 'nut allery',\n",
       "        'nut product', 'oil free', 'organic certification',\n",
       "        'organic certified', 'organic food', 'organic ingredient',\n",
       "        'organic product', 'package type', 'packaged plastic',\n",
       "        'packaged vacuum', 'packaged vacuum plastic', 'palm free',\n",
       "        'palm oil', 'palm oil free', 'peanut product', 'pesticide used',\n",
       "        'plant based', 'poultry product', 'preservative result',\n",
       "        'preservative safety', 'preservative safety result',\n",
       "        'preservative safety test', 'preservative test',\n",
       "        'preservative test result', 'proactive chain',\n",
       "        'proactive chain investigation', 'proactive investigation',\n",
       "        'proactive supply', 'proactive supply chain',\n",
       "        'proactive supply investigation', 'product includ',\n",
       "        'product includ lactose', 'product lactose', 'product organic',\n",
       "        'product packaged', 'product packaged plastic', 'product plastic',\n",
       "        'product usually', 'product usually packaged',\n",
       "        'product usually plastic', 'production plant', 'proven animal',\n",
       "        'proven test', 'proven test animal', 'public environmental',\n",
       "        'public environmental report', 'public report', 'quality standard',\n",
       "        'rainforest alliance', 'recycl code', 'recycl done',\n",
       "        'recyclable material', 'recyclable packag', 'recycled claim',\n",
       "        'recycled claim standard', 'recycled standard', 'reduce food',\n",
       "        'reduce food waste', 'reduce use', 'reduce waste', 'reduce water',\n",
       "        'reduce water use', 'reduced fat', 'rich antioxidant',\n",
       "        'safer choice', 'safety certification', 'safety result',\n",
       "        'safety system', 'safety system certification', 'safety test',\n",
       "        'safety test result', 'saturated fat', 'sc global',\n",
       "        'sc global service', 'sc service', 'seed product',\n",
       "        'sesame product', 'sesame seed', 'sesame seed product',\n",
       "        'short shelflive', 'snail clam', 'snail clam cuttlefish',\n",
       "        'snail clam product', 'snail cuttlefish',\n",
       "        'snail cuttlefish product', 'snail product', 'social cause',\n",
       "        'some close', 'some close plant', 'some close production',\n",
       "        'some plant', 'some production', 'some production plant',\n",
       "        'sourced ingredient', 'soybean product', 'sponsor cause',\n",
       "        'sponsor social', 'sponsor social cause', 'sqf certification',\n",
       "        'stabilizer used', 'step nodiscrimination',\n",
       "        'step nodiscrimination workplace', 'step toward',\n",
       "        'step toward nodiscrimination', 'step toward workplace',\n",
       "        'step workplace', 'strongly comprise',\n",
       "        'strongly comprise development', 'strongly comprise sustainable',\n",
       "        'strongly development', 'strongly sustainable',\n",
       "        'strongly sustainable development', 'suitable vegan',\n",
       "        'suitable vegetarian', 'sulfur dioxide', 'sulfur dioxide sulfite',\n",
       "        'sulfur sulfite', 'supply chain', 'supply chain investigation',\n",
       "        'supply investigation', 'support charity',\n",
       "        'sustainable agriculture', 'sustainable development',\n",
       "        'sustainable development goal', 'sustainable development sdg',\n",
       "        'sustainable farm', 'sustainable goal', 'sustainable goal sdg',\n",
       "        'sustainable oil', 'sustainable palm', 'sustainable palm oil',\n",
       "        'sustainable practice', 'sustainable sdg', 'sustainable soy',\n",
       "        'sustainably ingredient', 'sustainably sourced',\n",
       "        'sustainably sourced ingredient', 'synthetic pesticide',\n",
       "        'system certification', 'test animal', 'test result',\n",
       "        'thickener used', 'toward nodiscrimination',\n",
       "        'toward nodiscrimination workplace', 'toward workplace',\n",
       "        'trade certified', 'transparent company', 'unsustainable cocoa',\n",
       "        'unsustainable oil', 'unsustainable palm',\n",
       "        'unsustainable palm oil', 'usda certification', 'usda certified',\n",
       "        'usda organic', 'usda organic certification',\n",
       "        'usda organic certified', 'use chemical', 'use chemical pesticide',\n",
       "        'use cocoa', 'use pesticide', 'use unsustainable',\n",
       "        'use unsustainable cocoa', 'used child', 'used child forced',\n",
       "        'used child labor', 'used forced', 'used labor',\n",
       "        'used labor forced', 'usually packaged',\n",
       "        'usually packaged plastic', 'usually plastic', 'vacuum plastic',\n",
       "        'vegan company', 'vegan product', 'vegetarian company',\n",
       "        'vegetarian product', 'verified gmo', 'verified non',\n",
       "        'verified non gmo', 'waste recycl', 'water footprint', 'water use',\n",
       "        'weak anti', 'weak anti deforestation', 'weak anti policy',\n",
       "        'weak deforestation', 'weak deforestation policy', 'weak policy',\n",
       "        'with preservative', 'without additive', 'without agent',\n",
       "        'without animal', 'without animal product', 'without animal test',\n",
       "        'without artificial', 'without artificial additive',\n",
       "        'without artificial color', 'without artificial flavor',\n",
       "        'without chemical', 'without chicken', 'without color',\n",
       "        'without egg', 'without emulsifier', 'without fish',\n",
       "        'without flavor', 'without gell', 'without gell agent',\n",
       "        'without gluten', 'without meat', 'without milk',\n",
       "        'without pesticide', 'without preservative', 'without product',\n",
       "        'without salt', 'without stabilizer', 'without synthetic',\n",
       "        'without synthetic pesticide', 'without test', 'without thickener',\n",
       "        'without tuna', 'without turkey', 'without use',\n",
       "        'without use chemical', 'without use pesticide', 'worker right'],\n",
       "       dtype=object))"
      ]
     },
     "execution_count": 179,
     "metadata": {},
     "output_type": "execute_result"
    }
   ],
   "source": [
    "tf.get_feature_names_out(), tfidf.get_feature_names_out()"
   ]
  },
  {
   "cell_type": "code",
   "execution_count": 175,
   "id": "a8f9b439",
   "metadata": {},
   "outputs": [],
   "source": [
    "keyword_extractor.desc_tfidf=d\n",
    "desc_tfidf=d"
   ]
  },
  {
   "cell_type": "code",
   "execution_count": 134,
   "id": "5cdd2422",
   "metadata": {},
   "outputs": [],
   "source": [
    "from scipy.sparse import csr_matrix\n",
    "new_data = np.ones_like(onto_tfidf.data)\n",
    "n = csr_matrix((new_data, onto_tfidf.indices, onto_tfidf.indptr), shape=onto_tfidf.shape)"
   ]
  },
  {
   "cell_type": "code",
   "execution_count": 138,
   "id": "e759a1fc",
   "metadata": {},
   "outputs": [
    {
     "data": {
      "text/plain": [
       "array([1.        , 1.        , 1.        , ..., 0.64916921, 1.        ,\n",
       "       1.        ])"
      ]
     },
     "execution_count": 138,
     "metadata": {},
     "output_type": "execute_result"
    }
   ],
   "source": [
    "desc_tfidf.data"
   ]
  },
  {
   "cell_type": "code",
   "execution_count": 139,
   "id": "66ca5c13",
   "metadata": {},
   "outputs": [],
   "source": [
    "keyword_extractor.vocab_tfidf = n"
   ]
  },
  {
   "cell_type": "code",
   "execution_count": 63,
   "id": "8c7d9338",
   "metadata": {},
   "outputs": [],
   "source": [
    "# import pickle\n",
    "# keyword_extractor = pickle.load(open(\"keyword_extractor\", \"rb\"))\n",
    "# onto_tfidf = keyword_extractor.get_vocab_tfidf()\n",
    "# desc_tfidf = keyword_extractor.desc_tfidf"
   ]
  },
  {
   "cell_type": "code",
   "execution_count": 140,
   "id": "c92e73a3",
   "metadata": {},
   "outputs": [
    {
     "name": "stdout",
     "output_type": "stream",
     "text": [
      "Successfully inserted (or updated) vocabulary table\n"
     ]
    }
   ],
   "source": [
    "vocabulary = pd.DataFrame()\n",
    "vocabulary[\"vocab\"] = keyword_extractor.tfidfVectorizer.get_feature_names_out()\n",
    "dbWriter.insert_data(df=vocabulary, table_name=\"vocabulary\", include_index=True)"
   ]
  },
  {
   "cell_type": "markdown",
   "id": "1a170a3f",
   "metadata": {
    "slideshow": {
     "slide_type": "subslide"
    }
   },
   "source": [
    "#### Investigating the difference"
   ]
  },
  {
   "cell_type": "markdown",
   "id": "cc16dd5e",
   "metadata": {
    "slideshow": {
     "slide_type": "fragment"
    }
   },
   "source": [
    "**Without Manual Augmentation**"
   ]
  },
  {
   "cell_type": "code",
   "execution_count": 65,
   "id": "2dfc532d",
   "metadata": {
    "slideshow": {
     "slide_type": "skip"
    }
   },
   "outputs": [],
   "source": [
    "wva_ex = np.setdiff1d(np.unique(desc_tfidf_wva.nonzero()[0]), np.unique(desc_tfidf.nonzero()[0]))\n",
    "va_ex = np.setdiff1d(np.unique(desc_tfidf.nonzero()[0]), np.unique(desc_tfidf_wva.nonzero()[0]))"
   ]
  },
  {
   "cell_type": "code",
   "execution_count": 66,
   "id": "7a1545e8",
   "metadata": {
    "slideshow": {
     "slide_type": "skip"
    }
   },
   "outputs": [
    {
     "name": "stdout",
     "output_type": "stream",
     "text": [
      "Product Index: 411\n",
      "Description: the caricato family hand picks and cold presses its own olives in a traditional stone frantoio the family s organically farmed trees some over years old have been in the family since the result of the family s obsession with quality is a rich fragrant green gold oil with an intense flavor and excellent fruit character use this oil with soups pasta sauces and grilled meats statements regarding dietary supplements have not been evaluated by the fda and are not intended to diagnose treat cure or prevent any disease or health condition\n",
      "Keywords identified: ['use oil']\n",
      "\n",
      "Product Index: 1292\n",
      "Description: chinrose champion stem ginger in syrup is chinese ginger preserved in a sugar and water syrup it has the consistency of a canned peach or pear yet it still maintains the ginger tang it can be eaten on its own or mixed with cream cheese used in sauces an ingredient in cooking the options are endless country of origin china ginger sugar water statements regarding dietary supplements have not been evaluated by the fda and are not intended to diagnose treat cure or prevent any disease or health condition\n",
      "Keywords identified: ['country origin']\n",
      "\n"
     ]
    }
   ],
   "source": [
    "for i in wva_ex[:2]:\n",
    "    print(f\"Product Index: {i}\")\n",
    "    print(f\"Description: {amazon_data.iloc[i]['description']}\")\n",
    "    print(f\"Keywords identified: {tfidf_wva.get_feature_names_out()[desc_tfidf_wva[i].indices]}\\n\")"
   ]
  },
  {
   "cell_type": "code",
   "execution_count": 67,
   "id": "6c6b4e34",
   "metadata": {
    "slideshow": {
     "slide_type": "fragment"
    }
   },
   "outputs": [
    {
     "name": "stdout",
     "output_type": "stream",
     "text": [
      "Product Index: 1292\n",
      "Description: chinrose champion stem ginger in syrup is chinese ginger preserved in a sugar and water syrup it has the consistency of a canned peach or pear yet it still maintains the ginger tang it can be eaten on its own or mixed with cream cheese used in sauces an ingredient in cooking the options are endless country of origin china ginger sugar water statements regarding dietary supplements have not been evaluated by the fda and are not intended to diagnose treat cure or prevent any disease or health condition\n",
      "Keywords identified: ['country origin']\n",
      "\n"
     ]
    }
   ],
   "source": [
    "i = 1292\n",
    "print(f\"Product Index: {i}\")\n",
    "print(f\"Description: {amazon_data.iloc[i]['description']}\")\n",
    "print(f\"Keywords identified: {tfidf_wva.get_feature_names_out()[desc_tfidf_wva[i].indices]}\\n\")"
   ]
  },
  {
   "cell_type": "markdown",
   "id": "418b7e24",
   "metadata": {
    "slideshow": {
     "slide_type": "subslide"
    }
   },
   "source": [
    "**With Manual Augmentation**"
   ]
  },
  {
   "cell_type": "code",
   "execution_count": 68,
   "id": "57e6d399",
   "metadata": {
    "slideshow": {
     "slide_type": "skip"
    }
   },
   "outputs": [
    {
     "name": "stdout",
     "output_type": "stream",
     "text": [
      "Product Index: 3\n",
      "Description: lipton yellow label teabags uses a new way to make tea to lock in as much of the tea taste and aroma as possible we developed an innovative new process we press fresh high quality tea leaves to release their natural essence and we have developed a new blend with this essence enjoy a cup of tea with perfect color and taste that reinvigorates you shipping weight keywords search terms black tea bags lipton tea bags statements regarding dietary supplements have not been evaluated by the fda and are not intended to diagnose treat cure or prevent any disease or health condition\n",
      "Keywords identified: ['high quality']\n",
      "\n",
      "Product Index: 25\n",
      "Description: personality wise and lively a breath of fresh air herbal power gently shakes things up and helps you breathe easy reason to love one of our original formulas breathe easy tea has been supporting people for nearly four decades this enduring classic combines the best of western herbalism with ancient traditional chinese wisdom resulting in a unique blend that warms and engages the senses eucalyptus fennel and licorice are combined with bi yan pian extract a traditional chinese formula of different herbs we love this aromatic and fragrant blend that soothes with its warm and spicy taste taste balanced bittersweet with hints of aromatic citrus these statements have not been evaluated by the food and drug administration this product is not intended to diagnose treat cure or prevent any disease for nearly forty years weve been passionate about connecting people with plants and passing along the centuries old wisdom of how to use them so even though our packaging has changed our aspirations remain the same help you use plants to be healthy same great teas same old us devoted stewards of traditional herbal knowledge practitioners of sustainable sourcing meticulous judges of highest quality herbs caring members of our communities proud employee owners of our independent company herb nerds and plant people who without meaning to sound too hippie about it feel like the plants are talking to us we hope you will enjoy the fruits or flowers roots and leaves of our labor this product is labelled to united states standards and may differ from similar products sold elsewhere in its ingredients labeling and allergen warnings as with any herbal supplement do not use during pregnancy or lactation without the advice of a practitioner trained in medicinal herbalism p organic licorice root mg organic eucalyptus leaf pheur mg organic bitter fennel fruit pheur mg bi yan pian dry aqueous extract mg proprietary blend mg organic peppermint leaf organic calendula flower pluerisy root organic ginger rhizome this is the pharmacopoeial quality standard we use because quality matters to enjoy pour oz freshly boiled water over tea bag cover cup steep for minutes squeeze tea bag to ensure maximum goodness in your cup enjoy up to cups daily especially good with honey please note product image is representative of the product offered but may not have the exact attributes please read product description for the specific attributes of this product the information above is intended for reference only while we attempt to keep our information accurate we cannot guarantee it is an accurate representation of the latest formulation of the product if you have any concerns please visit the vendor s web site the information above are the views of the product s manufacturer these statements have not been evaluated by the food and drug administration this product is not intended to diagnose treat cure or prevent any disease statements regarding dietary supplements have not been evaluated by the fda and are not intended to diagnose treat cure or prevent any disease or health condition\n",
      "Keywords identified: ['quality standard']\n",
      "\n"
     ]
    }
   ],
   "source": [
    "for i in va_ex[:2]:\n",
    "    print(f\"Product Index: {i}\")\n",
    "    print(f\"Description: {amazon_data.iloc[i]['description']}\")\n",
    "    print(f\"Keywords identified: {tfidf.get_feature_names_out()[desc_tfidf[i].indices]}\\n\")"
   ]
  },
  {
   "cell_type": "code",
   "execution_count": 69,
   "id": "b4d491c6",
   "metadata": {
    "slideshow": {
     "slide_type": "fragment"
    }
   },
   "outputs": [
    {
     "name": "stdout",
     "output_type": "stream",
     "text": [
      "Product Index: 3\n",
      "Description: lipton yellow label teabags uses a new way to make tea to lock in as much of the tea taste and aroma as possible we developed an innovative new process we press fresh high quality tea leaves to release their natural essence and we have developed a new blend with this essence enjoy a cup of tea with perfect color and taste that reinvigorates you shipping weight keywords search terms black tea bags lipton tea bags statements regarding dietary supplements have not been evaluated by the fda and are not intended to diagnose treat cure or prevent any disease or health condition\n",
      "Keywords identified: ['high quality']\n",
      "\n"
     ]
    }
   ],
   "source": [
    "i = 3\n",
    "print(f\"Product Index: {i}\")\n",
    "print(f\"Description: {amazon_data.iloc[i]['description']}\")\n",
    "print(f\"Keywords identified: {tfidf.get_feature_names_out()[desc_tfidf[i].indices]}\\n\")"
   ]
  },
  {
   "cell_type": "markdown",
   "id": "dc147f46",
   "metadata": {
    "slideshow": {
     "slide_type": "subslide"
    }
   },
   "source": [
    "#### Investigate descriptions and identified keywords"
   ]
  },
  {
   "cell_type": "code",
   "execution_count": 70,
   "id": "738b66d0",
   "metadata": {
    "slideshow": {
     "slide_type": "skip"
    }
   },
   "outputs": [
    {
     "name": "stdout",
     "output_type": "stream",
     "text": [
      "Top few descriptions with most keywords: \n",
      "Product Index: 5524       Number of keywords: 37        \n",
      "Product Index: 31891      Number of keywords: 36        \n",
      "Product Index: 18832      Number of keywords: 35        \n",
      "Product Index: 19096      Number of keywords: 35        \n",
      "Product Index: 19102      Number of keywords: 35        \n",
      "Product Index: 5523       Number of keywords: 34        \n",
      "Product Index: 5542       Number of keywords: 34        \n",
      "Product Index: 25287      Number of keywords: 34        \n",
      "Product Index: 50191      Number of keywords: 34        \n",
      "Product Index: 32944      Number of keywords: 33        \n"
     ]
    }
   ],
   "source": [
    "value_counts = np.unique(desc_tfidf.nonzero()[0], return_counts=True)\n",
    "print(\"Top few descriptions with most keywords: \")\n",
    "for i in sorted(zip(*value_counts), key=lambda x: x[1], reverse=True)[:10]:\n",
    "    print(f\"Product Index: {i[0]:<10} Number of keywords: {i[1]:<10}\")\n"
   ]
  },
  {
   "cell_type": "code",
   "execution_count": 71,
   "id": "b30dccb1",
   "metadata": {
    "slideshow": {
     "slide_type": "skip"
    }
   },
   "outputs": [
    {
     "name": "stdout",
     "output_type": "stream",
     "text": [
      "Sample Index: 5524\n",
      "Product details for the considered sample: \n",
      "Title: EnviroKidz Organic Gluten-Free Animal Cookies, Vanilla, 9-Ounce Boxes (Pack of 12)\n",
      "Description: whether you re big or little nature s path cookies will satisfy the kid in all of us kid pleasing bite sized fun don t let the kids fool you they re good for adults too treat yourself div class aplus img src https images na ssl images amazon com images g grocery detail page naturespath glutenfreeinsert jpg alt certified gluten free align left nature s path organic honey d corn flakes cereal b contains crisp golden gluten free flakes made of pure cornmeal lightly sweetened with concentrated grape juice and with a mix of organic evaporated cane juice and honey be sure you will not have to lower your expectations even if you are eating a gluten free wheat free breakfast you do not have to settle for ordinary flakes or tasteless gluten free cereal when nature s path offers so much more a pinch of this a dash of that but never anything artificial this product contains no artificial additives preservatives or colors moreover the usda organic certification on this product means that the ingredients are grown without synthetic herbicides pesticides and nasty chemicals this is a sacrifice free way of enjoying your breakfast img src https images na ssl images amazon com images g grocery detail page naturespath organicchart jpg alt organic natural what s the difference align right h style margin whole grain goodness for everyone h the specialty of nature s path is and has always been everything whole grain if you decide to go gluten free then there is no healthier option than organic gluten free products that are not only gluten free but also free of other things that can compromise health add to that non gmo project verified for an extra assurance when it comes to food safety nature s path uses gluten free grains such as buckwheat quinoa millet sorghum amaranth brown rice flax teff and whole grain corn b amaranth strong long considered a native crop in peru amaranth was a major food crop of the ancient aztecs and played a part in their religious practices as well amaranth is \n",
      "\n",
      "Keyword Identified: ['artificial additive' 'artificial color' 'certified organic'\n",
      " 'contain gluten' 'food safety' 'free from' 'free gluten' 'gluten free'\n",
      " 'gmo verified' 'high antioxidant' 'high protein' 'low fat'\n",
      " 'natural flavor' 'no additive' 'no artificial' 'no artificial additive'\n",
      " 'no chemical' 'no pesticide' 'no preservative' 'no synthetic'\n",
      " 'no synthetic pesticide' 'non gmo' 'organic certification' 'organic food'\n",
      " 'organic product' 'palm oil' 'pesticide used' 'sesame seed'\n",
      " 'synthetic pesticide' 'usda certification' 'usda certified'\n",
      " 'usda organic' 'usda organic certification' 'verified gmo'\n",
      " 'without pesticide' 'without synthetic' 'without synthetic pesticide']\n"
     ]
    }
   ],
   "source": [
    "sample_index = 5524\n",
    "print(f\"Sample Index: {sample_index}\")\n",
    "print(f\"Product details for the considered sample: \\nTitle: {amazon_data.iloc[sample_index]['title']}\")\n",
    "print(f\"Description: {amazon_data.iloc[sample_index]['description'][:2000]}\")\n",
    "print(f\"\\nKeyword Identified: {keyword_extractor.tfidfVectorizer.get_feature_names_out()[desc_tfidf[sample_index].indices]}\")"
   ]
  },
  {
   "cell_type": "code",
   "execution_count": 72,
   "id": "cd019216",
   "metadata": {
    "slideshow": {
     "slide_type": "fragment"
    }
   },
   "outputs": [
    {
     "name": "stdout",
     "output_type": "stream",
     "text": [
      "Sample Index: 50191\n",
      "Product details for the considered sample: \n",
      "Title: Nature's Path Crunchy Vanilla Sunrise, Gluten Free, 10.6 Ounces (Pack of 3)\n",
      "Description: a delicious vanilla breakfast cereal with a variety of crunchy textures from flakes puffs and crispies make this a genuinely tasty gluten free breakfast div class aplus img src https images na ssl images amazon com images g grocery detail page naturespath glutenfreeinsert jpg alt certified gluten free align left nature s path organic sunrise crunchy vanilla cereal b is a delicious warm real vanilla breakfast cereal with a variety of crunchy textures from flakes puffs and crispies a genuinely tasty gluten free breakfast be sure you will not have to lower your expectations even if you are eating a gluten free wheat free breakfast it contains the whole grain goodness of organic flax buckwheat and the ancient grains quinoa and amaranth these were once the staples of aztec and peruvian homes and now you can enjoy their unique tastes and many nutritional benefits including omega fatty acids you do not have to settle for ordinary flakes or tasteless gluten free cereal when nature s path offers so much more a pinch of this a dash of that but never anything artificial this product contains no artificial additives preservatives or colors moreover the usda organic certification on this product means that the ingredients are grown without synthetic herbicides pesticides and nasty chemicals this is a sacrifice free way of enjoying your breakfast img src https images na ssl images amazon com images g grocery detail page naturespath organicchart jpg alt organic natural what s the difference align right h style margin whole grain goodness for everyone h the specialty of nature s path is and has always been everything whole grain if you decide to go gluten free then there is no healthier option than organic gluten free products that are not only gluten free but also free of other things that can compromise health add to that non gmo project verified for an extra assurance when it comes to food safety nature s path uses gluten free grains such as buckwheat quinoa millet sorghum amaranth brown rice flax teff and whole grain corn b amaranth strong long considered a native crop in peru amaranth was a major food crop of the ancient aztecs and played a part in their religious practices as well amaranth is gluten free high in protein iron magnesium phosphorus and potassium it is the only grain that also contains vitamin c brown rice strong naturally gluten free whole grain rice is usually brown but can also be black purple or even red it is one of the most easily digested grains and though it is lower in fiber it is still rich in many other nutrients buckwheat strong it is not technically a grain at all and not any kind of wheat but rather a cousin of rhubarb it is the only grain to have high levels of an antioxidant called rutin and of course it is gluten free too certified gluten free and wheat free by the gluten free certification organization an independent service that supervises gluten free food production according to a consistent defined science based standard that is confirmed by field inspections nature s path was the first usda certified producer of organic breakfast cereal in north america and we re the larges manufacturer of organic cereals to this day many of our gluten free products are non gmo project verified gmo crops are found in so many of the foods implicated in health and digestive issues and have yet to be proven safe we keep them out of our foods because we don t believe in using people as guinea pigs in a lab experiment quality assurance international is a third party certification organization that regularly inspects to ensure stringent organic food standards are met all nature s path foods are kosher whole grain corn strong while it s true that corn may be familiar don t overlook it when it comes to antioxidants corn has the highest levels of antioxidants of any grain or vegetable quinoa strong it is another grain that is not quite a grain quinoa is actually a relative of swiss chard and beets this gluten free grain was a favorite of the incas it comes from south america and is a small light colored grain that looks a bit like sesame seeds it is a complete protein delivering all the essential amino acids our bodies need sorghum strong this hearty gluten free grain from africa thrives where other grains would wither and die it can be eaten like popcorn cooked into porridge or made into flour it is very popular with people who have gluten issues teff strong this is a tiny grain that comes from africa it is th the size of a wheat kernel the fact that teff comes from the word teffa meaning lost starts to make sense teff has a sweet molasses like taste and can be used for baked goods porridge or teff polenta it is high in iron and calcium organic is healthier strong organic makes much less impact on the earth as no synthetic pesticides fertilizers or antibiotics are used and no chemicals are added to the food afterwards it means less pollution in your world and in your bowl organic goes further towards giving you what nature intended clean pure and real food nature s path has made america s favorite gluten free cereals for longer than anyone else has nobody offers a wider range of gluten free breakfast options they know what makes a great tasting breakfast you can make nature s path your daily breakfast partner today what is in the box strong this is sold in a pack of six count bars total bars br clear all whole grain corn meal cane sugar brown rice flour corn meal yellow corn flour inulin quinoa puffs flax seeds natural vanilla flavor buckwheat flour quinoa sea salt amaranth molasses tocopherols vitamin e statements regarding dietary supplements have not been evaluated by the fda and are not intended to diagnose treat cure or prevent any disease or health condition\n",
      "\n",
      "Keyword Identified: ['artificial additive' 'artificial color' 'certified organic'\n",
      " 'food safety' 'free from' 'free gluten' 'gluten free' 'gmo verified'\n",
      " 'high antioxidant' 'high protein' 'natural flavor' 'no additive'\n",
      " 'no artificial' 'no artificial additive' 'no chemical' 'no pesticide'\n",
      " 'no preservative' 'no synthetic' 'no synthetic pesticide' 'non gmo'\n",
      " 'organic certification' 'organic food' 'organic product' 'pesticide used'\n",
      " 'sesame seed' 'synthetic pesticide' 'usda certification' 'usda certified'\n",
      " 'usda organic' 'usda organic certification' 'verified gmo'\n",
      " 'without pesticide' 'without synthetic' 'without synthetic pesticide']\n"
     ]
    }
   ],
   "source": [
    "sample_index = 50191      \n",
    "print(f\"Sample Index: {sample_index}\")\n",
    "print(f\"Product details for the considered sample: \\nTitle: {amazon_data.iloc[sample_index]['title']}\")\n",
    "print(f\"Description: {amazon_data.iloc[sample_index]['description']}\")\n",
    "print(f\"\\nKeyword Identified: {keyword_extractor.tfidfVectorizer.get_feature_names_out()[desc_tfidf[sample_index].indices]}\")"
   ]
  },
  {
   "cell_type": "markdown",
   "id": "fccb44d4",
   "metadata": {
    "slideshow": {
     "slide_type": "subslide"
    }
   },
   "source": [
    "#### Elimination of redundant bigrams"
   ]
  },
  {
   "cell_type": "code",
   "execution_count": 141,
   "id": "871f5a15",
   "metadata": {
    "slideshow": {
     "slide_type": "fragment"
    }
   },
   "outputs": [],
   "source": [
    "desc_tfidf = keyword_extractor.eliminate_redundant_bigram()"
   ]
  },
  {
   "cell_type": "code",
   "execution_count": 142,
   "id": "0fa223df",
   "metadata": {
    "slideshow": {
     "slide_type": "fragment"
    }
   },
   "outputs": [
    {
     "name": "stdout",
     "output_type": "stream",
     "text": [
      "Sample Index: 26\n",
      "Product details for the considered sample: \n",
      "Title: WHOPPERS Candy (Chocolate Covered Malted Milk Candy Balls),7 Ounce Bag (Pack of 12)\n",
      "Description: whoppers malted milk balls are the classic confections that have delighted chocolate lovers for decades enjoy the classic combination of crunchy malt and smooth milk chocolate whoppers candies are the perfect snack for the office home or on the go you can even use them for edible crafts or baking great for filling candy bowls snacking with your favorite movie or tv show or simply enjoying as an afternoon treat whoppers malted milk balls are ou certified as a kosher food stock up for snacks and special events with this pack of individual ounce bags all major allergens are contained and listed as ingredients on our labels as recommended by food allergy and anaphylaxis network faan please check the label on each package before purchasing sugar corn syrup partially hydrogenated palm kernel oil whey milk malted milk barley malt wheat flour milk salt sodium bicarbonate cocoa contains or less of resinous glaze sorbitan tristearate soy lecithin salt natural and artificial flavor calcium carbonate tapioca dextrin statements regarding dietary supplements have not been evaluated by the fda and are not intended to diagnose treat cure or prevent any disease or health condition\n",
      "\n",
      "Keyword Identified: ['artificial flavor' 'natural flavor' 'palm oil']\n"
     ]
    }
   ],
   "source": [
    "sample_index = 26\n",
    "print(f\"Sample Index: {sample_index}\")\n",
    "print(f\"Product details for the considered sample: \\nTitle: {amazon_data.iloc[sample_index]['title']}\")\n",
    "print(f\"Description: {amazon_data.iloc[sample_index]['description']}\")\n",
    "print(f\"\\nKeyword Identified: {keyword_extractor.tfidfVectorizer.get_feature_names_out()[desc_tfidf[sample_index].indices]}\")"
   ]
  },
  {
   "cell_type": "code",
   "execution_count": 75,
   "id": "ca8280e4",
   "metadata": {},
   "outputs": [
    {
     "name": "stdout",
     "output_type": "stream",
     "text": [
      "Successfully inserted (or updated) product_keywords table\n"
     ]
    }
   ],
   "source": [
    "keywords = desc_tfidf.tocsr().nonzero()\n",
    "product_keywords = pd.DataFrame()\n",
    "product_keywords[\"product_idx\"]=keywords[0]\n",
    "product_keywords[\"vocab_idx\"]=keywords[1]\n",
    "product_keywords[\"source\"] = \"amazon_data_1\"\n",
    "\n",
    "dbWriter.insert_data(df=product_keywords, table_name=\"product_keywords\", include_index=False)"
   ]
  },
  {
   "cell_type": "code",
   "execution_count": 76,
   "id": "942e4fd0",
   "metadata": {
    "slideshow": {
     "slide_type": "skip"
    }
   },
   "outputs": [],
   "source": [
    "keywords = []\n",
    "for row in desc_tfidf:\n",
    "    keywords.append(keyword_extractor.tfidfVectorizer.get_feature_names_out()[row.indices])\n",
    "amazon_data[\"keywords\"] = keywords"
   ]
  },
  {
   "cell_type": "code",
   "execution_count": 77,
   "id": "22f7b928",
   "metadata": {
    "slideshow": {
     "slide_type": "skip"
    }
   },
   "outputs": [],
   "source": [
    "amazon_data.to_csv(\"amazon_data_with_keywords.csv\")"
   ]
  },
  {
   "cell_type": "markdown",
   "id": "dc91ee77",
   "metadata": {
    "slideshow": {
     "slide_type": "slide"
    }
   },
   "source": [
    "## Mapping Keywords"
   ]
  },
  {
   "cell_type": "code",
   "execution_count": 78,
   "id": "4fdc662b",
   "metadata": {
    "slideshow": {
     "slide_type": "skip"
    }
   },
   "outputs": [],
   "source": [
    "from ProjectModules import KeywordsMapper"
   ]
  },
  {
   "cell_type": "markdown",
   "id": "c784c605",
   "metadata": {
    "slideshow": {
     "slide_type": "fragment"
    }
   },
   "source": [
    "### Compute Mapping"
   ]
  },
  {
   "cell_type": "code",
   "execution_count": 146,
   "id": "8dc3abf0",
   "metadata": {
    "slideshow": {
     "slide_type": "fragment"
    }
   },
   "outputs": [
    {
     "data": {
      "text/plain": [
       "<202961x381 sparse matrix of type '<class 'numpy.float64'>'\n",
       "\twith 333437 stored elements in Compressed Sparse Row format>"
      ]
     },
     "execution_count": 146,
     "metadata": {},
     "output_type": "execute_result"
    }
   ],
   "source": [
    "keywords_mapper = KeywordsMapper(onto_tfidf= onto_tfidf, desc_tfidf=desc_tfidf)\n",
    "importance = keywords_mapper.compute_mapping()\n",
    "importance"
   ]
  },
  {
   "cell_type": "code",
   "execution_count": 147,
   "id": "6e72aeee",
   "metadata": {},
   "outputs": [
    {
     "data": {
      "text/plain": [
       "array([1., 1., 1., ..., 1., 1., 1.])"
      ]
     },
     "execution_count": 147,
     "metadata": {},
     "output_type": "execute_result"
    }
   ],
   "source": [
    "importance.data"
   ]
  },
  {
   "cell_type": "code",
   "execution_count": 143,
   "id": "b2a865c2",
   "metadata": {},
   "outputs": [
    {
     "data": {
      "text/plain": [
       "array([1., 1., 1., ..., 1., 1., 1.])"
      ]
     },
     "execution_count": 143,
     "metadata": {},
     "output_type": "execute_result"
    }
   ],
   "source": [
    "importance.data"
   ]
  },
  {
   "cell_type": "markdown",
   "id": "77b5033a",
   "metadata": {
    "slideshow": {
     "slide_type": "subslide"
    }
   },
   "source": [
    "### Aggregate Scores\n",
    "#### Product to Ontology Mapping"
   ]
  },
  {
   "cell_type": "code",
   "execution_count": 148,
   "id": "337b3917",
   "metadata": {
    "slideshow": {
     "slide_type": "fragment"
    }
   },
   "outputs": [
    {
     "data": {
      "text/html": [
       "<div>\n",
       "<style scoped>\n",
       "    .dataframe tbody tr th:only-of-type {\n",
       "        vertical-align: middle;\n",
       "    }\n",
       "\n",
       "    .dataframe tbody tr th {\n",
       "        vertical-align: top;\n",
       "    }\n",
       "\n",
       "    .dataframe thead th {\n",
       "        text-align: right;\n",
       "    }\n",
       "</style>\n",
       "<table border=\"1\" class=\"dataframe\">\n",
       "  <thead>\n",
       "    <tr style=\"text-align: right;\">\n",
       "      <th></th>\n",
       "      <th>product_idx</th>\n",
       "      <th>onto_idx</th>\n",
       "      <th>imp_score</th>\n",
       "    </tr>\n",
       "  </thead>\n",
       "  <tbody>\n",
       "    <tr>\n",
       "      <th>0</th>\n",
       "      <td>3</td>\n",
       "      <td>47</td>\n",
       "      <td>1.0</td>\n",
       "    </tr>\n",
       "    <tr>\n",
       "      <th>1</th>\n",
       "      <td>11</td>\n",
       "      <td>38</td>\n",
       "      <td>1.0</td>\n",
       "    </tr>\n",
       "    <tr>\n",
       "      <th>2</th>\n",
       "      <td>18</td>\n",
       "      <td>0</td>\n",
       "      <td>1.0</td>\n",
       "    </tr>\n",
       "    <tr>\n",
       "      <th>3</th>\n",
       "      <td>18</td>\n",
       "      <td>2</td>\n",
       "      <td>1.0</td>\n",
       "    </tr>\n",
       "    <tr>\n",
       "      <th>4</th>\n",
       "      <td>18</td>\n",
       "      <td>259</td>\n",
       "      <td>1.0</td>\n",
       "    </tr>\n",
       "  </tbody>\n",
       "</table>\n",
       "</div>"
      ],
      "text/plain": [
       "   product_idx  onto_idx  imp_score\n",
       "0            3        47        1.0\n",
       "1           11        38        1.0\n",
       "2           18         0        1.0\n",
       "3           18         2        1.0\n",
       "4           18       259        1.0"
      ]
     },
     "execution_count": 148,
     "metadata": {},
     "output_type": "execute_result"
    }
   ],
   "source": [
    "all_mappings = keywords_mapper.create_map_df()\n",
    "all_mappings.head(5)"
   ]
  },
  {
   "cell_type": "code",
   "execution_count": 149,
   "id": "e4935a83",
   "metadata": {},
   "outputs": [
    {
     "name": "stdout",
     "output_type": "stream",
     "text": [
      "Successfully inserted (or updated) product_ontology_mapping table\n"
     ]
    }
   ],
   "source": [
    "data_to_insert = all_mappings[[\"product_idx\", \"onto_idx\", \"imp_score\"]]\n",
    "data_to_insert[\"source\"] = \"amazon_data_1\"\n",
    "dbWriter.insert_data(df=data_to_insert, table_name=\"product_ontology_mapping\", include_index=False)"
   ]
  },
  {
   "cell_type": "code",
   "execution_count": 150,
   "id": "b2add3aa",
   "metadata": {},
   "outputs": [
    {
     "name": "stdout",
     "output_type": "stream",
     "text": [
      "Pivot table query generated: drop view if exists v_green_product_sustainability_mapping; create view v_green_product_sustainability_mapping as  select source, product_idx , avg(association_imp_score) filter (where preference_category = \"Environment\") as \"environment\" , avg(association_imp_score) filter (where preference_category = \"Health\") as \"health\" , avg(association_imp_score) filter (where preference_category = \"Social\") as \"social\" , avg(association_imp_score) filter (where preference_category = \"Quality\") as \"quality\" from (select pom.source, pom.product_idx, od.preference_category, \n",
      "pom.imp_score*od.association as association_imp_score \n",
      "from product_ontology_mapping pom \n",
      "left join ontology_data od \n",
      "on pom.onto_idx=od.idx where od.conditional=False) group by source, product_idx order by source, product_idx;\n",
      "Script generate_product_sustainability_mapping_pivot_query.sql executed succesfully!\n"
     ]
    }
   ],
   "source": [
    "dbWriter.execute_script(query_script=\"generate_product_sustainability_mapping_pivot_query.sql\", should_generate_query=True)"
   ]
  },
  {
   "cell_type": "code",
   "execution_count": 151,
   "id": "da591976",
   "metadata": {},
   "outputs": [
    {
     "name": "stdout",
     "output_type": "stream",
     "text": [
      "Pivot table query generated: drop view if exists v_green_product_dietary_mapping; create view v_green_product_dietary_mapping as  select source, product_idx , avg(association_imp_score) filter (where sustainability_preference = \"Allergen-free products\") as \"allergen-free\" , avg(association_imp_score) filter (where sustainability_preference = \"Gluten-free products\") as \"gluten-free\" , avg(association_imp_score) filter (where sustainability_preference = \"Vegan products\") as \"vegan\" , avg(association_imp_score) filter (where sustainability_preference = \"Vegetarian products\") as \"vegetarian\" , avg(association_imp_score) filter (where sustainability_preference = \"Lactose-free products\") as \"lactose-free\" from (select pom.source, pom.product_idx, od.sustainability_preference, \n",
      "pom.imp_score*od.association as association_imp_score \n",
      "from product_ontology_mapping pom \n",
      "left join ontology_data od \n",
      "on pom.onto_idx=od.idx where od.conditional=True) group by source, product_idx order by source, product_idx;\n",
      "Script generate_dietary_mapping_pivot_query.sql executed succesfully!\n"
     ]
    }
   ],
   "source": [
    "dbWriter.execute_script(query_script=\"generate_dietary_mapping_pivot_query.sql\", should_generate_query=True)"
   ]
  },
  {
   "cell_type": "code",
   "execution_count": 152,
   "id": "91cde570",
   "metadata": {},
   "outputs": [
    {
     "name": "stdout",
     "output_type": "stream",
     "text": [
      "Script final_green_product_info_queries.sql executed succesfully!\n"
     ]
    }
   ],
   "source": [
    "dbWriter.execute_script(query_script=\"final_green_product_info_queries.sql\");"
   ]
  },
  {
   "cell_type": "code",
   "execution_count": 153,
   "id": "595611ed",
   "metadata": {
    "slideshow": {
     "slide_type": "skip"
    }
   },
   "outputs": [
    {
     "data": {
      "text/html": [
       "<div>\n",
       "<style scoped>\n",
       "    .dataframe tbody tr th:only-of-type {\n",
       "        vertical-align: middle;\n",
       "    }\n",
       "\n",
       "    .dataframe tbody tr th {\n",
       "        vertical-align: top;\n",
       "    }\n",
       "\n",
       "    .dataframe thead th {\n",
       "        text-align: right;\n",
       "    }\n",
       "</style>\n",
       "<table border=\"1\" class=\"dataframe\">\n",
       "  <thead>\n",
       "    <tr style=\"text-align: right;\">\n",
       "      <th></th>\n",
       "      <th>product_idx</th>\n",
       "      <th>onto_idx</th>\n",
       "      <th>imp_score</th>\n",
       "      <th>tag</th>\n",
       "      <th>preference</th>\n",
       "      <th>preference category</th>\n",
       "      <th>association</th>\n",
       "      <th>conditional</th>\n",
       "      <th>association_imp_score</th>\n",
       "    </tr>\n",
       "  </thead>\n",
       "  <tbody>\n",
       "    <tr>\n",
       "      <th>0</th>\n",
       "      <td>3</td>\n",
       "      <td>47</td>\n",
       "      <td>1.0</td>\n",
       "      <td>high quality and standard</td>\n",
       "      <td>Award winning or high quality certified products</td>\n",
       "      <td>Quality</td>\n",
       "      <td>1</td>\n",
       "      <td>False</td>\n",
       "      <td>1.0</td>\n",
       "    </tr>\n",
       "    <tr>\n",
       "      <th>1</th>\n",
       "      <td>11</td>\n",
       "      <td>38</td>\n",
       "      <td>1.0</td>\n",
       "      <td>allergen sesame seed product</td>\n",
       "      <td>Allergen-free products</td>\n",
       "      <td>Health</td>\n",
       "      <td>-1</td>\n",
       "      <td>True</td>\n",
       "      <td>-1.0</td>\n",
       "    </tr>\n",
       "    <tr>\n",
       "      <th>2</th>\n",
       "      <td>18</td>\n",
       "      <td>0</td>\n",
       "      <td>1.0</td>\n",
       "      <td>sustainable palm oil</td>\n",
       "      <td>Products produced and distributed in an enviro...</td>\n",
       "      <td>Environment</td>\n",
       "      <td>1</td>\n",
       "      <td>False</td>\n",
       "      <td>1.0</td>\n",
       "    </tr>\n",
       "    <tr>\n",
       "      <th>3</th>\n",
       "      <td>18</td>\n",
       "      <td>2</td>\n",
       "      <td>1.0</td>\n",
       "      <td>unsustainable palm oil</td>\n",
       "      <td>Products produced and distributed in an enviro...</td>\n",
       "      <td>Environment</td>\n",
       "      <td>-1</td>\n",
       "      <td>False</td>\n",
       "      <td>-1.0</td>\n",
       "    </tr>\n",
       "    <tr>\n",
       "      <th>4</th>\n",
       "      <td>18</td>\n",
       "      <td>259</td>\n",
       "      <td>1.0</td>\n",
       "      <td>palm oil free</td>\n",
       "      <td>Products produced and distributed in an enviro...</td>\n",
       "      <td>Environment</td>\n",
       "      <td>1</td>\n",
       "      <td>False</td>\n",
       "      <td>1.0</td>\n",
       "    </tr>\n",
       "  </tbody>\n",
       "</table>\n",
       "</div>"
      ],
      "text/plain": [
       "   product_idx  onto_idx  imp_score                           tag  \\\n",
       "0            3        47        1.0     high quality and standard   \n",
       "1           11        38        1.0  allergen sesame seed product   \n",
       "2           18         0        1.0          sustainable palm oil   \n",
       "3           18         2        1.0        unsustainable palm oil   \n",
       "4           18       259        1.0                 palm oil free   \n",
       "\n",
       "                                          preference preference category  \\\n",
       "0   Award winning or high quality certified products             Quality   \n",
       "1                             Allergen-free products              Health   \n",
       "2  Products produced and distributed in an enviro...         Environment   \n",
       "3  Products produced and distributed in an enviro...         Environment   \n",
       "4  Products produced and distributed in an enviro...         Environment   \n",
       "\n",
       "   association  conditional  association_imp_score  \n",
       "0            1        False                    1.0  \n",
       "1           -1         True                   -1.0  \n",
       "2            1        False                    1.0  \n",
       "3           -1        False                   -1.0  \n",
       "4            1        False                    1.0  "
      ]
     },
     "execution_count": 153,
     "metadata": {},
     "output_type": "execute_result"
    }
   ],
   "source": [
    "all_mappings = keywords_mapper.integrate_ontology(vocab_updated[[\"tag\", \"preference\", \"preference category\", \"association\", \"conditional\"]])\n",
    "all_mappings.head(5)"
   ]
  },
  {
   "cell_type": "code",
   "execution_count": 86,
   "id": "6fbb8efc",
   "metadata": {},
   "outputs": [],
   "source": [
    "all_mappings.to_csv(\"all_mappings.csv\")"
   ]
  },
  {
   "cell_type": "markdown",
   "id": "230d2a8f",
   "metadata": {
    "slideshow": {
     "slide_type": "subslide"
    }
   },
   "source": [
    "#### Sustainability Mapping"
   ]
  },
  {
   "cell_type": "code",
   "execution_count": 154,
   "id": "cc36ab42",
   "metadata": {},
   "outputs": [
    {
     "name": "stdout",
     "output_type": "stream",
     "text": [
      "Successfully loaded data from v_green_product_info!\n"
     ]
    },
    {
     "data": {
      "text/html": [
       "<div>\n",
       "<style scoped>\n",
       "    .dataframe tbody tr th:only-of-type {\n",
       "        vertical-align: middle;\n",
       "    }\n",
       "\n",
       "    .dataframe tbody tr th {\n",
       "        vertical-align: top;\n",
       "    }\n",
       "\n",
       "    .dataframe thead th {\n",
       "        text-align: right;\n",
       "    }\n",
       "</style>\n",
       "<table border=\"1\" class=\"dataframe\">\n",
       "  <thead>\n",
       "    <tr style=\"text-align: right;\">\n",
       "      <th></th>\n",
       "      <th>source</th>\n",
       "      <th>idx</th>\n",
       "      <th>product_description</th>\n",
       "      <th>keywords</th>\n",
       "      <th>health</th>\n",
       "      <th>social</th>\n",
       "      <th>environment</th>\n",
       "      <th>quality</th>\n",
       "      <th>vegan</th>\n",
       "      <th>gluten-free</th>\n",
       "      <th>vegetarian</th>\n",
       "      <th>lactose-free</th>\n",
       "      <th>allergen-free</th>\n",
       "    </tr>\n",
       "  </thead>\n",
       "  <tbody>\n",
       "    <tr>\n",
       "      <th>0</th>\n",
       "      <td>amazon_data_1</td>\n",
       "      <td>3</td>\n",
       "      <td>Lipton Yellow Label Teabags uses a new way to ...</td>\n",
       "      <td>high quality</td>\n",
       "      <td>NaN</td>\n",
       "      <td>NaN</td>\n",
       "      <td>NaN</td>\n",
       "      <td>1.0</td>\n",
       "      <td>NaN</td>\n",
       "      <td>NaN</td>\n",
       "      <td>NaN</td>\n",
       "      <td>NaN</td>\n",
       "      <td>NaN</td>\n",
       "    </tr>\n",
       "    <tr>\n",
       "      <th>1</th>\n",
       "      <td>amazon_data_1</td>\n",
       "      <td>11</td>\n",
       "      <td>Gur Revdi is made by mixing Sesame seeds with ...</td>\n",
       "      <td>sesame seed</td>\n",
       "      <td>NaN</td>\n",
       "      <td>NaN</td>\n",
       "      <td>NaN</td>\n",
       "      <td>NaN</td>\n",
       "      <td>NaN</td>\n",
       "      <td>NaN</td>\n",
       "      <td>NaN</td>\n",
       "      <td>NaN</td>\n",
       "      <td>-1.0</td>\n",
       "    </tr>\n",
       "    <tr>\n",
       "      <th>2</th>\n",
       "      <td>amazon_data_1</td>\n",
       "      <td>18</td>\n",
       "      <td>Natures Best Nigerian Palm Oil is a popular pa...</td>\n",
       "      <td>palm oil</td>\n",
       "      <td>NaN</td>\n",
       "      <td>NaN</td>\n",
       "      <td>0.0</td>\n",
       "      <td>NaN</td>\n",
       "      <td>NaN</td>\n",
       "      <td>NaN</td>\n",
       "      <td>NaN</td>\n",
       "      <td>NaN</td>\n",
       "      <td>NaN</td>\n",
       "    </tr>\n",
       "    <tr>\n",
       "      <th>3</th>\n",
       "      <td>amazon_data_1</td>\n",
       "      <td>25</td>\n",
       "      <td>Personality: Wise and lively, a breath of fres...</td>\n",
       "      <td>quality standard</td>\n",
       "      <td>NaN</td>\n",
       "      <td>NaN</td>\n",
       "      <td>NaN</td>\n",
       "      <td>1.0</td>\n",
       "      <td>NaN</td>\n",
       "      <td>NaN</td>\n",
       "      <td>NaN</td>\n",
       "      <td>NaN</td>\n",
       "      <td>NaN</td>\n",
       "    </tr>\n",
       "    <tr>\n",
       "      <th>4</th>\n",
       "      <td>amazon_data_1</td>\n",
       "      <td>26</td>\n",
       "      <td>WHOPPERS Malted Milk Balls are the classic con...</td>\n",
       "      <td>artificial flavor, natural flavor, palm oil</td>\n",
       "      <td>0.35</td>\n",
       "      <td>NaN</td>\n",
       "      <td>0.0</td>\n",
       "      <td>NaN</td>\n",
       "      <td>NaN</td>\n",
       "      <td>NaN</td>\n",
       "      <td>NaN</td>\n",
       "      <td>NaN</td>\n",
       "      <td>NaN</td>\n",
       "    </tr>\n",
       "    <tr>\n",
       "      <th>...</th>\n",
       "      <td>...</td>\n",
       "      <td>...</td>\n",
       "      <td>...</td>\n",
       "      <td>...</td>\n",
       "      <td>...</td>\n",
       "      <td>...</td>\n",
       "      <td>...</td>\n",
       "      <td>...</td>\n",
       "      <td>...</td>\n",
       "      <td>...</td>\n",
       "      <td>...</td>\n",
       "      <td>...</td>\n",
       "      <td>...</td>\n",
       "    </tr>\n",
       "    <tr>\n",
       "      <th>167518</th>\n",
       "      <td>amazon_data_1</td>\n",
       "      <td>202956</td>\n",
       "      <td>A unique blend of herbs, Just Goddess from Ham...</td>\n",
       "      <td>allergen product</td>\n",
       "      <td>1.00</td>\n",
       "      <td>-1.0</td>\n",
       "      <td>NaN</td>\n",
       "      <td>NaN</td>\n",
       "      <td>-1.0</td>\n",
       "      <td>NaN</td>\n",
       "      <td>NaN</td>\n",
       "      <td>NaN</td>\n",
       "      <td>-1.0</td>\n",
       "    </tr>\n",
       "    <tr>\n",
       "      <th>167519</th>\n",
       "      <td>amazon_data_1</td>\n",
       "      <td>202957</td>\n",
       "      <td>Caffarel fruit jellies are a product of Italy....</td>\n",
       "      <td>gell agent, gluten free</td>\n",
       "      <td>0.00</td>\n",
       "      <td>NaN</td>\n",
       "      <td>NaN</td>\n",
       "      <td>NaN</td>\n",
       "      <td>NaN</td>\n",
       "      <td>0.76</td>\n",
       "      <td>NaN</td>\n",
       "      <td>NaN</td>\n",
       "      <td>NaN</td>\n",
       "    </tr>\n",
       "    <tr>\n",
       "      <th>167520</th>\n",
       "      <td>amazon_data_1</td>\n",
       "      <td>202957</td>\n",
       "      <td>Caffarel fruit jellies are a product of Italy....</td>\n",
       "      <td>gell agent, gluten free</td>\n",
       "      <td>0.00</td>\n",
       "      <td>NaN</td>\n",
       "      <td>NaN</td>\n",
       "      <td>NaN</td>\n",
       "      <td>NaN</td>\n",
       "      <td>0.76</td>\n",
       "      <td>NaN</td>\n",
       "      <td>NaN</td>\n",
       "      <td>NaN</td>\n",
       "    </tr>\n",
       "    <tr>\n",
       "      <th>167521</th>\n",
       "      <td>amazon_data_1</td>\n",
       "      <td>202958</td>\n",
       "      <td>Hampton Creeks Just Mayo Truffle makes fancy f...</td>\n",
       "      <td>allergen product</td>\n",
       "      <td>1.00</td>\n",
       "      <td>-1.0</td>\n",
       "      <td>NaN</td>\n",
       "      <td>NaN</td>\n",
       "      <td>-1.0</td>\n",
       "      <td>NaN</td>\n",
       "      <td>NaN</td>\n",
       "      <td>NaN</td>\n",
       "      <td>-1.0</td>\n",
       "    </tr>\n",
       "    <tr>\n",
       "      <th>167522</th>\n",
       "      <td>amazon_data_1</td>\n",
       "      <td>202959</td>\n",
       "      <td>Nothing compares with the classically zesty fl...</td>\n",
       "      <td>allergen product</td>\n",
       "      <td>1.00</td>\n",
       "      <td>-1.0</td>\n",
       "      <td>NaN</td>\n",
       "      <td>NaN</td>\n",
       "      <td>-1.0</td>\n",
       "      <td>NaN</td>\n",
       "      <td>NaN</td>\n",
       "      <td>NaN</td>\n",
       "      <td>-1.0</td>\n",
       "    </tr>\n",
       "  </tbody>\n",
       "</table>\n",
       "<p>167523 rows × 13 columns</p>\n",
       "</div>"
      ],
      "text/plain": [
       "               source     idx  \\\n",
       "0       amazon_data_1       3   \n",
       "1       amazon_data_1      11   \n",
       "2       amazon_data_1      18   \n",
       "3       amazon_data_1      25   \n",
       "4       amazon_data_1      26   \n",
       "...               ...     ...   \n",
       "167518  amazon_data_1  202956   \n",
       "167519  amazon_data_1  202957   \n",
       "167520  amazon_data_1  202957   \n",
       "167521  amazon_data_1  202958   \n",
       "167522  amazon_data_1  202959   \n",
       "\n",
       "                                      product_description  \\\n",
       "0       Lipton Yellow Label Teabags uses a new way to ...   \n",
       "1       Gur Revdi is made by mixing Sesame seeds with ...   \n",
       "2       Natures Best Nigerian Palm Oil is a popular pa...   \n",
       "3       Personality: Wise and lively, a breath of fres...   \n",
       "4       WHOPPERS Malted Milk Balls are the classic con...   \n",
       "...                                                   ...   \n",
       "167518  A unique blend of herbs, Just Goddess from Ham...   \n",
       "167519  Caffarel fruit jellies are a product of Italy....   \n",
       "167520  Caffarel fruit jellies are a product of Italy....   \n",
       "167521  Hampton Creeks Just Mayo Truffle makes fancy f...   \n",
       "167522  Nothing compares with the classically zesty fl...   \n",
       "\n",
       "                                           keywords  health  social  \\\n",
       "0                                      high quality     NaN     NaN   \n",
       "1                                       sesame seed     NaN     NaN   \n",
       "2                                          palm oil     NaN     NaN   \n",
       "3                                  quality standard     NaN     NaN   \n",
       "4       artificial flavor, natural flavor, palm oil    0.35     NaN   \n",
       "...                                             ...     ...     ...   \n",
       "167518                             allergen product    1.00    -1.0   \n",
       "167519                      gell agent, gluten free    0.00     NaN   \n",
       "167520                      gell agent, gluten free    0.00     NaN   \n",
       "167521                             allergen product    1.00    -1.0   \n",
       "167522                             allergen product    1.00    -1.0   \n",
       "\n",
       "        environment  quality  vegan  gluten-free  vegetarian  lactose-free  \\\n",
       "0               NaN      1.0    NaN          NaN         NaN           NaN   \n",
       "1               NaN      NaN    NaN          NaN         NaN           NaN   \n",
       "2               0.0      NaN    NaN          NaN         NaN           NaN   \n",
       "3               NaN      1.0    NaN          NaN         NaN           NaN   \n",
       "4               0.0      NaN    NaN          NaN         NaN           NaN   \n",
       "...             ...      ...    ...          ...         ...           ...   \n",
       "167518          NaN      NaN   -1.0          NaN         NaN           NaN   \n",
       "167519          NaN      NaN    NaN         0.76         NaN           NaN   \n",
       "167520          NaN      NaN    NaN         0.76         NaN           NaN   \n",
       "167521          NaN      NaN   -1.0          NaN         NaN           NaN   \n",
       "167522          NaN      NaN   -1.0          NaN         NaN           NaN   \n",
       "\n",
       "        allergen-free  \n",
       "0                 NaN  \n",
       "1                -1.0  \n",
       "2                 NaN  \n",
       "3                 NaN  \n",
       "4                 NaN  \n",
       "...               ...  \n",
       "167518           -1.0  \n",
       "167519            NaN  \n",
       "167520            NaN  \n",
       "167521           -1.0  \n",
       "167522           -1.0  \n",
       "\n",
       "[167523 rows x 13 columns]"
      ]
     },
     "execution_count": 154,
     "metadata": {},
     "output_type": "execute_result"
    }
   ],
   "source": [
    "green_products = dbWriter.read_table(\"v_green_product_info\")\n",
    "green_products"
   ]
  },
  {
   "cell_type": "code",
   "execution_count": 87,
   "id": "53b17376",
   "metadata": {
    "slideshow": {
     "slide_type": "fragment"
    }
   },
   "outputs": [
    {
     "data": {
      "text/html": [
       "<div>\n",
       "<style scoped>\n",
       "    .dataframe tbody tr th:only-of-type {\n",
       "        vertical-align: middle;\n",
       "    }\n",
       "\n",
       "    .dataframe tbody tr th {\n",
       "        vertical-align: top;\n",
       "    }\n",
       "\n",
       "    .dataframe thead th {\n",
       "        text-align: right;\n",
       "    }\n",
       "</style>\n",
       "<table border=\"1\" class=\"dataframe\">\n",
       "  <thead>\n",
       "    <tr style=\"text-align: right;\">\n",
       "      <th></th>\n",
       "      <th>Environment</th>\n",
       "      <th>Health</th>\n",
       "      <th>Quality</th>\n",
       "      <th>Social</th>\n",
       "    </tr>\n",
       "    <tr>\n",
       "      <th>product_idx</th>\n",
       "      <th></th>\n",
       "      <th></th>\n",
       "      <th></th>\n",
       "      <th></th>\n",
       "    </tr>\n",
       "  </thead>\n",
       "  <tbody>\n",
       "    <tr>\n",
       "      <th>3</th>\n",
       "      <td>NaN</td>\n",
       "      <td>NaN</td>\n",
       "      <td>1.0</td>\n",
       "      <td>NaN</td>\n",
       "    </tr>\n",
       "    <tr>\n",
       "      <th>18</th>\n",
       "      <td>0.0</td>\n",
       "      <td>NaN</td>\n",
       "      <td>NaN</td>\n",
       "      <td>NaN</td>\n",
       "    </tr>\n",
       "    <tr>\n",
       "      <th>25</th>\n",
       "      <td>NaN</td>\n",
       "      <td>NaN</td>\n",
       "      <td>1.0</td>\n",
       "      <td>NaN</td>\n",
       "    </tr>\n",
       "    <tr>\n",
       "      <th>26</th>\n",
       "      <td>0.0</td>\n",
       "      <td>0.346410</td>\n",
       "      <td>NaN</td>\n",
       "      <td>NaN</td>\n",
       "    </tr>\n",
       "    <tr>\n",
       "      <th>27</th>\n",
       "      <td>NaN</td>\n",
       "      <td>0.353553</td>\n",
       "      <td>NaN</td>\n",
       "      <td>-0.707107</td>\n",
       "    </tr>\n",
       "  </tbody>\n",
       "</table>\n",
       "</div>"
      ],
      "text/plain": [
       "             Environment    Health  Quality    Social\n",
       "product_idx                                          \n",
       "3                    NaN       NaN      1.0       NaN\n",
       "18                   0.0       NaN      NaN       NaN\n",
       "25                   NaN       NaN      1.0       NaN\n",
       "26                   0.0  0.346410      NaN       NaN\n",
       "27                   NaN  0.353553      NaN -0.707107"
      ]
     },
     "execution_count": 87,
     "metadata": {},
     "output_type": "execute_result"
    }
   ],
   "source": [
    "final_mapping = keywords_mapper.aggregate_mapping(by=\"preference category\", conditional=False)\n",
    "final_mapping.columns = [\"Environment\", \"Health\", \"Quality\", \"Social\"]\n",
    "final_mapping.head(5)"
   ]
  },
  {
   "cell_type": "code",
   "execution_count": 155,
   "id": "e8a44f1b",
   "metadata": {},
   "outputs": [
    {
     "data": {
      "text/html": [
       "<div>\n",
       "<style scoped>\n",
       "    .dataframe tbody tr th:only-of-type {\n",
       "        vertical-align: middle;\n",
       "    }\n",
       "\n",
       "    .dataframe tbody tr th {\n",
       "        vertical-align: top;\n",
       "    }\n",
       "\n",
       "    .dataframe thead th {\n",
       "        text-align: right;\n",
       "    }\n",
       "</style>\n",
       "<table border=\"1\" class=\"dataframe\">\n",
       "  <thead>\n",
       "    <tr style=\"text-align: right;\">\n",
       "      <th></th>\n",
       "      <th>Environment</th>\n",
       "      <th>Health</th>\n",
       "      <th>Quality</th>\n",
       "      <th>Social</th>\n",
       "    </tr>\n",
       "    <tr>\n",
       "      <th>product_idx</th>\n",
       "      <th></th>\n",
       "      <th></th>\n",
       "      <th></th>\n",
       "      <th></th>\n",
       "    </tr>\n",
       "  </thead>\n",
       "  <tbody>\n",
       "    <tr>\n",
       "      <th>3</th>\n",
       "      <td>NaN</td>\n",
       "      <td>NaN</td>\n",
       "      <td>1.0</td>\n",
       "      <td>NaN</td>\n",
       "    </tr>\n",
       "    <tr>\n",
       "      <th>18</th>\n",
       "      <td>0.0</td>\n",
       "      <td>NaN</td>\n",
       "      <td>NaN</td>\n",
       "      <td>NaN</td>\n",
       "    </tr>\n",
       "    <tr>\n",
       "      <th>25</th>\n",
       "      <td>NaN</td>\n",
       "      <td>NaN</td>\n",
       "      <td>1.0</td>\n",
       "      <td>NaN</td>\n",
       "    </tr>\n",
       "    <tr>\n",
       "      <th>26</th>\n",
       "      <td>0.0</td>\n",
       "      <td>0.345399</td>\n",
       "      <td>NaN</td>\n",
       "      <td>NaN</td>\n",
       "    </tr>\n",
       "    <tr>\n",
       "      <th>27</th>\n",
       "      <td>NaN</td>\n",
       "      <td>0.353553</td>\n",
       "      <td>NaN</td>\n",
       "      <td>-0.707107</td>\n",
       "    </tr>\n",
       "  </tbody>\n",
       "</table>\n",
       "</div>"
      ],
      "text/plain": [
       "             Environment    Health  Quality    Social\n",
       "product_idx                                          \n",
       "3                    NaN       NaN      1.0       NaN\n",
       "18                   0.0       NaN      NaN       NaN\n",
       "25                   NaN       NaN      1.0       NaN\n",
       "26                   0.0  0.345399      NaN       NaN\n",
       "27                   NaN  0.353553      NaN -0.707107"
      ]
     },
     "execution_count": 155,
     "metadata": {},
     "output_type": "execute_result"
    }
   ],
   "source": [
    "final_mapping = keywords_mapper.aggregate_mapping(by=\"preference category\", conditional=False)\n",
    "final_mapping.columns = [\"Environment\", \"Health\", \"Quality\", \"Social\"]\n",
    "final_mapping.head(5)"
   ]
  },
  {
   "cell_type": "code",
   "execution_count": 88,
   "id": "3f76c0f2",
   "metadata": {},
   "outputs": [
    {
     "data": {
      "text/html": [
       "<div>\n",
       "<style scoped>\n",
       "    .dataframe tbody tr th:only-of-type {\n",
       "        vertical-align: middle;\n",
       "    }\n",
       "\n",
       "    .dataframe tbody tr th {\n",
       "        vertical-align: top;\n",
       "    }\n",
       "\n",
       "    .dataframe thead th {\n",
       "        text-align: right;\n",
       "    }\n",
       "</style>\n",
       "<table border=\"1\" class=\"dataframe\">\n",
       "  <thead>\n",
       "    <tr style=\"text-align: right;\">\n",
       "      <th></th>\n",
       "      <th>product_idx</th>\n",
       "      <th>onto_idx</th>\n",
       "      <th>imp_score</th>\n",
       "      <th>tag</th>\n",
       "      <th>preference</th>\n",
       "      <th>preference category</th>\n",
       "      <th>association</th>\n",
       "      <th>conditional</th>\n",
       "      <th>association_imp_score</th>\n",
       "    </tr>\n",
       "  </thead>\n",
       "  <tbody>\n",
       "    <tr>\n",
       "      <th>0</th>\n",
       "      <td>3</td>\n",
       "      <td>47</td>\n",
       "      <td>1.0</td>\n",
       "      <td>high quality and standard</td>\n",
       "      <td>Award winning or high quality certified products</td>\n",
       "      <td>Quality</td>\n",
       "      <td>1</td>\n",
       "      <td>False</td>\n",
       "      <td>1.0</td>\n",
       "    </tr>\n",
       "    <tr>\n",
       "      <th>1</th>\n",
       "      <td>11</td>\n",
       "      <td>38</td>\n",
       "      <td>1.0</td>\n",
       "      <td>allergen sesame seed product</td>\n",
       "      <td>Allergen-free products</td>\n",
       "      <td>Health</td>\n",
       "      <td>-1</td>\n",
       "      <td>True</td>\n",
       "      <td>-1.0</td>\n",
       "    </tr>\n",
       "    <tr>\n",
       "      <th>2</th>\n",
       "      <td>18</td>\n",
       "      <td>0</td>\n",
       "      <td>1.0</td>\n",
       "      <td>sustainable palm oil</td>\n",
       "      <td>Products produced and distributed in an enviro...</td>\n",
       "      <td>Environment</td>\n",
       "      <td>1</td>\n",
       "      <td>False</td>\n",
       "      <td>1.0</td>\n",
       "    </tr>\n",
       "    <tr>\n",
       "      <th>3</th>\n",
       "      <td>18</td>\n",
       "      <td>2</td>\n",
       "      <td>1.0</td>\n",
       "      <td>unsustainable palm oil</td>\n",
       "      <td>Products produced and distributed in an enviro...</td>\n",
       "      <td>Environment</td>\n",
       "      <td>-1</td>\n",
       "      <td>False</td>\n",
       "      <td>-1.0</td>\n",
       "    </tr>\n",
       "    <tr>\n",
       "      <th>4</th>\n",
       "      <td>18</td>\n",
       "      <td>259</td>\n",
       "      <td>1.0</td>\n",
       "      <td>palm oil free</td>\n",
       "      <td>Products produced and distributed in an enviro...</td>\n",
       "      <td>Environment</td>\n",
       "      <td>1</td>\n",
       "      <td>False</td>\n",
       "      <td>1.0</td>\n",
       "    </tr>\n",
       "    <tr>\n",
       "      <th>...</th>\n",
       "      <td>...</td>\n",
       "      <td>...</td>\n",
       "      <td>...</td>\n",
       "      <td>...</td>\n",
       "      <td>...</td>\n",
       "      <td>...</td>\n",
       "      <td>...</td>\n",
       "      <td>...</td>\n",
       "      <td>...</td>\n",
       "    </tr>\n",
       "    <tr>\n",
       "      <th>333432</th>\n",
       "      <td>202959</td>\n",
       "      <td>99</td>\n",
       "      <td>1.0</td>\n",
       "      <td>allergen fish product</td>\n",
       "      <td>Allergen-free products</td>\n",
       "      <td>Health</td>\n",
       "      <td>-1</td>\n",
       "      <td>True</td>\n",
       "      <td>-1.0</td>\n",
       "    </tr>\n",
       "    <tr>\n",
       "      <th>333433</th>\n",
       "      <td>202959</td>\n",
       "      <td>100</td>\n",
       "      <td>1.0</td>\n",
       "      <td>allergen fish product</td>\n",
       "      <td>High-protein products</td>\n",
       "      <td>Health</td>\n",
       "      <td>1</td>\n",
       "      <td>False</td>\n",
       "      <td>1.0</td>\n",
       "    </tr>\n",
       "    <tr>\n",
       "      <th>333434</th>\n",
       "      <td>202959</td>\n",
       "      <td>101</td>\n",
       "      <td>1.0</td>\n",
       "      <td>allergen fish product</td>\n",
       "      <td>Products from companies that support animal ri...</td>\n",
       "      <td>Social</td>\n",
       "      <td>-1</td>\n",
       "      <td>False</td>\n",
       "      <td>-1.0</td>\n",
       "    </tr>\n",
       "    <tr>\n",
       "      <th>333435</th>\n",
       "      <td>202959</td>\n",
       "      <td>102</td>\n",
       "      <td>1.0</td>\n",
       "      <td>allergen fish product</td>\n",
       "      <td>Vegan products</td>\n",
       "      <td>Health</td>\n",
       "      <td>-1</td>\n",
       "      <td>True</td>\n",
       "      <td>-1.0</td>\n",
       "    </tr>\n",
       "    <tr>\n",
       "      <th>333436</th>\n",
       "      <td>202959</td>\n",
       "      <td>117</td>\n",
       "      <td>1.0</td>\n",
       "      <td>allergen nut product</td>\n",
       "      <td>Allergen-free products</td>\n",
       "      <td>Health</td>\n",
       "      <td>-1</td>\n",
       "      <td>True</td>\n",
       "      <td>-1.0</td>\n",
       "    </tr>\n",
       "  </tbody>\n",
       "</table>\n",
       "<p>333437 rows × 9 columns</p>\n",
       "</div>"
      ],
      "text/plain": [
       "        product_idx  onto_idx  imp_score                           tag  \\\n",
       "0                 3        47        1.0     high quality and standard   \n",
       "1                11        38        1.0  allergen sesame seed product   \n",
       "2                18         0        1.0          sustainable palm oil   \n",
       "3                18         2        1.0        unsustainable palm oil   \n",
       "4                18       259        1.0                 palm oil free   \n",
       "...             ...       ...        ...                           ...   \n",
       "333432       202959        99        1.0         allergen fish product   \n",
       "333433       202959       100        1.0         allergen fish product   \n",
       "333434       202959       101        1.0         allergen fish product   \n",
       "333435       202959       102        1.0         allergen fish product   \n",
       "333436       202959       117        1.0          allergen nut product   \n",
       "\n",
       "                                               preference preference category  \\\n",
       "0        Award winning or high quality certified products             Quality   \n",
       "1                                  Allergen-free products              Health   \n",
       "2       Products produced and distributed in an enviro...         Environment   \n",
       "3       Products produced and distributed in an enviro...         Environment   \n",
       "4       Products produced and distributed in an enviro...         Environment   \n",
       "...                                                   ...                 ...   \n",
       "333432                             Allergen-free products              Health   \n",
       "333433                              High-protein products              Health   \n",
       "333434  Products from companies that support animal ri...              Social   \n",
       "333435                                     Vegan products              Health   \n",
       "333436                             Allergen-free products              Health   \n",
       "\n",
       "        association  conditional  association_imp_score  \n",
       "0                 1        False                    1.0  \n",
       "1                -1         True                   -1.0  \n",
       "2                 1        False                    1.0  \n",
       "3                -1        False                   -1.0  \n",
       "4                 1        False                    1.0  \n",
       "...             ...          ...                    ...  \n",
       "333432           -1         True                   -1.0  \n",
       "333433            1        False                    1.0  \n",
       "333434           -1        False                   -1.0  \n",
       "333435           -1         True                   -1.0  \n",
       "333436           -1         True                   -1.0  \n",
       "\n",
       "[333437 rows x 9 columns]"
      ]
     },
     "execution_count": 88,
     "metadata": {},
     "output_type": "execute_result"
    }
   ],
   "source": [
    "keywords_mapper.df"
   ]
  },
  {
   "cell_type": "code",
   "execution_count": 89,
   "id": "a81ebf9b",
   "metadata": {},
   "outputs": [],
   "source": [
    "final_mapping.to_csv(\"aggregated_mappings.csv\")"
   ]
  },
  {
   "cell_type": "code",
   "execution_count": 90,
   "id": "45e75d8f",
   "metadata": {
    "slideshow": {
     "slide_type": "fragment"
    }
   },
   "outputs": [
    {
     "data": {
      "text/html": [
       "<div>\n",
       "<style scoped>\n",
       "    .dataframe tbody tr th:only-of-type {\n",
       "        vertical-align: middle;\n",
       "    }\n",
       "\n",
       "    .dataframe tbody tr th {\n",
       "        vertical-align: top;\n",
       "    }\n",
       "\n",
       "    .dataframe thead th {\n",
       "        text-align: right;\n",
       "    }\n",
       "</style>\n",
       "<table border=\"1\" class=\"dataframe\">\n",
       "  <thead>\n",
       "    <tr style=\"text-align: right;\">\n",
       "      <th></th>\n",
       "      <th>Environment</th>\n",
       "      <th>Health</th>\n",
       "      <th>Quality</th>\n",
       "      <th>Social</th>\n",
       "    </tr>\n",
       "    <tr>\n",
       "      <th>product_idx</th>\n",
       "      <th></th>\n",
       "      <th></th>\n",
       "      <th></th>\n",
       "      <th></th>\n",
       "    </tr>\n",
       "  </thead>\n",
       "  <tbody>\n",
       "    <tr>\n",
       "      <th>26</th>\n",
       "      <td>0.0</td>\n",
       "      <td>0.346410</td>\n",
       "      <td>NaN</td>\n",
       "      <td>NaN</td>\n",
       "    </tr>\n",
       "    <tr>\n",
       "      <th>27</th>\n",
       "      <td>NaN</td>\n",
       "      <td>0.353553</td>\n",
       "      <td>NaN</td>\n",
       "      <td>-0.707107</td>\n",
       "    </tr>\n",
       "    <tr>\n",
       "      <th>29</th>\n",
       "      <td>0.0</td>\n",
       "      <td>0.353553</td>\n",
       "      <td>NaN</td>\n",
       "      <td>NaN</td>\n",
       "    </tr>\n",
       "    <tr>\n",
       "      <th>33</th>\n",
       "      <td>NaN</td>\n",
       "      <td>0.277778</td>\n",
       "      <td>NaN</td>\n",
       "      <td>-0.500000</td>\n",
       "    </tr>\n",
       "    <tr>\n",
       "      <th>37</th>\n",
       "      <td>0.0</td>\n",
       "      <td>0.447214</td>\n",
       "      <td>NaN</td>\n",
       "      <td>-0.447214</td>\n",
       "    </tr>\n",
       "  </tbody>\n",
       "</table>\n",
       "</div>"
      ],
      "text/plain": [
       "             Environment    Health  Quality    Social\n",
       "product_idx                                          \n",
       "26                   0.0  0.346410      NaN       NaN\n",
       "27                   NaN  0.353553      NaN -0.707107\n",
       "29                   0.0  0.353553      NaN       NaN\n",
       "33                   NaN  0.277778      NaN -0.500000\n",
       "37                   0.0  0.447214      NaN -0.447214"
      ]
     },
     "execution_count": 90,
     "metadata": {},
     "output_type": "execute_result"
    }
   ],
   "source": [
    "final_mapping[final_mapping.count(axis=1)>1].head(5)"
   ]
  },
  {
   "cell_type": "markdown",
   "id": "f976e482",
   "metadata": {
    "slideshow": {
     "slide_type": "subslide"
    }
   },
   "source": [
    "## Examples"
   ]
  },
  {
   "cell_type": "code",
   "execution_count": 91,
   "id": "d35833cb",
   "metadata": {
    "slideshow": {
     "slide_type": "subslide"
    }
   },
   "outputs": [
    {
     "name": "stdout",
     "output_type": "stream",
     "text": [
      "Sample Index: 26\n",
      "Product details for the considered sample: \n",
      "Title: WHOPPERS Candy (Chocolate Covered Malted Milk Candy Balls),7 Ounce Bag (Pack of 12)\n",
      "Description: whoppers malted milk balls are the classic confections that have delighted chocolate lovers for decades enjoy the classic combination of crunchy malt and smooth milk chocolate whoppers candies are the perfect snack for the office home or on the go you can even use them for edible crafts or baking great for filling candy bowls snacking with your favorite movie or tv show or simply enjoying as an afternoon treat whoppers malted milk balls are ou certified as a kosher food stock up for snacks and special events with this pack of individual ounce bags all major allergens are contained and listed as ingredients on our labels as recommended by food allergy and anaphylaxis network faan please check the label on each package before purchasing sugar corn syrup partially hydrogenated palm kernel oil whey milk malted milk barley malt wheat flour milk salt sodium bicarbonate cocoa contains or less of resinous glaze sorbitan tristearate soy lecithin salt natural and artificial flavor calcium carbonate tapioca dextrin statements regarding dietary supplements have not been evaluated by the fda and are not intended to diagnose treat cure or prevent any disease or health condition\n",
      "Keyword Identified: ['artificial flavor' 'natural flavor' 'palm oil']\n",
      "             Environment   Health  Quality  Social\n",
      "product_idx                                       \n",
      "26                   0.0  0.34641      NaN     NaN\n"
     ]
    },
    {
     "data": {
      "text/html": [
       "<div>\n",
       "<style scoped>\n",
       "    .dataframe tbody tr th:only-of-type {\n",
       "        vertical-align: middle;\n",
       "    }\n",
       "\n",
       "    .dataframe tbody tr th {\n",
       "        vertical-align: top;\n",
       "    }\n",
       "\n",
       "    .dataframe thead th {\n",
       "        text-align: right;\n",
       "    }\n",
       "</style>\n",
       "<table border=\"1\" class=\"dataframe\">\n",
       "  <thead>\n",
       "    <tr style=\"text-align: right;\">\n",
       "      <th></th>\n",
       "      <th>tag</th>\n",
       "      <th>preference</th>\n",
       "      <th>association</th>\n",
       "    </tr>\n",
       "    <tr>\n",
       "      <th>idx</th>\n",
       "      <th></th>\n",
       "      <th></th>\n",
       "      <th></th>\n",
       "    </tr>\n",
       "  </thead>\n",
       "  <tbody>\n",
       "    <tr>\n",
       "      <th>0</th>\n",
       "      <td>sustainable palm oil</td>\n",
       "      <td>Products produced and distributed in an enviro...</td>\n",
       "      <td>1</td>\n",
       "    </tr>\n",
       "    <tr>\n",
       "      <th>2</th>\n",
       "      <td>unsustainable palm oil</td>\n",
       "      <td>Products produced and distributed in an enviro...</td>\n",
       "      <td>-1</td>\n",
       "    </tr>\n",
       "    <tr>\n",
       "      <th>46</th>\n",
       "      <td>free of artificial flavor</td>\n",
       "      <td>Products without artificial colours or flavor ...</td>\n",
       "      <td>1</td>\n",
       "    </tr>\n",
       "    <tr>\n",
       "      <th>50</th>\n",
       "      <td>without artificial flavor</td>\n",
       "      <td>Products without artificial colours or flavor ...</td>\n",
       "      <td>1</td>\n",
       "    </tr>\n",
       "    <tr>\n",
       "      <th>123</th>\n",
       "      <td>no artificial flavor</td>\n",
       "      <td>Products without artificial colours or flavor ...</td>\n",
       "      <td>1</td>\n",
       "    </tr>\n",
       "    <tr>\n",
       "      <th>164</th>\n",
       "      <td>artificial flavor</td>\n",
       "      <td>Products without artificial colours or flavor ...</td>\n",
       "      <td>-1</td>\n",
       "    </tr>\n",
       "    <tr>\n",
       "      <th>240</th>\n",
       "      <td>natural flavor</td>\n",
       "      <td>Products without artificial colours or flavor ...</td>\n",
       "      <td>1</td>\n",
       "    </tr>\n",
       "    <tr>\n",
       "      <th>259</th>\n",
       "      <td>palm oil free</td>\n",
       "      <td>Products produced and distributed in an enviro...</td>\n",
       "      <td>1</td>\n",
       "    </tr>\n",
       "    <tr>\n",
       "      <th>363</th>\n",
       "      <td>palm oil</td>\n",
       "      <td>Products produced and distributed in an enviro...</td>\n",
       "      <td>-1</td>\n",
       "    </tr>\n",
       "  </tbody>\n",
       "</table>\n",
       "</div>"
      ],
      "text/plain": [
       "                           tag  \\\n",
       "idx                              \n",
       "0         sustainable palm oil   \n",
       "2       unsustainable palm oil   \n",
       "46   free of artificial flavor   \n",
       "50   without artificial flavor   \n",
       "123       no artificial flavor   \n",
       "164          artificial flavor   \n",
       "240             natural flavor   \n",
       "259              palm oil free   \n",
       "363                   palm oil   \n",
       "\n",
       "                                            preference  association  \n",
       "idx                                                                  \n",
       "0    Products produced and distributed in an enviro...            1  \n",
       "2    Products produced and distributed in an enviro...           -1  \n",
       "46   Products without artificial colours or flavor ...            1  \n",
       "50   Products without artificial colours or flavor ...            1  \n",
       "123  Products without artificial colours or flavor ...            1  \n",
       "164  Products without artificial colours or flavor ...           -1  \n",
       "240  Products without artificial colours or flavor ...            1  \n",
       "259  Products produced and distributed in an enviro...            1  \n",
       "363  Products produced and distributed in an enviro...           -1  "
      ]
     },
     "execution_count": 91,
     "metadata": {},
     "output_type": "execute_result"
    }
   ],
   "source": [
    "sample_index = 26\n",
    "print(f\"Sample Index: {sample_index}\")\n",
    "print(f\"Product details for the considered sample: \\nTitle: {amazon_data.iloc[sample_index]['title']}\")\n",
    "print(f\"Description: {amazon_data.iloc[sample_index]['description']}\")\n",
    "print(f\"Keyword Identified: {tfidf.get_feature_names_out()[desc_tfidf[sample_index].indices]}\")\n",
    "print(final_mapping[final_mapping.index==sample_index])\n",
    "vocab_updated.iloc[importance.getrow(sample_index).indices][[\"tag\", \"preference\", \"association\"]]"
   ]
  },
  {
   "cell_type": "code",
   "execution_count": 158,
   "id": "cbd48935",
   "metadata": {},
   "outputs": [
    {
     "data": {
      "text/plain": [
       "(array([0.54449839, 0.54449839, 0.54449839, 0.54449839, 0.54449839,\n",
       "        0.54449839, 0.63799922, 0.54449839, 0.54449839]),\n",
       " array([  0,   2,  46,  50, 123, 164, 240, 259, 363]))"
      ]
     },
     "execution_count": 158,
     "metadata": {},
     "output_type": "execute_result"
    }
   ],
   "source": [
    "importance.getrow(26).data, importance.getrow(26).indices "
   ]
  },
  {
   "cell_type": "code",
   "execution_count": 159,
   "id": "54bcb2aa",
   "metadata": {},
   "outputs": [
    {
     "data": {
      "text/plain": [
       "(array([0.54449839, 0.63799922, 0.54449839]), array([ 66, 319, 398]))"
      ]
     },
     "execution_count": 159,
     "metadata": {},
     "output_type": "execute_result"
    }
   ],
   "source": [
    "desc_tfidf.getrow(26).data, desc_tfidf.getrow(26).indices "
   ]
  },
  {
   "cell_type": "code",
   "execution_count": 167,
   "id": "0d7cdad2",
   "metadata": {},
   "outputs": [
    {
     "data": {
      "text/plain": [
       "array([5.3359827, 5.3359827, 5.3359827, 5.3359827])"
      ]
     },
     "execution_count": 167,
     "metadata": {},
     "output_type": "execute_result"
    }
   ],
   "source": [
    "onto_tfidf.T.getrow(66).data, "
   ]
  },
  {
   "cell_type": "code",
   "execution_count": 92,
   "id": "afa3496c",
   "metadata": {
    "slideshow": {
     "slide_type": "subslide"
    }
   },
   "outputs": [
    {
     "name": "stdout",
     "output_type": "stream",
     "text": [
      "Sample Index: 78\n",
      "Product details for the considered sample: \n",
      "Title: Annie's Naturals Roasted Garlic Flavored Extra Virgin Olive Oil, 8.4-Ounce Bottle\n",
      "Description: this is our top selling oil add rich mellow i ve been cooking for hours taste of roasted garlic to any recipe it s heavenly stirred into pasta or mashed potatoes now made with extra virgin olive oil for even more intense garlic flavor extra virgin olive oil natural flavors extracted from roasted garlic store in a cool dry place oil may get cloudy at cold temperatures statements regarding dietary supplements have not been evaluated by the fda and are not intended to diagnose treat cure or prevent any disease or health condition\n",
      "Keyword Identified: ['natural flavor']\n",
      "             Environment  Health  Quality  Social\n",
      "product_idx                                      \n",
      "78                   NaN     1.0      NaN     NaN\n"
     ]
    },
    {
     "data": {
      "text/html": [
       "<div>\n",
       "<style scoped>\n",
       "    .dataframe tbody tr th:only-of-type {\n",
       "        vertical-align: middle;\n",
       "    }\n",
       "\n",
       "    .dataframe tbody tr th {\n",
       "        vertical-align: top;\n",
       "    }\n",
       "\n",
       "    .dataframe thead th {\n",
       "        text-align: right;\n",
       "    }\n",
       "</style>\n",
       "<table border=\"1\" class=\"dataframe\">\n",
       "  <thead>\n",
       "    <tr style=\"text-align: right;\">\n",
       "      <th></th>\n",
       "      <th>tag</th>\n",
       "      <th>preference</th>\n",
       "      <th>association</th>\n",
       "    </tr>\n",
       "    <tr>\n",
       "      <th>idx</th>\n",
       "      <th></th>\n",
       "      <th></th>\n",
       "      <th></th>\n",
       "    </tr>\n",
       "  </thead>\n",
       "  <tbody>\n",
       "    <tr>\n",
       "      <th>240</th>\n",
       "      <td>natural flavor</td>\n",
       "      <td>Products without artificial colours or flavor ...</td>\n",
       "      <td>1</td>\n",
       "    </tr>\n",
       "  </tbody>\n",
       "</table>\n",
       "</div>"
      ],
      "text/plain": [
       "                tag                                         preference  \\\n",
       "idx                                                                      \n",
       "240  natural flavor  Products without artificial colours or flavor ...   \n",
       "\n",
       "     association  \n",
       "idx               \n",
       "240            1  "
      ]
     },
     "execution_count": 92,
     "metadata": {},
     "output_type": "execute_result"
    }
   ],
   "source": [
    "sample_index = 78\n",
    "print(f\"Sample Index: {sample_index}\")\n",
    "print(f\"Product details for the considered sample: \\nTitle: {amazon_data.iloc[sample_index]['title']}\")\n",
    "print(f\"Description: {amazon_data.iloc[sample_index]['description']}\")\n",
    "print(f\"Keyword Identified: {tfidf.get_feature_names_out()[desc_tfidf[sample_index].indices]}\")\n",
    "print(final_mapping[final_mapping.index==sample_index])\n",
    "vocab_updated.iloc[importance.getrow(sample_index).indices][[\"tag\", \"preference\", \"association\"]]"
   ]
  },
  {
   "cell_type": "code",
   "execution_count": 93,
   "id": "5c403412",
   "metadata": {},
   "outputs": [
    {
     "data": {
      "text/plain": [
       "array([1.])"
      ]
     },
     "execution_count": 93,
     "metadata": {},
     "output_type": "execute_result"
    }
   ],
   "source": [
    "desc_tfidf[78].data"
   ]
  },
  {
   "cell_type": "code",
   "execution_count": 94,
   "id": "ad4bd3fd",
   "metadata": {
    "slideshow": {
     "slide_type": "skip"
    }
   },
   "outputs": [
    {
     "name": "stdout",
     "output_type": "stream",
     "text": [
      "Sample Index: 276\n",
      "Product details for the considered sample: \n",
      "Title: Calorie Control Egg Nog Mix\n",
      "Description: this holiday favorite is now available in a low fat reduced calorie form for health conscious individuals bernard calorie control egg nog mix is made with no added sugar our rich creamy egg nog is not only good for you it is easy to prepare requiring only the addition of water nutritious calorie control egg nog mix is not just for the holidays anymore this flavorful beverage has become a favorite with everyone including those individuals with special dietary needs all year round gluten free add cup mix to cup cold water mix and enjoy statements regarding dietary supplements have not been evaluated by the fda and are not intended to diagnose treat cure or prevent any disease or health condition\n",
      "Keyword Identified: ['fat reduced' 'gluten free' 'low fat']\n",
      "             Environment   Health  Quality  Social\n",
      "product_idx                                       \n",
      "276                  NaN  0.19245      NaN     NaN\n"
     ]
    },
    {
     "data": {
      "text/html": [
       "<div>\n",
       "<style scoped>\n",
       "    .dataframe tbody tr th:only-of-type {\n",
       "        vertical-align: middle;\n",
       "    }\n",
       "\n",
       "    .dataframe tbody tr th {\n",
       "        vertical-align: top;\n",
       "    }\n",
       "\n",
       "    .dataframe thead th {\n",
       "        text-align: right;\n",
       "    }\n",
       "</style>\n",
       "<table border=\"1\" class=\"dataframe\">\n",
       "  <thead>\n",
       "    <tr style=\"text-align: right;\">\n",
       "      <th></th>\n",
       "      <th>tag</th>\n",
       "      <th>preference</th>\n",
       "      <th>association</th>\n",
       "    </tr>\n",
       "    <tr>\n",
       "      <th>idx</th>\n",
       "      <th></th>\n",
       "      <th></th>\n",
       "      <th></th>\n",
       "    </tr>\n",
       "  </thead>\n",
       "  <tbody>\n",
       "    <tr>\n",
       "      <th>179</th>\n",
       "      <td>low saturated fat</td>\n",
       "      <td>Low fat products</td>\n",
       "      <td>-1</td>\n",
       "    </tr>\n",
       "    <tr>\n",
       "      <th>326</th>\n",
       "      <td>fat reduced</td>\n",
       "      <td>Low fat products</td>\n",
       "      <td>1</td>\n",
       "    </tr>\n",
       "    <tr>\n",
       "      <th>327</th>\n",
       "      <td>gluten free</td>\n",
       "      <td>Gluten-free products</td>\n",
       "      <td>1</td>\n",
       "    </tr>\n",
       "    <tr>\n",
       "      <th>364</th>\n",
       "      <td>low fat</td>\n",
       "      <td>Low fat products</td>\n",
       "      <td>1</td>\n",
       "    </tr>\n",
       "  </tbody>\n",
       "</table>\n",
       "</div>"
      ],
      "text/plain": [
       "                   tag            preference  association\n",
       "idx                                                      \n",
       "179  low saturated fat      Low fat products           -1\n",
       "326        fat reduced      Low fat products            1\n",
       "327        gluten free  Gluten-free products            1\n",
       "364            low fat      Low fat products            1"
      ]
     },
     "execution_count": 94,
     "metadata": {},
     "output_type": "execute_result"
    }
   ],
   "source": [
    "sample_index = 276\n",
    "print(f\"Sample Index: {sample_index}\")\n",
    "print(f\"Product details for the considered sample: \\nTitle: {amazon_data.iloc[sample_index]['title']}\")\n",
    "print(f\"Description: {amazon_data.iloc[sample_index]['description']}\")\n",
    "print(f\"Keyword Identified: {tfidf.get_feature_names_out()[desc_tfidf[sample_index].indices]}\")\n",
    "print(final_mapping[final_mapping.index==sample_index])\n",
    "vocab_updated.iloc[importance.getrow(sample_index).indices][[\"tag\", \"preference\", \"association\"]]"
   ]
  },
  {
   "cell_type": "code",
   "execution_count": 95,
   "id": "7d04f4ad",
   "metadata": {
    "slideshow": {
     "slide_type": "skip"
    }
   },
   "outputs": [
    {
     "data": {
      "text/plain": [
       "69185"
      ]
     },
     "execution_count": 95,
     "metadata": {},
     "output_type": "execute_result"
    }
   ],
   "source": [
    "final_mapping.shape[0]"
   ]
  },
  {
   "cell_type": "code",
   "execution_count": 96,
   "id": "ec6349e4",
   "metadata": {},
   "outputs": [
    {
     "data": {
      "text/html": [
       "<div>\n",
       "<style scoped>\n",
       "    .dataframe tbody tr th:only-of-type {\n",
       "        vertical-align: middle;\n",
       "    }\n",
       "\n",
       "    .dataframe tbody tr th {\n",
       "        vertical-align: top;\n",
       "    }\n",
       "\n",
       "    .dataframe thead tr th {\n",
       "        text-align: left;\n",
       "    }\n",
       "\n",
       "    .dataframe thead tr:last-of-type th {\n",
       "        text-align: right;\n",
       "    }\n",
       "</style>\n",
       "<table border=\"1\" class=\"dataframe\">\n",
       "  <thead>\n",
       "    <tr>\n",
       "      <th></th>\n",
       "      <th colspan=\"5\" halign=\"left\">association_imp_score</th>\n",
       "    </tr>\n",
       "    <tr>\n",
       "      <th>preference</th>\n",
       "      <th>Allergen-free products</th>\n",
       "      <th>Gluten-free products</th>\n",
       "      <th>Lactose-free products</th>\n",
       "      <th>Vegan products</th>\n",
       "      <th>Vegetarian products</th>\n",
       "    </tr>\n",
       "    <tr>\n",
       "      <th>product_idx</th>\n",
       "      <th></th>\n",
       "      <th></th>\n",
       "      <th></th>\n",
       "      <th></th>\n",
       "      <th></th>\n",
       "    </tr>\n",
       "  </thead>\n",
       "  <tbody>\n",
       "    <tr>\n",
       "      <th>11</th>\n",
       "      <td>-1.000000</td>\n",
       "      <td>NaN</td>\n",
       "      <td>NaN</td>\n",
       "      <td>NaN</td>\n",
       "      <td>NaN</td>\n",
       "    </tr>\n",
       "    <tr>\n",
       "      <th>27</th>\n",
       "      <td>-0.707107</td>\n",
       "      <td>NaN</td>\n",
       "      <td>-0.707107</td>\n",
       "      <td>-0.707107</td>\n",
       "      <td>NaN</td>\n",
       "    </tr>\n",
       "    <tr>\n",
       "      <th>33</th>\n",
       "      <td>-0.500000</td>\n",
       "      <td>NaN</td>\n",
       "      <td>-0.500000</td>\n",
       "      <td>-0.500000</td>\n",
       "      <td>NaN</td>\n",
       "    </tr>\n",
       "    <tr>\n",
       "      <th>37</th>\n",
       "      <td>-0.447214</td>\n",
       "      <td>NaN</td>\n",
       "      <td>-0.447214</td>\n",
       "      <td>-0.447214</td>\n",
       "      <td>NaN</td>\n",
       "    </tr>\n",
       "    <tr>\n",
       "      <th>43</th>\n",
       "      <td>NaN</td>\n",
       "      <td>NaN</td>\n",
       "      <td>NaN</td>\n",
       "      <td>-0.577350</td>\n",
       "      <td>-0.57735</td>\n",
       "    </tr>\n",
       "  </tbody>\n",
       "</table>\n",
       "</div>"
      ],
      "text/plain": [
       "             association_imp_score                                             \\\n",
       "preference  Allergen-free products Gluten-free products Lactose-free products   \n",
       "product_idx                                                                     \n",
       "11                       -1.000000                  NaN                   NaN   \n",
       "27                       -0.707107                  NaN             -0.707107   \n",
       "33                       -0.500000                  NaN             -0.500000   \n",
       "37                       -0.447214                  NaN             -0.447214   \n",
       "43                             NaN                  NaN                   NaN   \n",
       "\n",
       "                                                \n",
       "preference  Vegan products Vegetarian products  \n",
       "product_idx                                     \n",
       "11                     NaN                 NaN  \n",
       "27               -0.707107                 NaN  \n",
       "33               -0.500000                 NaN  \n",
       "37               -0.447214                 NaN  \n",
       "43               -0.577350            -0.57735  "
      ]
     },
     "execution_count": 96,
     "metadata": {},
     "output_type": "execute_result"
    }
   ],
   "source": [
    "final_mapping = keywords_mapper.aggregate_mapping(by=\"preference\", conditional=True)\n",
    "final_mapping.head(5)"
   ]
  },
  {
   "cell_type": "code",
   "execution_count": 97,
   "id": "de962ccb",
   "metadata": {},
   "outputs": [
    {
     "data": {
      "text/plain": [
       "(30773, 5)"
      ]
     },
     "execution_count": 97,
     "metadata": {},
     "output_type": "execute_result"
    }
   ],
   "source": [
    "final_mapping.shape"
   ]
  },
  {
   "cell_type": "code",
   "execution_count": 98,
   "id": "d348c792",
   "metadata": {
    "slideshow": {
     "slide_type": "skip"
    }
   },
   "outputs": [],
   "source": [
    "import pickle"
   ]
  },
  {
   "cell_type": "code",
   "execution_count": 99,
   "id": "6a7de9e9",
   "metadata": {
    "slideshow": {
     "slide_type": "skip"
    }
   },
   "outputs": [],
   "source": [
    "pickle.dump(keyword_extractor, open('keyword_extractor', 'wb'))"
   ]
  },
  {
   "cell_type": "code",
   "execution_count": 100,
   "id": "03dd13c7",
   "metadata": {
    "slideshow": {
     "slide_type": "skip"
    }
   },
   "outputs": [],
   "source": [
    "pickle.dump(keywords_mapper, open('keyword_mapper', 'wb'))"
   ]
  },
  {
   "cell_type": "code",
   "execution_count": 101,
   "id": "3fa17db7",
   "metadata": {},
   "outputs": [
    {
     "data": {
      "text/plain": [
       "37     almost forty years ago a man and a woman made ...\n",
       "264    a harmony of chocolates and flowers which make...\n",
       "Name: description, dtype: object"
      ]
     },
     "execution_count": 101,
     "metadata": {},
     "output_type": "execute_result"
    }
   ],
   "source": [
    "sample = amazon_data.iloc[all_mappings[all_mappings[\"tag\"].str.contains(\"allergen milk of mammal and dairy product including lactose\")][\"product_idx\"][:2]]\n",
    "sample[\"description\"]#[sample[\"description\"].str.contains(\"estonia\")]"
   ]
  },
  {
   "cell_type": "code",
   "execution_count": 102,
   "id": "23b45ac8",
   "metadata": {},
   "outputs": [
    {
     "data": {
      "text/plain": [
       "array(['dairy product', 'egg product', 'nut product', 'palm oil'],\n",
       "      dtype=object)"
      ]
     },
     "execution_count": 102,
     "metadata": {},
     "output_type": "execute_result"
    }
   ],
   "source": [
    "keyword_extractor.tfidfVectorizer.get_feature_names_out()[desc_tfidf[264].indices]"
   ]
  }
 ],
 "metadata": {
  "celltoolbar": "Slideshow",
  "kernelspec": {
   "display_name": "Python 3 (ipykernel)",
   "language": "python",
   "name": "python3"
  },
  "language_info": {
   "codemirror_mode": {
    "name": "ipython",
    "version": 3
   },
   "file_extension": ".py",
   "mimetype": "text/x-python",
   "name": "python",
   "nbconvert_exporter": "python",
   "pygments_lexer": "ipython3",
   "version": "3.9.13"
  }
 },
 "nbformat": 4,
 "nbformat_minor": 5
}
